{
 "cells": [
  {
   "cell_type": "code",
   "execution_count": 4,
   "id": "4c1e3822",
   "metadata": {},
   "outputs": [],
   "source": [
    "import torch"
   ]
  },
  {
   "cell_type": "code",
   "execution_count": 7,
   "id": "0a9ee3a2",
   "metadata": {},
   "outputs": [
    {
     "name": "stdout",
     "output_type": "stream",
     "text": [
      "tensor([[0.],\n",
      "        [1.],\n",
      "        [2.],\n",
      "        [3.],\n",
      "        [4.]])\n",
      "tensor([[0., 1., 2., 3., 4.]])\n",
      "tensor([0., 1., 2., 3., 4.])\n",
      "torch.Size([5, 1])\n",
      "torch.Size([1, 5])\n",
      "torch.Size([5])\n"
     ]
    }
   ],
   "source": [
    "a = torch.arange(0, 5, dtype=torch.float).unsqueeze(1)\n",
    "print(a)\n",
    "b = torch.arange(0, 5, dtype=torch.float).unsqueeze(0)\n",
    "print(b)\n",
    "C = torch.arange(0, 5, dtype=torch.float)\n",
    "print(C)\n",
    "print(a.shape)\n",
    "print(b.shape)\n",
    "print(C.shape)"
   ]
  },
  {
   "cell_type": "code",
   "execution_count": null,
   "id": "cc9af1ee",
   "metadata": {},
   "outputs": [],
   "source": []
  }
 ],
 "metadata": {
  "kernelspec": {
   "display_name": "venv",
   "language": "python",
   "name": "python3"
  },
  "language_info": {
   "codemirror_mode": {
    "name": "ipython",
    "version": 3
   },
   "file_extension": ".py",
   "mimetype": "text/x-python",
   "name": "python",
   "nbconvert_exporter": "python",
   "pygments_lexer": "ipython3",
   "version": "3.10.11"
  }
 },
 "nbformat": 4,
 "nbformat_minor": 5
}
