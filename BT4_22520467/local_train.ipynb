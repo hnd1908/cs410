{
 "cells": [
  {
   "cell_type": "code",
   "execution_count": 1,
   "id": "32e34a04",
   "metadata": {},
   "outputs": [],
   "source": [
    "from tqdm.notebook import tqdm"
   ]
  },
  {
   "cell_type": "code",
   "execution_count": 3,
   "id": "88a09270",
   "metadata": {},
   "outputs": [
    {
     "name": "stdout",
     "output_type": "stream",
     "text": [
      "Using device: cuda\n",
      "Device name: NVIDIA GeForce RTX 3070 Laptop GPU\n",
      "Device memory: 7.99951171875 GB\n",
      "Max length of source sentence: 53\n",
      "Max length of target sentence: 64\n",
      "No model to preload, starting from scratch\n"
     ]
    },
    {
     "name": "stderr",
     "output_type": "stream",
     "text": [
      "Processing Epoch 00: 100%|██████████| 3812/3812 [16:30<00:00,  3.85it/s, loss=2.239]\n"
     ]
    },
    {
     "name": "stdout",
     "output_type": "stream",
     "text": [
      "--------------------------------------------------------------------------------\n",
      "    SOURCE: I'll take care of the bill.\n",
      "    TARGET: Tôi sẽ chăm sóc hóa đơn.\n",
      " PREDICTED: Tôi sẽ chăm sóc hóa đơn .\n",
      "--------------------------------------------------------------------------------\n",
      "    SOURCE: What can you offer?\n",
      "    TARGET: bạn có thể cung cấp những gì?\n",
      " PREDICTED: bạn có thể đề nghị gì ?\n",
      "--------------------------------------------------------------------------------\n"
     ]
    },
    {
     "name": "stderr",
     "output_type": "stream",
     "text": [
      "e:\\Documents\\CS410\\Assignment4\\venv\\lib\\site-packages\\torchmetrics\\utilities\\prints.py:61: FutureWarning: Importing `CharErrorRate` from `torchmetrics` was deprecated and will be removed in 2.0. Import `CharErrorRate` from `torchmetrics.text` instead.\n",
      "  _future_warning(\n",
      "e:\\Documents\\CS410\\Assignment4\\venv\\lib\\site-packages\\torchmetrics\\utilities\\prints.py:61: FutureWarning: Importing `WordErrorRate` from `torchmetrics` was deprecated and will be removed in 2.0. Import `WordErrorRate` from `torchmetrics.text` instead.\n",
      "  _future_warning(\n",
      "e:\\Documents\\CS410\\Assignment4\\venv\\lib\\site-packages\\torchmetrics\\utilities\\prints.py:61: FutureWarning: Importing `BLEUScore` from `torchmetrics` was deprecated and will be removed in 2.0. Import `BLEUScore` from `torchmetrics.text` instead.\n",
      "  _future_warning(\n"
     ]
    }
   ],
   "source": [
    "from config import get_config\n",
    "cfg = get_config()\n",
    "\n",
    "from train import train_model\n",
    "train_model(cfg)"
   ]
  },
  {
   "cell_type": "code",
   "execution_count": null,
   "id": "191d9d05",
   "metadata": {},
   "outputs": [],
   "source": []
  }
 ],
 "metadata": {
  "kernelspec": {
   "display_name": "venv",
   "language": "python",
   "name": "python3"
  },
  "language_info": {
   "codemirror_mode": {
    "name": "ipython",
    "version": 3
   },
   "file_extension": ".py",
   "mimetype": "text/x-python",
   "name": "python",
   "nbconvert_exporter": "python",
   "pygments_lexer": "ipython3",
   "version": "3.10.11"
  }
 },
 "nbformat": 4,
 "nbformat_minor": 5
}
