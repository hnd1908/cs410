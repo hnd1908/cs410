{
 "cells": [
  {
   "cell_type": "code",
   "execution_count": null,
   "id": "32e34a04",
   "metadata": {},
   "outputs": [],
   "source": [
    "from tqdm.notebook import tqdm"
   ]
  },
  {
   "cell_type": "code",
   "execution_count": null,
   "id": "7e46809a",
   "metadata": {},
   "outputs": [],
   "source": [
    "from IPython.display import clear_output\n",
    "clear_output(wait=True)"
   ]
  },
  {
   "cell_type": "code",
   "execution_count": null,
   "id": "88a09270",
   "metadata": {},
   "outputs": [
    {
     "name": "stderr",
     "output_type": "stream",
     "text": [
      "Processing Epoch 01:  52%|█████▏    | 2974/5717 [07:50<07:31,  6.08it/s, loss=1.962]"
     ]
    },
    {
     "name": "stdout",
     "output_type": "stream",
     "text": [
      "torch.Size([32, 80, 512]) torch.Size([1, 80, 512])\n",
      "torch.Size([32, 80, 512]) torch.Size([1, 80, 512])\n",
      "torch.Size([32, 80, 512]) torch.Size([1, 80, 512])\n",
      "torch.Size([32, 80, 512]) torch.Size([1, 80, 512])\n"
     ]
    },
    {
     "name": "stderr",
     "output_type": "stream",
     "text": [
      "Processing Epoch 01:  52%|█████▏    | 2976/5717 [07:50<07:35,  6.02it/s, loss=2.057]"
     ]
    },
    {
     "name": "stdout",
     "output_type": "stream",
     "text": [
      "torch.Size([32, 80, 512]) torch.Size([1, 80, 512])\n",
      "torch.Size([32, 80, 512]) torch.Size([1, 80, 512])\n",
      "torch.Size([32, 80, 512]) torch.Size([1, 80, 512])\n",
      "torch.Size([32, 80, 512]) torch.Size([1, 80, 512])\n"
     ]
    },
    {
     "name": "stderr",
     "output_type": "stream",
     "text": [
      "Processing Epoch 01:  52%|█████▏    | 2978/5717 [07:51<07:18,  6.24it/s, loss=1.986]"
     ]
    },
    {
     "name": "stdout",
     "output_type": "stream",
     "text": [
      "torch.Size([32, 80, 512]) torch.Size([1, 80, 512])\n",
      "torch.Size([32, 80, 512]) torch.Size([1, 80, 512])\n",
      "torch.Size([32, 80, 512]) torch.Size([1, 80, 512])\n",
      "torch.Size([32, 80, 512]) torch.Size([1, 80, 512])\n"
     ]
    },
    {
     "name": "stderr",
     "output_type": "stream",
     "text": [
      "Processing Epoch 01:  52%|█████▏    | 2980/5717 [07:51<07:18,  6.24it/s, loss=2.039]"
     ]
    },
    {
     "name": "stdout",
     "output_type": "stream",
     "text": [
      "torch.Size([32, 80, 512]) torch.Size([1, 80, 512])\n",
      "torch.Size([32, 80, 512]) torch.Size([1, 80, 512])\n",
      "torch.Size([32, 80, 512]) torch.Size([1, 80, 512])\n"
     ]
    },
    {
     "name": "stderr",
     "output_type": "stream",
     "text": [
      "Processing Epoch 01:  52%|█████▏    | 2981/5717 [07:51<07:30,  6.07it/s, loss=2.434]"
     ]
    },
    {
     "name": "stdout",
     "output_type": "stream",
     "text": [
      "torch.Size([32, 80, 512]) torch.Size([1, 80, 512])\n",
      "torch.Size([32, 80, 512]) torch.Size([1, 80, 512])\n",
      "torch.Size([32, 80, 512]) torch.Size([1, 80, 512])\n"
     ]
    },
    {
     "name": "stderr",
     "output_type": "stream",
     "text": [
      "Processing Epoch 01:  52%|█████▏    | 2983/5717 [07:51<07:15,  6.27it/s, loss=2.281]"
     ]
    },
    {
     "name": "stdout",
     "output_type": "stream",
     "text": [
      "torch.Size([32, 80, 512]) torch.Size([1, 80, 512])\n",
      "torch.Size([32, 80, 512]) torch.Size([1, 80, 512])\n",
      "torch.Size([32, 80, 512]) torch.Size([1, 80, 512])\n",
      "torch.Size([32, 80, 512]) torch.Size([1, 80, 512])\n"
     ]
    },
    {
     "name": "stderr",
     "output_type": "stream",
     "text": [
      "Processing Epoch 01:  52%|█████▏    | 2985/5717 [07:52<07:11,  6.32it/s, loss=1.989]"
     ]
    },
    {
     "name": "stdout",
     "output_type": "stream",
     "text": [
      "torch.Size([32, 80, 512]) torch.Size([1, 80, 512])\n",
      "torch.Size([32, 80, 512]) torch.Size([1, 80, 512])\n",
      "torch.Size([32, 80, 512]) torch.Size([1, 80, 512])\n",
      "torch.Size([32, 80, 512]) torch.Size([1, 80, 512])\n"
     ]
    },
    {
     "name": "stderr",
     "output_type": "stream",
     "text": [
      "Processing Epoch 01:  52%|█████▏    | 2987/5717 [07:52<07:25,  6.13it/s, loss=2.312]"
     ]
    },
    {
     "name": "stdout",
     "output_type": "stream",
     "text": [
      "torch.Size([32, 80, 512]) torch.Size([1, 80, 512])\n",
      "torch.Size([32, 80, 512]) torch.Size([1, 80, 512])\n",
      "torch.Size([32, 80, 512]) torch.Size([1, 80, 512])\n",
      "torch.Size([32, 80, 512]) torch.Size([1, 80, 512])\n"
     ]
    },
    {
     "name": "stderr",
     "output_type": "stream",
     "text": [
      "Processing Epoch 01:  52%|█████▏    | 2989/5717 [07:52<07:13,  6.29it/s, loss=2.067]"
     ]
    },
    {
     "name": "stdout",
     "output_type": "stream",
     "text": [
      "torch.Size([32, 80, 512]) torch.Size([1, 80, 512])\n",
      "torch.Size([32, 80, 512]) torch.Size([1, 80, 512])\n",
      "torch.Size([32, 80, 512]) torch.Size([1, 80, 512])\n",
      "torch.Size([32, 80, 512]) torch.Size([1, 80, 512])\n"
     ]
    },
    {
     "name": "stderr",
     "output_type": "stream",
     "text": [
      "Processing Epoch 01:  52%|█████▏    | 2991/5717 [07:53<07:21,  6.17it/s, loss=2.016]"
     ]
    },
    {
     "name": "stdout",
     "output_type": "stream",
     "text": [
      "torch.Size([32, 80, 512]) torch.Size([1, 80, 512])\n",
      "torch.Size([32, 80, 512]) torch.Size([1, 80, 512])\n",
      "torch.Size([32, 80, 512]) torch.Size([1, 80, 512])\n"
     ]
    },
    {
     "name": "stderr",
     "output_type": "stream",
     "text": [
      "Processing Epoch 01:  52%|█████▏    | 2992/5717 [07:53<07:18,  6.22it/s, loss=1.847]"
     ]
    },
    {
     "name": "stdout",
     "output_type": "stream",
     "text": [
      "torch.Size([32, 80, 512]) torch.Size([1, 80, 512])\n",
      "torch.Size([32, 80, 512]) torch.Size([1, 80, 512])\n",
      "torch.Size([32, 80, 512]) torch.Size([1, 80, 512])\n"
     ]
    },
    {
     "name": "stderr",
     "output_type": "stream",
     "text": [
      "Processing Epoch 01:  52%|█████▏    | 2994/5717 [07:53<07:30,  6.04it/s, loss=1.938]"
     ]
    },
    {
     "name": "stdout",
     "output_type": "stream",
     "text": [
      "torch.Size([32, 80, 512]) torch.Size([1, 80, 512])\n",
      "torch.Size([32, 80, 512]) torch.Size([1, 80, 512])\n",
      "torch.Size([32, 80, 512]) torch.Size([1, 80, 512])\n",
      "torch.Size([32, 80, 512]) torch.Size([1, 80, 512])\n"
     ]
    },
    {
     "name": "stderr",
     "output_type": "stream",
     "text": [
      "Processing Epoch 01:  52%|█████▏    | 2996/5717 [07:53<07:26,  6.10it/s, loss=2.044]"
     ]
    },
    {
     "name": "stdout",
     "output_type": "stream",
     "text": [
      "torch.Size([32, 80, 512]) torch.Size([1, 80, 512])\n",
      "torch.Size([32, 80, 512]) torch.Size([1, 80, 512])\n",
      "torch.Size([32, 80, 512]) torch.Size([1, 80, 512])\n",
      "torch.Size([32, 80, 512]) torch.Size([1, 80, 512])\n"
     ]
    },
    {
     "name": "stderr",
     "output_type": "stream",
     "text": [
      "Processing Epoch 01:  52%|█████▏    | 2998/5717 [07:54<07:22,  6.14it/s, loss=2.289]"
     ]
    },
    {
     "name": "stdout",
     "output_type": "stream",
     "text": [
      "torch.Size([32, 80, 512]) torch.Size([1, 80, 512])\n",
      "torch.Size([32, 80, 512]) torch.Size([1, 80, 512])\n",
      "torch.Size([32, 80, 512]) torch.Size([1, 80, 512])\n"
     ]
    },
    {
     "name": "stderr",
     "output_type": "stream",
     "text": [
      "Processing Epoch 01:  52%|█████▏    | 2999/5717 [07:54<07:21,  6.15it/s, loss=2.049]"
     ]
    },
    {
     "name": "stdout",
     "output_type": "stream",
     "text": [
      "torch.Size([32, 80, 512]) torch.Size([1, 80, 512])\n",
      "torch.Size([32, 80, 512]) torch.Size([1, 80, 512])\n",
      "torch.Size([32, 80, 512]) torch.Size([1, 80, 512])\n"
     ]
    },
    {
     "name": "stderr",
     "output_type": "stream",
     "text": [
      "Processing Epoch 01:  52%|█████▏    | 3001/5717 [07:54<07:09,  6.33it/s, loss=2.170]"
     ]
    },
    {
     "name": "stdout",
     "output_type": "stream",
     "text": [
      "torch.Size([32, 80, 512]) torch.Size([1, 80, 512])\n",
      "torch.Size([32, 80, 512]) torch.Size([1, 80, 512])\n",
      "torch.Size([32, 80, 512]) torch.Size([1, 80, 512])\n",
      "torch.Size([32, 80, 512]) torch.Size([1, 80, 512])\n"
     ]
    },
    {
     "name": "stderr",
     "output_type": "stream",
     "text": [
      "Processing Epoch 01:  53%|█████▎    | 3003/5717 [07:55<07:01,  6.44it/s, loss=1.775]"
     ]
    },
    {
     "name": "stdout",
     "output_type": "stream",
     "text": [
      "torch.Size([32, 80, 512]) torch.Size([1, 80, 512])\n",
      "torch.Size([32, 80, 512]) torch.Size([1, 80, 512])\n",
      "torch.Size([32, 80, 512]) torch.Size([1, 80, 512])\n",
      "torch.Size([32, 80, 512]) torch.Size([1, 80, 512])\n"
     ]
    },
    {
     "name": "stderr",
     "output_type": "stream",
     "text": [
      "Processing Epoch 01:  53%|█████▎    | 3005/5717 [07:55<06:58,  6.47it/s, loss=1.928]"
     ]
    },
    {
     "name": "stdout",
     "output_type": "stream",
     "text": [
      "torch.Size([32, 80, 512]) torch.Size([1, 80, 512])\n",
      "torch.Size([32, 80, 512]) torch.Size([1, 80, 512])\n",
      "torch.Size([32, 80, 512]) torch.Size([1, 80, 512])\n",
      "torch.Size([32, 80, 512]) torch.Size([1, 80, 512])\n"
     ]
    },
    {
     "name": "stderr",
     "output_type": "stream",
     "text": [
      "Processing Epoch 01:  53%|█████▎    | 3007/5717 [07:55<06:57,  6.49it/s, loss=1.890]"
     ]
    },
    {
     "name": "stdout",
     "output_type": "stream",
     "text": [
      "torch.Size([32, 80, 512]) torch.Size([1, 80, 512])\n",
      "torch.Size([32, 80, 512]) torch.Size([1, 80, 512])\n",
      "torch.Size([32, 80, 512]) torch.Size([1, 80, 512])\n",
      "torch.Size([32, 80, 512]) torch.Size([1, 80, 512])\n"
     ]
    },
    {
     "name": "stderr",
     "output_type": "stream",
     "text": [
      "Processing Epoch 01:  53%|█████▎    | 3009/5717 [07:55<06:58,  6.47it/s, loss=2.237]"
     ]
    },
    {
     "name": "stdout",
     "output_type": "stream",
     "text": [
      "torch.Size([32, 80, 512]) torch.Size([1, 80, 512])\n",
      "torch.Size([32, 80, 512]) torch.Size([1, 80, 512])\n",
      "torch.Size([32, 80, 512]) torch.Size([1, 80, 512])\n",
      "torch.Size([32, 80, 512]) torch.Size([1, 80, 512])\n"
     ]
    },
    {
     "name": "stderr",
     "output_type": "stream",
     "text": [
      "Processing Epoch 01:  53%|█████▎    | 3011/5717 [07:56<07:25,  6.08it/s, loss=2.166]"
     ]
    },
    {
     "name": "stdout",
     "output_type": "stream",
     "text": [
      "torch.Size([32, 80, 512]) torch.Size([1, 80, 512])\n",
      "torch.Size([32, 80, 512]) torch.Size([1, 80, 512])\n",
      "torch.Size([32, 80, 512]) torch.Size([1, 80, 512])\n",
      "torch.Size([32, 80, 512]) torch.Size([1, 80, 512])\n"
     ]
    },
    {
     "name": "stderr",
     "output_type": "stream",
     "text": [
      "Processing Epoch 01:  53%|█████▎    | 3013/5717 [07:56<07:02,  6.40it/s, loss=2.060]"
     ]
    },
    {
     "name": "stdout",
     "output_type": "stream",
     "text": [
      "torch.Size([32, 80, 512]) torch.Size([1, 80, 512])\n",
      "torch.Size([32, 80, 512]) torch.Size([1, 80, 512])\n",
      "torch.Size([32, 80, 512]) torch.Size([1, 80, 512])\n",
      "torch.Size([32, 80, 512]) torch.Size([1, 80, 512])\n"
     ]
    },
    {
     "name": "stderr",
     "output_type": "stream",
     "text": [
      "Processing Epoch 01:  53%|█████▎    | 3015/5717 [07:56<07:03,  6.38it/s, loss=2.254]"
     ]
    },
    {
     "name": "stdout",
     "output_type": "stream",
     "text": [
      "torch.Size([32, 80, 512]) torch.Size([1, 80, 512])\n",
      "torch.Size([32, 80, 512]) torch.Size([1, 80, 512])\n",
      "torch.Size([32, 80, 512]) torch.Size([1, 80, 512])\n",
      "torch.Size([32, 80, 512]) torch.Size([1, 80, 512])\n"
     ]
    },
    {
     "name": "stderr",
     "output_type": "stream",
     "text": [
      "Processing Epoch 01:  53%|█████▎    | 3017/5717 [07:57<07:00,  6.43it/s, loss=2.058]"
     ]
    },
    {
     "name": "stdout",
     "output_type": "stream",
     "text": [
      "torch.Size([32, 80, 512]) torch.Size([1, 80, 512])\n",
      "torch.Size([32, 80, 512]) torch.Size([1, 80, 512])\n",
      "torch.Size([32, 80, 512]) torch.Size([1, 80, 512])\n",
      "torch.Size([32, 80, 512]) torch.Size([1, 80, 512])\n"
     ]
    },
    {
     "name": "stderr",
     "output_type": "stream",
     "text": [
      "Processing Epoch 01:  53%|█████▎    | 3019/5717 [07:57<07:04,  6.36it/s, loss=2.137]"
     ]
    },
    {
     "name": "stdout",
     "output_type": "stream",
     "text": [
      "torch.Size([32, 80, 512]) torch.Size([1, 80, 512])\n",
      "torch.Size([32, 80, 512]) torch.Size([1, 80, 512])\n",
      "torch.Size([32, 80, 512]) torch.Size([1, 80, 512])\n",
      "torch.Size([32, 80, 512]) torch.Size([1, 80, 512])\n"
     ]
    },
    {
     "name": "stderr",
     "output_type": "stream",
     "text": [
      "Processing Epoch 01:  53%|█████▎    | 3021/5717 [07:57<07:04,  6.35it/s, loss=2.216]"
     ]
    },
    {
     "name": "stdout",
     "output_type": "stream",
     "text": [
      "torch.Size([32, 80, 512]) torch.Size([1, 80, 512])\n",
      "torch.Size([32, 80, 512]) torch.Size([1, 80, 512])\n",
      "torch.Size([32, 80, 512]) torch.Size([1, 80, 512])\n",
      "torch.Size([32, 80, 512]) torch.Size([1, 80, 512])\n"
     ]
    },
    {
     "name": "stderr",
     "output_type": "stream",
     "text": [
      "Processing Epoch 01:  53%|█████▎    | 3023/5717 [07:58<06:57,  6.45it/s, loss=2.015]"
     ]
    },
    {
     "name": "stdout",
     "output_type": "stream",
     "text": [
      "torch.Size([32, 80, 512]) torch.Size([1, 80, 512])\n",
      "torch.Size([32, 80, 512]) torch.Size([1, 80, 512])\n",
      "torch.Size([32, 80, 512]) torch.Size([1, 80, 512])\n",
      "torch.Size([32, 80, 512]) torch.Size([1, 80, 512])\n"
     ]
    },
    {
     "name": "stderr",
     "output_type": "stream",
     "text": [
      "Processing Epoch 01:  53%|█████▎    | 3025/5717 [07:58<06:52,  6.53it/s, loss=1.894]"
     ]
    },
    {
     "name": "stdout",
     "output_type": "stream",
     "text": [
      "torch.Size([32, 80, 512]) torch.Size([1, 80, 512])\n",
      "torch.Size([32, 80, 512]) torch.Size([1, 80, 512])\n",
      "torch.Size([32, 80, 512]) torch.Size([1, 80, 512])\n",
      "torch.Size([32, 80, 512]) torch.Size([1, 80, 512])\n"
     ]
    },
    {
     "name": "stderr",
     "output_type": "stream",
     "text": [
      "Processing Epoch 01:  53%|█████▎    | 3027/5717 [07:58<06:48,  6.58it/s, loss=1.992]"
     ]
    },
    {
     "name": "stdout",
     "output_type": "stream",
     "text": [
      "torch.Size([32, 80, 512]) torch.Size([1, 80, 512])\n",
      "torch.Size([32, 80, 512]) torch.Size([1, 80, 512])\n",
      "torch.Size([32, 80, 512]) torch.Size([1, 80, 512])\n",
      "torch.Size([32, 80, 512]) torch.Size([1, 80, 512])\n"
     ]
    },
    {
     "name": "stderr",
     "output_type": "stream",
     "text": [
      "Processing Epoch 01:  53%|█████▎    | 3029/5717 [07:59<06:54,  6.48it/s, loss=1.900]"
     ]
    },
    {
     "name": "stdout",
     "output_type": "stream",
     "text": [
      "torch.Size([32, 80, 512]) torch.Size([1, 80, 512])\n",
      "torch.Size([32, 80, 512]) torch.Size([1, 80, 512])\n",
      "torch.Size([32, 80, 512]) torch.Size([1, 80, 512])\n",
      "torch.Size([32, 80, 512]) torch.Size([1, 80, 512])\n"
     ]
    },
    {
     "name": "stderr",
     "output_type": "stream",
     "text": [
      "Processing Epoch 01:  53%|█████▎    | 3031/5717 [07:59<06:59,  6.41it/s, loss=1.988]"
     ]
    },
    {
     "name": "stdout",
     "output_type": "stream",
     "text": [
      "torch.Size([32, 80, 512]) torch.Size([1, 80, 512])\n",
      "torch.Size([32, 80, 512]) torch.Size([1, 80, 512])\n",
      "torch.Size([32, 80, 512]) torch.Size([1, 80, 512])\n",
      "torch.Size([32, 80, 512]) torch.Size([1, 80, 512])\n"
     ]
    },
    {
     "name": "stderr",
     "output_type": "stream",
     "text": [
      "Processing Epoch 01:  53%|█████▎    | 3033/5717 [07:59<06:55,  6.45it/s, loss=2.177]"
     ]
    },
    {
     "name": "stdout",
     "output_type": "stream",
     "text": [
      "torch.Size([32, 80, 512]) torch.Size([1, 80, 512])\n",
      "torch.Size([32, 80, 512]) torch.Size([1, 80, 512])\n",
      "torch.Size([32, 80, 512]) torch.Size([1, 80, 512])\n",
      "torch.Size([32, 80, 512]) torch.Size([1, 80, 512])\n"
     ]
    },
    {
     "name": "stderr",
     "output_type": "stream",
     "text": [
      "Processing Epoch 01:  53%|█████▎    | 3035/5717 [08:00<06:51,  6.52it/s, loss=1.942]"
     ]
    },
    {
     "name": "stdout",
     "output_type": "stream",
     "text": [
      "torch.Size([32, 80, 512]) torch.Size([1, 80, 512])\n",
      "torch.Size([32, 80, 512]) torch.Size([1, 80, 512])\n",
      "torch.Size([32, 80, 512]) torch.Size([1, 80, 512])\n",
      "torch.Size([32, 80, 512]) torch.Size([1, 80, 512])\n"
     ]
    },
    {
     "name": "stderr",
     "output_type": "stream",
     "text": [
      "Processing Epoch 01:  53%|█████▎    | 3037/5717 [08:00<06:53,  6.47it/s, loss=1.916]"
     ]
    },
    {
     "name": "stdout",
     "output_type": "stream",
     "text": [
      "torch.Size([32, 80, 512]) torch.Size([1, 80, 512])\n",
      "torch.Size([32, 80, 512]) torch.Size([1, 80, 512])\n",
      "torch.Size([32, 80, 512]) torch.Size([1, 80, 512])\n",
      "torch.Size([32, 80, 512]) torch.Size([1, 80, 512])\n"
     ]
    },
    {
     "name": "stderr",
     "output_type": "stream",
     "text": [
      "Processing Epoch 01:  53%|█████▎    | 3039/5717 [08:00<06:51,  6.51it/s, loss=2.055]"
     ]
    },
    {
     "name": "stdout",
     "output_type": "stream",
     "text": [
      "torch.Size([32, 80, 512]) torch.Size([1, 80, 512])\n",
      "torch.Size([32, 80, 512]) torch.Size([1, 80, 512])\n",
      "torch.Size([32, 80, 512]) torch.Size([1, 80, 512])\n",
      "torch.Size([32, 80, 512]) torch.Size([1, 80, 512])\n"
     ]
    },
    {
     "name": "stderr",
     "output_type": "stream",
     "text": [
      "Processing Epoch 01:  53%|█████▎    | 3041/5717 [08:01<06:51,  6.50it/s, loss=2.148]"
     ]
    },
    {
     "name": "stdout",
     "output_type": "stream",
     "text": [
      "torch.Size([32, 80, 512]) torch.Size([1, 80, 512])\n",
      "torch.Size([32, 80, 512]) torch.Size([1, 80, 512])\n",
      "torch.Size([32, 80, 512]) torch.Size([1, 80, 512])\n",
      "torch.Size([32, 80, 512]) torch.Size([1, 80, 512])\n"
     ]
    },
    {
     "name": "stderr",
     "output_type": "stream",
     "text": [
      "Processing Epoch 01:  53%|█████▎    | 3043/5717 [08:01<06:53,  6.46it/s, loss=2.009]"
     ]
    },
    {
     "name": "stdout",
     "output_type": "stream",
     "text": [
      "torch.Size([32, 80, 512]) torch.Size([1, 80, 512])\n",
      "torch.Size([32, 80, 512]) torch.Size([1, 80, 512])\n",
      "torch.Size([32, 80, 512]) torch.Size([1, 80, 512])\n",
      "torch.Size([32, 80, 512]) torch.Size([1, 80, 512])\n"
     ]
    },
    {
     "name": "stderr",
     "output_type": "stream",
     "text": [
      "Processing Epoch 01:  53%|█████▎    | 3045/5717 [08:01<07:00,  6.35it/s, loss=2.260]"
     ]
    },
    {
     "name": "stdout",
     "output_type": "stream",
     "text": [
      "torch.Size([32, 80, 512]) torch.Size([1, 80, 512])\n",
      "torch.Size([32, 80, 512]) torch.Size([1, 80, 512])\n",
      "torch.Size([32, 80, 512]) torch.Size([1, 80, 512])\n",
      "torch.Size([32, 80, 512]) torch.Size([1, 80, 512])\n"
     ]
    },
    {
     "name": "stderr",
     "output_type": "stream",
     "text": [
      "Processing Epoch 01:  53%|█████▎    | 3047/5717 [08:01<06:47,  6.55it/s, loss=2.106]"
     ]
    },
    {
     "name": "stdout",
     "output_type": "stream",
     "text": [
      "torch.Size([32, 80, 512]) torch.Size([1, 80, 512])\n",
      "torch.Size([32, 80, 512]) torch.Size([1, 80, 512])\n",
      "torch.Size([32, 80, 512]) torch.Size([1, 80, 512])\n",
      "torch.Size([32, 80, 512]) torch.Size([1, 80, 512])\n"
     ]
    },
    {
     "name": "stderr",
     "output_type": "stream",
     "text": [
      "Processing Epoch 01:  53%|█████▎    | 3049/5717 [08:02<07:04,  6.29it/s, loss=1.924]"
     ]
    },
    {
     "name": "stdout",
     "output_type": "stream",
     "text": [
      "torch.Size([32, 80, 512]) torch.Size([1, 80, 512])\n",
      "torch.Size([32, 80, 512]) torch.Size([1, 80, 512])\n",
      "torch.Size([32, 80, 512]) torch.Size([1, 80, 512])\n",
      "torch.Size([32, 80, 512]) torch.Size([1, 80, 512])\n"
     ]
    },
    {
     "name": "stderr",
     "output_type": "stream",
     "text": [
      "Processing Epoch 01:  53%|█████▎    | 3051/5717 [08:02<06:57,  6.38it/s, loss=2.354]"
     ]
    },
    {
     "name": "stdout",
     "output_type": "stream",
     "text": [
      "torch.Size([32, 80, 512]) torch.Size([1, 80, 512])\n",
      "torch.Size([32, 80, 512]) torch.Size([1, 80, 512])\n",
      "torch.Size([32, 80, 512]) torch.Size([1, 80, 512])\n",
      "torch.Size([32, 80, 512]) torch.Size([1, 80, 512])\n"
     ]
    },
    {
     "name": "stderr",
     "output_type": "stream",
     "text": [
      "Processing Epoch 01:  53%|█████▎    | 3053/5717 [08:02<06:44,  6.58it/s, loss=2.125]"
     ]
    },
    {
     "name": "stdout",
     "output_type": "stream",
     "text": [
      "torch.Size([32, 80, 512]) torch.Size([1, 80, 512])\n",
      "torch.Size([32, 80, 512]) torch.Size([1, 80, 512])\n",
      "torch.Size([32, 80, 512]) torch.Size([1, 80, 512])\n",
      "torch.Size([32, 80, 512]) torch.Size([1, 80, 512])\n"
     ]
    },
    {
     "name": "stderr",
     "output_type": "stream",
     "text": [
      "Processing Epoch 01:  53%|█████▎    | 3055/5717 [08:03<06:47,  6.53it/s, loss=2.096]"
     ]
    },
    {
     "name": "stdout",
     "output_type": "stream",
     "text": [
      "torch.Size([32, 80, 512]) torch.Size([1, 80, 512])\n",
      "torch.Size([32, 80, 512]) torch.Size([1, 80, 512])\n",
      "torch.Size([32, 80, 512]) torch.Size([1, 80, 512])\n",
      "torch.Size([32, 80, 512]) torch.Size([1, 80, 512])\n"
     ]
    },
    {
     "name": "stderr",
     "output_type": "stream",
     "text": [
      "Processing Epoch 01:  53%|█████▎    | 3057/5717 [08:03<06:56,  6.38it/s, loss=1.940]"
     ]
    },
    {
     "name": "stdout",
     "output_type": "stream",
     "text": [
      "torch.Size([32, 80, 512]) torch.Size([1, 80, 512])\n",
      "torch.Size([32, 80, 512]) torch.Size([1, 80, 512])\n",
      "torch.Size([32, 80, 512]) torch.Size([1, 80, 512])\n",
      "torch.Size([32, 80, 512]) torch.Size([1, 80, 512])\n"
     ]
    },
    {
     "name": "stderr",
     "output_type": "stream",
     "text": [
      "Processing Epoch 01:  54%|█████▎    | 3059/5717 [08:03<06:49,  6.49it/s, loss=2.186]"
     ]
    },
    {
     "name": "stdout",
     "output_type": "stream",
     "text": [
      "torch.Size([32, 80, 512]) torch.Size([1, 80, 512])\n",
      "torch.Size([32, 80, 512]) torch.Size([1, 80, 512])\n",
      "torch.Size([32, 80, 512]) torch.Size([1, 80, 512])\n",
      "torch.Size([32, 80, 512]) torch.Size([1, 80, 512])\n"
     ]
    },
    {
     "name": "stderr",
     "output_type": "stream",
     "text": [
      "Processing Epoch 01:  54%|█████▎    | 3061/5717 [08:04<06:48,  6.50it/s, loss=2.177]"
     ]
    },
    {
     "name": "stdout",
     "output_type": "stream",
     "text": [
      "torch.Size([32, 80, 512]) torch.Size([1, 80, 512])\n",
      "torch.Size([32, 80, 512]) torch.Size([1, 80, 512])\n",
      "torch.Size([32, 80, 512]) torch.Size([1, 80, 512])\n",
      "torch.Size([32, 80, 512]) torch.Size([1, 80, 512])\n"
     ]
    },
    {
     "name": "stderr",
     "output_type": "stream",
     "text": [
      "Processing Epoch 01:  54%|█████▎    | 3063/5717 [08:04<07:15,  6.10it/s, loss=2.125]"
     ]
    },
    {
     "name": "stdout",
     "output_type": "stream",
     "text": [
      "torch.Size([32, 80, 512]) torch.Size([1, 80, 512])\n",
      "torch.Size([32, 80, 512]) torch.Size([1, 80, 512])\n",
      "torch.Size([32, 80, 512]) torch.Size([1, 80, 512])\n",
      "torch.Size([32, 80, 512]) torch.Size([1, 80, 512])\n"
     ]
    },
    {
     "name": "stderr",
     "output_type": "stream",
     "text": [
      "Processing Epoch 01:  54%|█████▎    | 3065/5717 [08:04<06:53,  6.41it/s, loss=2.164]"
     ]
    },
    {
     "name": "stdout",
     "output_type": "stream",
     "text": [
      "torch.Size([32, 80, 512]) torch.Size([1, 80, 512])\n",
      "torch.Size([32, 80, 512]) torch.Size([1, 80, 512])\n",
      "torch.Size([32, 80, 512]) torch.Size([1, 80, 512])\n",
      "torch.Size([32, 80, 512]) torch.Size([1, 80, 512])\n"
     ]
    },
    {
     "name": "stderr",
     "output_type": "stream",
     "text": [
      "Processing Epoch 01:  54%|█████▎    | 3067/5717 [08:05<06:45,  6.53it/s, loss=2.079]"
     ]
    },
    {
     "name": "stdout",
     "output_type": "stream",
     "text": [
      "torch.Size([32, 80, 512]) torch.Size([1, 80, 512])\n",
      "torch.Size([32, 80, 512]) torch.Size([1, 80, 512])\n",
      "torch.Size([32, 80, 512]) torch.Size([1, 80, 512])\n",
      "torch.Size([32, 80, 512]) torch.Size([1, 80, 512])\n"
     ]
    },
    {
     "name": "stderr",
     "output_type": "stream",
     "text": [
      "Processing Epoch 01:  54%|█████▎    | 3069/5717 [08:05<06:52,  6.42it/s, loss=2.090]"
     ]
    },
    {
     "name": "stdout",
     "output_type": "stream",
     "text": [
      "torch.Size([32, 80, 512]) torch.Size([1, 80, 512])\n",
      "torch.Size([32, 80, 512]) torch.Size([1, 80, 512])\n",
      "torch.Size([32, 80, 512]) torch.Size([1, 80, 512])\n",
      "torch.Size([32, 80, 512]) torch.Size([1, 80, 512])\n"
     ]
    },
    {
     "name": "stderr",
     "output_type": "stream",
     "text": [
      "Processing Epoch 01:  54%|█████▎    | 3071/5717 [08:05<06:45,  6.53it/s, loss=2.124]"
     ]
    },
    {
     "name": "stdout",
     "output_type": "stream",
     "text": [
      "torch.Size([32, 80, 512]) torch.Size([1, 80, 512])\n",
      "torch.Size([32, 80, 512]) torch.Size([1, 80, 512])\n",
      "torch.Size([32, 80, 512]) torch.Size([1, 80, 512])\n",
      "torch.Size([32, 80, 512]) torch.Size([1, 80, 512])\n"
     ]
    },
    {
     "name": "stderr",
     "output_type": "stream",
     "text": [
      "Processing Epoch 01:  54%|█████▍    | 3073/5717 [08:05<06:41,  6.59it/s, loss=1.999]"
     ]
    },
    {
     "name": "stdout",
     "output_type": "stream",
     "text": [
      "torch.Size([32, 80, 512]) torch.Size([1, 80, 512])\n",
      "torch.Size([32, 80, 512]) torch.Size([1, 80, 512])\n",
      "torch.Size([32, 80, 512]) torch.Size([1, 80, 512])\n",
      "torch.Size([32, 80, 512]) torch.Size([1, 80, 512])\n"
     ]
    },
    {
     "name": "stderr",
     "output_type": "stream",
     "text": [
      "Processing Epoch 01:  54%|█████▍    | 3075/5717 [08:06<06:50,  6.43it/s, loss=2.173]"
     ]
    },
    {
     "name": "stdout",
     "output_type": "stream",
     "text": [
      "torch.Size([32, 80, 512]) torch.Size([1, 80, 512])\n",
      "torch.Size([32, 80, 512]) torch.Size([1, 80, 512])\n",
      "torch.Size([32, 80, 512]) torch.Size([1, 80, 512])\n",
      "torch.Size([32, 80, 512]) torch.Size([1, 80, 512])\n"
     ]
    },
    {
     "name": "stderr",
     "output_type": "stream",
     "text": [
      "Processing Epoch 01:  54%|█████▍    | 3077/5717 [08:06<07:12,  6.10it/s, loss=2.068]"
     ]
    },
    {
     "name": "stdout",
     "output_type": "stream",
     "text": [
      "torch.Size([32, 80, 512]) torch.Size([1, 80, 512])\n",
      "torch.Size([32, 80, 512]) torch.Size([1, 80, 512])\n",
      "torch.Size([32, 80, 512]) torch.Size([1, 80, 512])\n",
      "torch.Size([32, 80, 512]) torch.Size([1, 80, 512])\n"
     ]
    },
    {
     "name": "stderr",
     "output_type": "stream",
     "text": [
      "Processing Epoch 01:  54%|█████▍    | 3079/5717 [08:06<06:43,  6.53it/s, loss=2.311]"
     ]
    },
    {
     "name": "stdout",
     "output_type": "stream",
     "text": [
      "torch.Size([32, 80, 512]) torch.Size([1, 80, 512])\n",
      "torch.Size([32, 80, 512]) torch.Size([1, 80, 512])\n",
      "torch.Size([32, 80, 512]) torch.Size([1, 80, 512])\n",
      "torch.Size([32, 80, 512]) torch.Size([1, 80, 512])\n"
     ]
    },
    {
     "name": "stderr",
     "output_type": "stream",
     "text": [
      "Processing Epoch 01:  54%|█████▍    | 3081/5717 [08:07<06:47,  6.47it/s, loss=2.089]"
     ]
    },
    {
     "name": "stdout",
     "output_type": "stream",
     "text": [
      "torch.Size([32, 80, 512]) torch.Size([1, 80, 512])\n",
      "torch.Size([32, 80, 512]) torch.Size([1, 80, 512])\n",
      "torch.Size([32, 80, 512]) torch.Size([1, 80, 512])\n",
      "torch.Size([32, 80, 512]) torch.Size([1, 80, 512])\n"
     ]
    },
    {
     "name": "stderr",
     "output_type": "stream",
     "text": [
      "Processing Epoch 01:  54%|█████▍    | 3083/5717 [08:07<06:45,  6.49it/s, loss=2.243]"
     ]
    },
    {
     "name": "stdout",
     "output_type": "stream",
     "text": [
      "torch.Size([32, 80, 512]) torch.Size([1, 80, 512])\n",
      "torch.Size([32, 80, 512]) torch.Size([1, 80, 512])\n",
      "torch.Size([32, 80, 512]) torch.Size([1, 80, 512])\n",
      "torch.Size([32, 80, 512]) torch.Size([1, 80, 512])\n"
     ]
    },
    {
     "name": "stderr",
     "output_type": "stream",
     "text": [
      "Processing Epoch 01:  54%|█████▍    | 3085/5717 [08:07<06:50,  6.42it/s, loss=2.120]"
     ]
    },
    {
     "name": "stdout",
     "output_type": "stream",
     "text": [
      "torch.Size([32, 80, 512]) torch.Size([1, 80, 512])\n",
      "torch.Size([32, 80, 512]) torch.Size([1, 80, 512])\n",
      "torch.Size([32, 80, 512]) torch.Size([1, 80, 512])\n",
      "torch.Size([32, 80, 512]) torch.Size([1, 80, 512])\n"
     ]
    },
    {
     "name": "stderr",
     "output_type": "stream",
     "text": [
      "Processing Epoch 01:  54%|█████▍    | 3087/5717 [08:08<06:51,  6.39it/s, loss=1.846]"
     ]
    },
    {
     "name": "stdout",
     "output_type": "stream",
     "text": [
      "torch.Size([32, 80, 512]) torch.Size([1, 80, 512])\n",
      "torch.Size([32, 80, 512]) torch.Size([1, 80, 512])\n",
      "torch.Size([32, 80, 512]) torch.Size([1, 80, 512])\n",
      "torch.Size([32, 80, 512]) torch.Size([1, 80, 512])\n"
     ]
    },
    {
     "name": "stderr",
     "output_type": "stream",
     "text": [
      "Processing Epoch 01:  54%|█████▍    | 3089/5717 [08:08<07:05,  6.17it/s, loss=2.001]"
     ]
    },
    {
     "name": "stdout",
     "output_type": "stream",
     "text": [
      "torch.Size([32, 80, 512]) torch.Size([1, 80, 512])\n",
      "torch.Size([32, 80, 512]) torch.Size([1, 80, 512])\n",
      "torch.Size([32, 80, 512]) torch.Size([1, 80, 512])\n",
      "torch.Size([32, 80, 512]) torch.Size([1, 80, 512])\n"
     ]
    },
    {
     "name": "stderr",
     "output_type": "stream",
     "text": [
      "Processing Epoch 01:  54%|█████▍    | 3091/5717 [08:08<06:45,  6.48it/s, loss=2.117]"
     ]
    },
    {
     "name": "stdout",
     "output_type": "stream",
     "text": [
      "torch.Size([32, 80, 512]) torch.Size([1, 80, 512])\n",
      "torch.Size([32, 80, 512]) torch.Size([1, 80, 512])\n",
      "torch.Size([32, 80, 512]) torch.Size([1, 80, 512])\n",
      "torch.Size([32, 80, 512]) torch.Size([1, 80, 512])\n"
     ]
    },
    {
     "name": "stderr",
     "output_type": "stream",
     "text": [
      "Processing Epoch 01:  54%|█████▍    | 3093/5717 [08:09<06:38,  6.58it/s, loss=2.147]"
     ]
    },
    {
     "name": "stdout",
     "output_type": "stream",
     "text": [
      "torch.Size([32, 80, 512]) torch.Size([1, 80, 512])\n",
      "torch.Size([32, 80, 512]) torch.Size([1, 80, 512])\n",
      "torch.Size([32, 80, 512]) torch.Size([1, 80, 512])\n",
      "torch.Size([32, 80, 512]) torch.Size([1, 80, 512])\n"
     ]
    },
    {
     "name": "stderr",
     "output_type": "stream",
     "text": [
      "Processing Epoch 01:  54%|█████▍    | 3095/5717 [08:09<06:47,  6.43it/s, loss=2.234]"
     ]
    },
    {
     "name": "stdout",
     "output_type": "stream",
     "text": [
      "torch.Size([32, 80, 512]) torch.Size([1, 80, 512])\n",
      "torch.Size([32, 80, 512]) torch.Size([1, 80, 512])\n",
      "torch.Size([32, 80, 512]) torch.Size([1, 80, 512])\n",
      "torch.Size([32, 80, 512]) torch.Size([1, 80, 512])\n"
     ]
    },
    {
     "name": "stderr",
     "output_type": "stream",
     "text": [
      "Processing Epoch 01:  54%|█████▍    | 3097/5717 [08:09<06:46,  6.45it/s, loss=2.047]"
     ]
    },
    {
     "name": "stdout",
     "output_type": "stream",
     "text": [
      "torch.Size([32, 80, 512]) torch.Size([1, 80, 512])\n",
      "torch.Size([32, 80, 512]) torch.Size([1, 80, 512])\n",
      "torch.Size([32, 80, 512]) torch.Size([1, 80, 512])\n",
      "torch.Size([32, 80, 512]) torch.Size([1, 80, 512])\n"
     ]
    },
    {
     "name": "stderr",
     "output_type": "stream",
     "text": [
      "Processing Epoch 01:  54%|█████▍    | 3099/5717 [08:10<06:50,  6.38it/s, loss=2.247]"
     ]
    },
    {
     "name": "stdout",
     "output_type": "stream",
     "text": [
      "torch.Size([32, 80, 512]) torch.Size([1, 80, 512])\n",
      "torch.Size([32, 80, 512]) torch.Size([1, 80, 512])\n",
      "torch.Size([32, 80, 512]) torch.Size([1, 80, 512])\n",
      "torch.Size([32, 80, 512]) torch.Size([1, 80, 512])\n"
     ]
    },
    {
     "name": "stderr",
     "output_type": "stream",
     "text": [
      "Processing Epoch 01:  54%|█████▍    | 3101/5717 [08:10<06:54,  6.31it/s, loss=2.075]"
     ]
    },
    {
     "name": "stdout",
     "output_type": "stream",
     "text": [
      "torch.Size([32, 80, 512]) torch.Size([1, 80, 512])\n",
      "torch.Size([32, 80, 512]) torch.Size([1, 80, 512])\n",
      "torch.Size([32, 80, 512]) torch.Size([1, 80, 512])\n",
      "torch.Size([32, 80, 512]) torch.Size([1, 80, 512])\n"
     ]
    },
    {
     "name": "stderr",
     "output_type": "stream",
     "text": [
      "Processing Epoch 01:  54%|█████▍    | 3103/5717 [08:10<06:48,  6.40it/s, loss=2.232]"
     ]
    },
    {
     "name": "stdout",
     "output_type": "stream",
     "text": [
      "torch.Size([32, 80, 512]) torch.Size([1, 80, 512])\n",
      "torch.Size([32, 80, 512]) torch.Size([1, 80, 512])\n",
      "torch.Size([32, 80, 512]) torch.Size([1, 80, 512])\n",
      "torch.Size([32, 80, 512]) torch.Size([1, 80, 512])\n"
     ]
    },
    {
     "name": "stderr",
     "output_type": "stream",
     "text": [
      "Processing Epoch 01:  54%|█████▍    | 3105/5717 [08:11<06:48,  6.39it/s, loss=2.296]"
     ]
    },
    {
     "name": "stdout",
     "output_type": "stream",
     "text": [
      "torch.Size([32, 80, 512]) torch.Size([1, 80, 512])\n",
      "torch.Size([32, 80, 512]) torch.Size([1, 80, 512])\n",
      "torch.Size([32, 80, 512]) torch.Size([1, 80, 512])\n",
      "torch.Size([32, 80, 512]) torch.Size([1, 80, 512])\n"
     ]
    },
    {
     "name": "stderr",
     "output_type": "stream",
     "text": [
      "Processing Epoch 01:  54%|█████▍    | 3107/5717 [08:11<06:57,  6.25it/s, loss=2.355]"
     ]
    },
    {
     "name": "stdout",
     "output_type": "stream",
     "text": [
      "torch.Size([32, 80, 512]) torch.Size([1, 80, 512])\n",
      "torch.Size([32, 80, 512]) torch.Size([1, 80, 512])\n",
      "torch.Size([32, 80, 512]) torch.Size([1, 80, 512])\n",
      "torch.Size([32, 80, 512]) torch.Size([1, 80, 512])\n"
     ]
    },
    {
     "name": "stderr",
     "output_type": "stream",
     "text": [
      "Processing Epoch 01:  54%|█████▍    | 3109/5717 [08:11<06:40,  6.51it/s, loss=2.072]"
     ]
    },
    {
     "name": "stdout",
     "output_type": "stream",
     "text": [
      "torch.Size([32, 80, 512]) torch.Size([1, 80, 512])\n",
      "torch.Size([32, 80, 512]) torch.Size([1, 80, 512])\n",
      "torch.Size([32, 80, 512]) torch.Size([1, 80, 512])\n",
      "torch.Size([32, 80, 512]) torch.Size([1, 80, 512])\n"
     ]
    },
    {
     "name": "stderr",
     "output_type": "stream",
     "text": [
      "Processing Epoch 01:  54%|█████▍    | 3111/5717 [08:11<06:52,  6.32it/s, loss=2.228]"
     ]
    },
    {
     "name": "stdout",
     "output_type": "stream",
     "text": [
      "torch.Size([32, 80, 512]) torch.Size([1, 80, 512])\n",
      "torch.Size([32, 80, 512]) torch.Size([1, 80, 512])\n",
      "torch.Size([32, 80, 512]) torch.Size([1, 80, 512])\n",
      "torch.Size([32, 80, 512]) torch.Size([1, 80, 512])\n"
     ]
    },
    {
     "name": "stderr",
     "output_type": "stream",
     "text": [
      "Processing Epoch 01:  54%|█████▍    | 3113/5717 [08:12<06:46,  6.41it/s, loss=2.167]"
     ]
    },
    {
     "name": "stdout",
     "output_type": "stream",
     "text": [
      "torch.Size([32, 80, 512]) torch.Size([1, 80, 512])\n",
      "torch.Size([32, 80, 512]) torch.Size([1, 80, 512])\n",
      "torch.Size([32, 80, 512]) torch.Size([1, 80, 512])\n",
      "torch.Size([32, 80, 512]) torch.Size([1, 80, 512])\n"
     ]
    },
    {
     "name": "stderr",
     "output_type": "stream",
     "text": [
      "Processing Epoch 01:  54%|█████▍    | 3115/5717 [08:12<06:47,  6.39it/s, loss=2.026]"
     ]
    },
    {
     "name": "stdout",
     "output_type": "stream",
     "text": [
      "torch.Size([32, 80, 512]) torch.Size([1, 80, 512])\n",
      "torch.Size([32, 80, 512]) torch.Size([1, 80, 512])\n",
      "torch.Size([32, 80, 512]) torch.Size([1, 80, 512])\n",
      "torch.Size([32, 80, 512]) torch.Size([1, 80, 512])\n"
     ]
    },
    {
     "name": "stderr",
     "output_type": "stream",
     "text": [
      "Processing Epoch 01:  55%|█████▍    | 3117/5717 [08:12<06:52,  6.30it/s, loss=2.089]"
     ]
    },
    {
     "name": "stdout",
     "output_type": "stream",
     "text": [
      "torch.Size([32, 80, 512]) torch.Size([1, 80, 512])\n",
      "torch.Size([32, 80, 512]) torch.Size([1, 80, 512])\n",
      "torch.Size([32, 80, 512]) torch.Size([1, 80, 512])\n",
      "torch.Size([32, 80, 512]) torch.Size([1, 80, 512])\n"
     ]
    },
    {
     "name": "stderr",
     "output_type": "stream",
     "text": [
      "Processing Epoch 01:  55%|█████▍    | 3119/5717 [08:13<06:44,  6.42it/s, loss=2.193]"
     ]
    },
    {
     "name": "stdout",
     "output_type": "stream",
     "text": [
      "torch.Size([32, 80, 512]) torch.Size([1, 80, 512])\n",
      "torch.Size([32, 80, 512]) torch.Size([1, 80, 512])\n",
      "torch.Size([32, 80, 512]) torch.Size([1, 80, 512])\n",
      "torch.Size([32, 80, 512]) torch.Size([1, 80, 512])\n"
     ]
    },
    {
     "name": "stderr",
     "output_type": "stream",
     "text": [
      "Processing Epoch 01:  55%|█████▍    | 3121/5717 [08:13<06:32,  6.61it/s, loss=2.427]"
     ]
    },
    {
     "name": "stdout",
     "output_type": "stream",
     "text": [
      "torch.Size([32, 80, 512]) torch.Size([1, 80, 512])\n",
      "torch.Size([32, 80, 512]) torch.Size([1, 80, 512])\n",
      "torch.Size([32, 80, 512]) torch.Size([1, 80, 512])\n",
      "torch.Size([32, 80, 512]) torch.Size([1, 80, 512])\n"
     ]
    },
    {
     "name": "stderr",
     "output_type": "stream",
     "text": [
      "Processing Epoch 01:  55%|█████▍    | 3123/5717 [08:13<06:41,  6.46it/s, loss=2.084]"
     ]
    },
    {
     "name": "stdout",
     "output_type": "stream",
     "text": [
      "torch.Size([32, 80, 512]) torch.Size([1, 80, 512])\n",
      "torch.Size([32, 80, 512]) torch.Size([1, 80, 512])\n",
      "torch.Size([32, 80, 512]) torch.Size([1, 80, 512])\n",
      "torch.Size([32, 80, 512]) torch.Size([1, 80, 512])\n"
     ]
    },
    {
     "name": "stderr",
     "output_type": "stream",
     "text": [
      "Processing Epoch 01:  55%|█████▍    | 3125/5717 [08:14<06:44,  6.41it/s, loss=2.292]"
     ]
    },
    {
     "name": "stdout",
     "output_type": "stream",
     "text": [
      "torch.Size([32, 80, 512]) torch.Size([1, 80, 512])\n",
      "torch.Size([32, 80, 512]) torch.Size([1, 80, 512])\n",
      "torch.Size([32, 80, 512]) torch.Size([1, 80, 512])\n",
      "torch.Size([32, 80, 512]) torch.Size([1, 80, 512])\n"
     ]
    },
    {
     "name": "stderr",
     "output_type": "stream",
     "text": [
      "Processing Epoch 01:  55%|█████▍    | 3127/5717 [08:14<06:45,  6.38it/s, loss=2.047]"
     ]
    },
    {
     "name": "stdout",
     "output_type": "stream",
     "text": [
      "torch.Size([32, 80, 512]) torch.Size([1, 80, 512])\n",
      "torch.Size([32, 80, 512]) torch.Size([1, 80, 512])\n",
      "torch.Size([32, 80, 512]) torch.Size([1, 80, 512])\n",
      "torch.Size([32, 80, 512]) torch.Size([1, 80, 512])\n"
     ]
    },
    {
     "name": "stderr",
     "output_type": "stream",
     "text": [
      "Processing Epoch 01:  55%|█████▍    | 3129/5717 [08:14<06:47,  6.36it/s, loss=2.076]"
     ]
    },
    {
     "name": "stdout",
     "output_type": "stream",
     "text": [
      "torch.Size([32, 80, 512]) torch.Size([1, 80, 512])\n",
      "torch.Size([32, 80, 512]) torch.Size([1, 80, 512])\n",
      "torch.Size([32, 80, 512]) torch.Size([1, 80, 512])\n",
      "torch.Size([32, 80, 512]) torch.Size([1, 80, 512])\n"
     ]
    },
    {
     "name": "stderr",
     "output_type": "stream",
     "text": [
      "Processing Epoch 01:  55%|█████▍    | 3131/5717 [08:15<06:44,  6.40it/s, loss=2.066]"
     ]
    },
    {
     "name": "stdout",
     "output_type": "stream",
     "text": [
      "torch.Size([32, 80, 512]) torch.Size([1, 80, 512])\n",
      "torch.Size([32, 80, 512]) torch.Size([1, 80, 512])\n",
      "torch.Size([32, 80, 512]) torch.Size([1, 80, 512])\n",
      "torch.Size([32, 80, 512]) torch.Size([1, 80, 512])\n"
     ]
    },
    {
     "name": "stderr",
     "output_type": "stream",
     "text": [
      "Processing Epoch 01:  55%|█████▍    | 3133/5717 [08:15<06:47,  6.33it/s, loss=1.803]"
     ]
    },
    {
     "name": "stdout",
     "output_type": "stream",
     "text": [
      "torch.Size([32, 80, 512]) torch.Size([1, 80, 512])\n",
      "torch.Size([32, 80, 512]) torch.Size([1, 80, 512])\n",
      "torch.Size([32, 80, 512]) torch.Size([1, 80, 512])\n",
      "torch.Size([32, 80, 512]) torch.Size([1, 80, 512])\n"
     ]
    },
    {
     "name": "stderr",
     "output_type": "stream",
     "text": [
      "Processing Epoch 01:  55%|█████▍    | 3135/5717 [08:15<06:51,  6.27it/s, loss=1.912]"
     ]
    },
    {
     "name": "stdout",
     "output_type": "stream",
     "text": [
      "torch.Size([32, 80, 512]) torch.Size([1, 80, 512])\n",
      "torch.Size([32, 80, 512]) torch.Size([1, 80, 512])\n",
      "torch.Size([32, 80, 512]) torch.Size([1, 80, 512])\n",
      "torch.Size([32, 80, 512]) torch.Size([1, 80, 512])\n"
     ]
    },
    {
     "name": "stderr",
     "output_type": "stream",
     "text": [
      "Processing Epoch 01:  55%|█████▍    | 3137/5717 [08:16<06:41,  6.43it/s, loss=2.210]"
     ]
    },
    {
     "name": "stdout",
     "output_type": "stream",
     "text": [
      "torch.Size([32, 80, 512]) torch.Size([1, 80, 512])\n",
      "torch.Size([32, 80, 512]) torch.Size([1, 80, 512])\n",
      "torch.Size([32, 80, 512]) torch.Size([1, 80, 512])\n",
      "torch.Size([32, 80, 512]) torch.Size([1, 80, 512])\n"
     ]
    },
    {
     "name": "stderr",
     "output_type": "stream",
     "text": [
      "Processing Epoch 01:  55%|█████▍    | 3139/5717 [08:16<06:48,  6.32it/s, loss=2.014]"
     ]
    },
    {
     "name": "stdout",
     "output_type": "stream",
     "text": [
      "torch.Size([32, 80, 512]) torch.Size([1, 80, 512])\n",
      "torch.Size([32, 80, 512]) torch.Size([1, 80, 512])\n",
      "torch.Size([32, 80, 512]) torch.Size([1, 80, 512])\n",
      "torch.Size([32, 80, 512]) torch.Size([1, 80, 512])\n"
     ]
    },
    {
     "name": "stderr",
     "output_type": "stream",
     "text": [
      "Processing Epoch 01:  55%|█████▍    | 3141/5717 [08:16<06:38,  6.46it/s, loss=1.996]"
     ]
    },
    {
     "name": "stdout",
     "output_type": "stream",
     "text": [
      "torch.Size([32, 80, 512]) torch.Size([1, 80, 512])\n",
      "torch.Size([32, 80, 512]) torch.Size([1, 80, 512])\n",
      "torch.Size([32, 80, 512]) torch.Size([1, 80, 512])\n",
      "torch.Size([32, 80, 512]) torch.Size([1, 80, 512])\n"
     ]
    },
    {
     "name": "stderr",
     "output_type": "stream",
     "text": [
      "Processing Epoch 01:  55%|█████▍    | 3143/5717 [08:17<06:43,  6.39it/s, loss=1.966]"
     ]
    },
    {
     "name": "stdout",
     "output_type": "stream",
     "text": [
      "torch.Size([32, 80, 512]) torch.Size([1, 80, 512])\n",
      "torch.Size([32, 80, 512]) torch.Size([1, 80, 512])\n",
      "torch.Size([32, 80, 512]) torch.Size([1, 80, 512])\n",
      "torch.Size([32, 80, 512]) torch.Size([1, 80, 512])\n"
     ]
    },
    {
     "name": "stderr",
     "output_type": "stream",
     "text": [
      "Processing Epoch 01:  55%|█████▌    | 3145/5717 [08:17<06:47,  6.32it/s, loss=2.189]"
     ]
    },
    {
     "name": "stdout",
     "output_type": "stream",
     "text": [
      "torch.Size([32, 80, 512]) torch.Size([1, 80, 512])\n",
      "torch.Size([32, 80, 512]) torch.Size([1, 80, 512])\n",
      "torch.Size([32, 80, 512]) torch.Size([1, 80, 512])\n",
      "torch.Size([32, 80, 512]) torch.Size([1, 80, 512])\n"
     ]
    },
    {
     "name": "stderr",
     "output_type": "stream",
     "text": [
      "Processing Epoch 01:  55%|█████▌    | 3147/5717 [08:17<06:39,  6.44it/s, loss=1.990]"
     ]
    },
    {
     "name": "stdout",
     "output_type": "stream",
     "text": [
      "torch.Size([32, 80, 512]) torch.Size([1, 80, 512])\n",
      "torch.Size([32, 80, 512]) torch.Size([1, 80, 512])\n",
      "torch.Size([32, 80, 512]) torch.Size([1, 80, 512])\n",
      "torch.Size([32, 80, 512]) torch.Size([1, 80, 512])\n"
     ]
    },
    {
     "name": "stderr",
     "output_type": "stream",
     "text": [
      "Processing Epoch 01:  55%|█████▌    | 3149/5717 [08:17<06:40,  6.42it/s, loss=2.020]"
     ]
    },
    {
     "name": "stdout",
     "output_type": "stream",
     "text": [
      "torch.Size([32, 80, 512]) torch.Size([1, 80, 512])\n",
      "torch.Size([32, 80, 512]) torch.Size([1, 80, 512])\n",
      "torch.Size([32, 80, 512]) torch.Size([1, 80, 512])\n",
      "torch.Size([32, 80, 512]) torch.Size([1, 80, 512])\n"
     ]
    },
    {
     "name": "stderr",
     "output_type": "stream",
     "text": [
      "Processing Epoch 01:  55%|█████▌    | 3151/5717 [08:18<06:39,  6.42it/s, loss=2.077]"
     ]
    },
    {
     "name": "stdout",
     "output_type": "stream",
     "text": [
      "torch.Size([32, 80, 512]) torch.Size([1, 80, 512])\n",
      "torch.Size([32, 80, 512]) torch.Size([1, 80, 512])\n",
      "torch.Size([32, 80, 512]) torch.Size([1, 80, 512])\n",
      "torch.Size([32, 80, 512]) torch.Size([1, 80, 512])\n"
     ]
    },
    {
     "name": "stderr",
     "output_type": "stream",
     "text": [
      "Processing Epoch 01:  55%|█████▌    | 3153/5717 [08:18<06:44,  6.34it/s, loss=2.179]"
     ]
    },
    {
     "name": "stdout",
     "output_type": "stream",
     "text": [
      "torch.Size([32, 80, 512]) torch.Size([1, 80, 512])\n",
      "torch.Size([32, 80, 512]) torch.Size([1, 80, 512])\n",
      "torch.Size([32, 80, 512]) torch.Size([1, 80, 512])\n",
      "torch.Size([32, 80, 512]) torch.Size([1, 80, 512])\n"
     ]
    },
    {
     "name": "stderr",
     "output_type": "stream",
     "text": [
      "Processing Epoch 01:  55%|█████▌    | 3155/5717 [08:18<06:34,  6.49it/s, loss=2.195]"
     ]
    },
    {
     "name": "stdout",
     "output_type": "stream",
     "text": [
      "torch.Size([32, 80, 512]) torch.Size([1, 80, 512])\n",
      "torch.Size([32, 80, 512]) torch.Size([1, 80, 512])\n",
      "torch.Size([32, 80, 512]) torch.Size([1, 80, 512])\n",
      "torch.Size([32, 80, 512]) torch.Size([1, 80, 512])\n"
     ]
    },
    {
     "name": "stderr",
     "output_type": "stream",
     "text": [
      "Processing Epoch 01:  55%|█████▌    | 3157/5717 [08:19<06:36,  6.46it/s, loss=1.983]"
     ]
    },
    {
     "name": "stdout",
     "output_type": "stream",
     "text": [
      "torch.Size([32, 80, 512]) torch.Size([1, 80, 512])\n",
      "torch.Size([32, 80, 512]) torch.Size([1, 80, 512])\n",
      "torch.Size([32, 80, 512]) torch.Size([1, 80, 512])\n",
      "torch.Size([32, 80, 512]) torch.Size([1, 80, 512])\n"
     ]
    },
    {
     "name": "stderr",
     "output_type": "stream",
     "text": [
      "Processing Epoch 01:  55%|█████▌    | 3159/5717 [08:19<06:40,  6.39it/s, loss=2.043]"
     ]
    },
    {
     "name": "stdout",
     "output_type": "stream",
     "text": [
      "torch.Size([32, 80, 512]) torch.Size([1, 80, 512])\n",
      "torch.Size([32, 80, 512]) torch.Size([1, 80, 512])\n",
      "torch.Size([32, 80, 512]) torch.Size([1, 80, 512])\n",
      "torch.Size([32, 80, 512]) torch.Size([1, 80, 512])\n"
     ]
    },
    {
     "name": "stderr",
     "output_type": "stream",
     "text": [
      "Processing Epoch 01:  55%|█████▌    | 3161/5717 [08:19<06:34,  6.49it/s, loss=2.074]"
     ]
    },
    {
     "name": "stdout",
     "output_type": "stream",
     "text": [
      "torch.Size([32, 80, 512]) torch.Size([1, 80, 512])\n",
      "torch.Size([32, 80, 512]) torch.Size([1, 80, 512])\n",
      "torch.Size([32, 80, 512]) torch.Size([1, 80, 512])\n",
      "torch.Size([32, 80, 512]) torch.Size([1, 80, 512])\n"
     ]
    },
    {
     "name": "stderr",
     "output_type": "stream",
     "text": [
      "Processing Epoch 01:  55%|█████▌    | 3163/5717 [08:20<06:37,  6.42it/s, loss=2.248]"
     ]
    },
    {
     "name": "stdout",
     "output_type": "stream",
     "text": [
      "torch.Size([32, 80, 512]) torch.Size([1, 80, 512])\n",
      "torch.Size([32, 80, 512]) torch.Size([1, 80, 512])\n",
      "torch.Size([32, 80, 512]) torch.Size([1, 80, 512])\n",
      "torch.Size([32, 80, 512]) torch.Size([1, 80, 512])\n"
     ]
    },
    {
     "name": "stderr",
     "output_type": "stream",
     "text": [
      "Processing Epoch 01:  55%|█████▌    | 3165/5717 [08:20<06:36,  6.44it/s, loss=1.996]"
     ]
    },
    {
     "name": "stdout",
     "output_type": "stream",
     "text": [
      "torch.Size([32, 80, 512]) torch.Size([1, 80, 512])\n",
      "torch.Size([32, 80, 512]) torch.Size([1, 80, 512])\n",
      "torch.Size([32, 80, 512]) torch.Size([1, 80, 512])\n",
      "torch.Size([32, 80, 512]) torch.Size([1, 80, 512])\n"
     ]
    },
    {
     "name": "stderr",
     "output_type": "stream",
     "text": [
      "Processing Epoch 01:  55%|█████▌    | 3167/5717 [08:20<06:48,  6.24it/s, loss=2.066]"
     ]
    },
    {
     "name": "stdout",
     "output_type": "stream",
     "text": [
      "torch.Size([32, 80, 512]) torch.Size([1, 80, 512])\n",
      "torch.Size([32, 80, 512]) torch.Size([1, 80, 512])\n",
      "torch.Size([32, 80, 512]) torch.Size([1, 80, 512])\n",
      "torch.Size([32, 80, 512]) torch.Size([1, 80, 512])\n"
     ]
    },
    {
     "name": "stderr",
     "output_type": "stream",
     "text": [
      "Processing Epoch 01:  55%|█████▌    | 3169/5717 [08:21<06:45,  6.29it/s, loss=2.317]"
     ]
    },
    {
     "name": "stdout",
     "output_type": "stream",
     "text": [
      "torch.Size([32, 80, 512]) torch.Size([1, 80, 512])\n",
      "torch.Size([32, 80, 512]) torch.Size([1, 80, 512])\n",
      "torch.Size([32, 80, 512]) torch.Size([1, 80, 512])\n",
      "torch.Size([32, 80, 512]) torch.Size([1, 80, 512])\n"
     ]
    },
    {
     "name": "stderr",
     "output_type": "stream",
     "text": [
      "Processing Epoch 01:  55%|█████▌    | 3171/5717 [08:21<06:51,  6.19it/s, loss=1.918]"
     ]
    },
    {
     "name": "stdout",
     "output_type": "stream",
     "text": [
      "torch.Size([32, 80, 512]) torch.Size([1, 80, 512])\n",
      "torch.Size([32, 80, 512]) torch.Size([1, 80, 512])\n",
      "torch.Size([32, 80, 512]) torch.Size([1, 80, 512])\n",
      "torch.Size([32, 80, 512]) torch.Size([1, 80, 512])\n"
     ]
    },
    {
     "name": "stderr",
     "output_type": "stream",
     "text": [
      "Processing Epoch 01:  56%|█████▌    | 3173/5717 [08:21<06:32,  6.49it/s, loss=2.245]"
     ]
    },
    {
     "name": "stdout",
     "output_type": "stream",
     "text": [
      "torch.Size([32, 80, 512]) torch.Size([1, 80, 512])\n",
      "torch.Size([32, 80, 512]) torch.Size([1, 80, 512])\n",
      "torch.Size([32, 80, 512]) torch.Size([1, 80, 512])\n",
      "torch.Size([32, 80, 512]) torch.Size([1, 80, 512])\n"
     ]
    },
    {
     "name": "stderr",
     "output_type": "stream",
     "text": [
      "Processing Epoch 01:  56%|█████▌    | 3175/5717 [08:22<06:32,  6.47it/s, loss=2.110]"
     ]
    },
    {
     "name": "stdout",
     "output_type": "stream",
     "text": [
      "torch.Size([32, 80, 512]) torch.Size([1, 80, 512])\n",
      "torch.Size([32, 80, 512]) torch.Size([1, 80, 512])\n",
      "torch.Size([32, 80, 512]) torch.Size([1, 80, 512])\n",
      "torch.Size([32, 80, 512]) torch.Size([1, 80, 512])\n"
     ]
    },
    {
     "name": "stderr",
     "output_type": "stream",
     "text": [
      "Processing Epoch 01:  56%|█████▌    | 3177/5717 [08:22<06:41,  6.33it/s, loss=2.047]"
     ]
    },
    {
     "name": "stdout",
     "output_type": "stream",
     "text": [
      "torch.Size([32, 80, 512]) torch.Size([1, 80, 512])\n",
      "torch.Size([32, 80, 512]) torch.Size([1, 80, 512])\n",
      "torch.Size([32, 80, 512]) torch.Size([1, 80, 512])\n",
      "torch.Size([32, 80, 512]) torch.Size([1, 80, 512])\n"
     ]
    },
    {
     "name": "stderr",
     "output_type": "stream",
     "text": [
      "Processing Epoch 01:  56%|█████▌    | 3179/5717 [08:22<06:36,  6.41it/s, loss=2.090]"
     ]
    },
    {
     "name": "stdout",
     "output_type": "stream",
     "text": [
      "torch.Size([32, 80, 512]) torch.Size([1, 80, 512])\n",
      "torch.Size([32, 80, 512]) torch.Size([1, 80, 512])\n",
      "torch.Size([32, 80, 512]) torch.Size([1, 80, 512])\n",
      "torch.Size([32, 80, 512]) torch.Size([1, 80, 512])\n"
     ]
    },
    {
     "name": "stderr",
     "output_type": "stream",
     "text": [
      "Processing Epoch 01:  56%|█████▌    | 3181/5717 [08:23<06:47,  6.22it/s, loss=2.058]"
     ]
    },
    {
     "name": "stdout",
     "output_type": "stream",
     "text": [
      "torch.Size([32, 80, 512]) torch.Size([1, 80, 512])\n",
      "torch.Size([32, 80, 512]) torch.Size([1, 80, 512])\n",
      "torch.Size([32, 80, 512]) torch.Size([1, 80, 512])\n",
      "torch.Size([32, 80, 512]) torch.Size([1, 80, 512])\n"
     ]
    },
    {
     "name": "stderr",
     "output_type": "stream",
     "text": [
      "Processing Epoch 01:  56%|█████▌    | 3183/5717 [08:23<06:37,  6.37it/s, loss=1.996]"
     ]
    },
    {
     "name": "stdout",
     "output_type": "stream",
     "text": [
      "torch.Size([32, 80, 512]) torch.Size([1, 80, 512])\n",
      "torch.Size([32, 80, 512]) torch.Size([1, 80, 512])\n",
      "torch.Size([32, 80, 512]) torch.Size([1, 80, 512])\n",
      "torch.Size([32, 80, 512]) torch.Size([1, 80, 512])\n"
     ]
    },
    {
     "name": "stderr",
     "output_type": "stream",
     "text": [
      "Processing Epoch 01:  56%|█████▌    | 3185/5717 [08:23<06:36,  6.39it/s, loss=2.028]"
     ]
    },
    {
     "name": "stdout",
     "output_type": "stream",
     "text": [
      "torch.Size([32, 80, 512]) torch.Size([1, 80, 512])\n",
      "torch.Size([32, 80, 512]) torch.Size([1, 80, 512])\n",
      "torch.Size([32, 80, 512]) torch.Size([1, 80, 512])\n",
      "torch.Size([32, 80, 512]) torch.Size([1, 80, 512])\n"
     ]
    },
    {
     "name": "stderr",
     "output_type": "stream",
     "text": [
      "Processing Epoch 01:  56%|█████▌    | 3187/5717 [08:24<07:02,  5.99it/s, loss=1.908]"
     ]
    },
    {
     "name": "stdout",
     "output_type": "stream",
     "text": [
      "torch.Size([32, 80, 512]) torch.Size([1, 80, 512])\n",
      "torch.Size([32, 80, 512]) torch.Size([1, 80, 512])\n",
      "torch.Size([32, 80, 512]) torch.Size([1, 80, 512])\n",
      "torch.Size([32, 80, 512]) torch.Size([1, 80, 512])\n"
     ]
    },
    {
     "name": "stderr",
     "output_type": "stream",
     "text": [
      "Processing Epoch 01:  56%|█████▌    | 3189/5717 [08:24<06:34,  6.41it/s, loss=2.120]"
     ]
    },
    {
     "name": "stdout",
     "output_type": "stream",
     "text": [
      "torch.Size([32, 80, 512]) torch.Size([1, 80, 512])\n",
      "torch.Size([32, 80, 512]) torch.Size([1, 80, 512])\n",
      "torch.Size([32, 80, 512]) torch.Size([1, 80, 512])\n",
      "torch.Size([32, 80, 512]) torch.Size([1, 80, 512])\n"
     ]
    },
    {
     "name": "stderr",
     "output_type": "stream",
     "text": [
      "Processing Epoch 01:  56%|█████▌    | 3191/5717 [08:24<06:39,  6.33it/s, loss=2.002]"
     ]
    },
    {
     "name": "stdout",
     "output_type": "stream",
     "text": [
      "torch.Size([32, 80, 512]) torch.Size([1, 80, 512])\n",
      "torch.Size([32, 80, 512]) torch.Size([1, 80, 512])\n",
      "torch.Size([32, 80, 512]) torch.Size([1, 80, 512])\n",
      "torch.Size([32, 80, 512]) torch.Size([1, 80, 512])\n"
     ]
    },
    {
     "name": "stderr",
     "output_type": "stream",
     "text": [
      "Processing Epoch 01:  56%|█████▌    | 3193/5717 [08:24<06:37,  6.36it/s, loss=2.353]"
     ]
    },
    {
     "name": "stdout",
     "output_type": "stream",
     "text": [
      "torch.Size([32, 80, 512]) torch.Size([1, 80, 512])\n",
      "torch.Size([32, 80, 512]) torch.Size([1, 80, 512])\n",
      "torch.Size([32, 80, 512]) torch.Size([1, 80, 512])\n",
      "torch.Size([32, 80, 512]) torch.Size([1, 80, 512])\n"
     ]
    },
    {
     "name": "stderr",
     "output_type": "stream",
     "text": [
      "Processing Epoch 01:  56%|█████▌    | 3195/5717 [08:25<06:33,  6.42it/s, loss=2.356]"
     ]
    },
    {
     "name": "stdout",
     "output_type": "stream",
     "text": [
      "torch.Size([32, 80, 512]) torch.Size([1, 80, 512])\n",
      "torch.Size([32, 80, 512]) torch.Size([1, 80, 512])\n",
      "torch.Size([32, 80, 512]) torch.Size([1, 80, 512])\n",
      "torch.Size([32, 80, 512]) torch.Size([1, 80, 512])\n"
     ]
    },
    {
     "name": "stderr",
     "output_type": "stream",
     "text": [
      "Processing Epoch 01:  56%|█████▌    | 3197/5717 [08:25<06:32,  6.42it/s, loss=2.416]"
     ]
    },
    {
     "name": "stdout",
     "output_type": "stream",
     "text": [
      "torch.Size([32, 80, 512]) torch.Size([1, 80, 512])\n",
      "torch.Size([32, 80, 512]) torch.Size([1, 80, 512])\n",
      "torch.Size([32, 80, 512]) torch.Size([1, 80, 512])\n",
      "torch.Size([32, 80, 512]) torch.Size([1, 80, 512])\n"
     ]
    },
    {
     "name": "stderr",
     "output_type": "stream",
     "text": [
      "Processing Epoch 01:  56%|█████▌    | 3199/5717 [08:25<06:44,  6.22it/s, loss=2.442]"
     ]
    },
    {
     "name": "stdout",
     "output_type": "stream",
     "text": [
      "torch.Size([32, 80, 512]) torch.Size([1, 80, 512])\n",
      "torch.Size([32, 80, 512]) torch.Size([1, 80, 512])\n",
      "torch.Size([32, 80, 512]) torch.Size([1, 80, 512])\n",
      "torch.Size([32, 80, 512]) torch.Size([1, 80, 512])\n"
     ]
    },
    {
     "name": "stderr",
     "output_type": "stream",
     "text": [
      "Processing Epoch 01:  56%|█████▌    | 3201/5717 [08:26<06:33,  6.39it/s, loss=2.220]"
     ]
    },
    {
     "name": "stdout",
     "output_type": "stream",
     "text": [
      "torch.Size([32, 80, 512]) torch.Size([1, 80, 512])\n",
      "torch.Size([32, 80, 512]) torch.Size([1, 80, 512])\n",
      "torch.Size([32, 80, 512]) torch.Size([1, 80, 512])\n",
      "torch.Size([32, 80, 512]) torch.Size([1, 80, 512])\n"
     ]
    },
    {
     "name": "stderr",
     "output_type": "stream",
     "text": [
      "Processing Epoch 01:  56%|█████▌    | 3203/5717 [08:26<06:31,  6.43it/s, loss=2.022]"
     ]
    },
    {
     "name": "stdout",
     "output_type": "stream",
     "text": [
      "torch.Size([32, 80, 512]) torch.Size([1, 80, 512])\n",
      "torch.Size([32, 80, 512]) torch.Size([1, 80, 512])\n",
      "torch.Size([32, 80, 512]) torch.Size([1, 80, 512])\n",
      "torch.Size([32, 80, 512]) torch.Size([1, 80, 512])\n"
     ]
    },
    {
     "name": "stderr",
     "output_type": "stream",
     "text": [
      "Processing Epoch 01:  56%|█████▌    | 3205/5717 [08:26<06:50,  6.12it/s, loss=2.029]"
     ]
    },
    {
     "name": "stdout",
     "output_type": "stream",
     "text": [
      "torch.Size([32, 80, 512]) torch.Size([1, 80, 512])\n",
      "torch.Size([32, 80, 512]) torch.Size([1, 80, 512])\n",
      "torch.Size([32, 80, 512]) torch.Size([1, 80, 512])\n",
      "torch.Size([32, 80, 512]) torch.Size([1, 80, 512])\n"
     ]
    },
    {
     "name": "stderr",
     "output_type": "stream",
     "text": [
      "Processing Epoch 01:  56%|█████▌    | 3207/5717 [08:27<06:32,  6.40it/s, loss=1.884]"
     ]
    },
    {
     "name": "stdout",
     "output_type": "stream",
     "text": [
      "torch.Size([32, 80, 512]) torch.Size([1, 80, 512])\n",
      "torch.Size([32, 80, 512]) torch.Size([1, 80, 512])\n",
      "torch.Size([32, 80, 512]) torch.Size([1, 80, 512])\n",
      "torch.Size([32, 80, 512]) torch.Size([1, 80, 512])\n"
     ]
    },
    {
     "name": "stderr",
     "output_type": "stream",
     "text": [
      "Processing Epoch 01:  56%|█████▌    | 3209/5717 [08:27<06:47,  6.16it/s, loss=2.200]"
     ]
    },
    {
     "name": "stdout",
     "output_type": "stream",
     "text": [
      "torch.Size([32, 80, 512]) torch.Size([1, 80, 512])\n",
      "torch.Size([32, 80, 512]) torch.Size([1, 80, 512])\n",
      "torch.Size([32, 80, 512]) torch.Size([1, 80, 512])\n",
      "torch.Size([32, 80, 512]) torch.Size([1, 80, 512])\n"
     ]
    },
    {
     "name": "stderr",
     "output_type": "stream",
     "text": [
      "Processing Epoch 01:  56%|█████▌    | 3211/5717 [08:27<06:34,  6.35it/s, loss=2.101]"
     ]
    },
    {
     "name": "stdout",
     "output_type": "stream",
     "text": [
      "torch.Size([32, 80, 512]) torch.Size([1, 80, 512])\n",
      "torch.Size([32, 80, 512]) torch.Size([1, 80, 512])\n",
      "torch.Size([32, 80, 512]) torch.Size([1, 80, 512])\n",
      "torch.Size([32, 80, 512]) torch.Size([1, 80, 512])\n"
     ]
    },
    {
     "name": "stderr",
     "output_type": "stream",
     "text": [
      "Processing Epoch 01:  56%|█████▌    | 3213/5717 [08:28<06:38,  6.29it/s, loss=2.082]"
     ]
    },
    {
     "name": "stdout",
     "output_type": "stream",
     "text": [
      "torch.Size([32, 80, 512]) torch.Size([1, 80, 512])\n",
      "torch.Size([32, 80, 512]) torch.Size([1, 80, 512])\n",
      "torch.Size([32, 80, 512]) torch.Size([1, 80, 512])\n",
      "torch.Size([32, 80, 512]) torch.Size([1, 80, 512])\n"
     ]
    },
    {
     "name": "stderr",
     "output_type": "stream",
     "text": [
      "Processing Epoch 01:  56%|█████▌    | 3215/5717 [08:28<06:37,  6.30it/s, loss=2.315]"
     ]
    },
    {
     "name": "stdout",
     "output_type": "stream",
     "text": [
      "torch.Size([32, 80, 512]) torch.Size([1, 80, 512])\n",
      "torch.Size([32, 80, 512]) torch.Size([1, 80, 512])\n",
      "torch.Size([32, 80, 512]) torch.Size([1, 80, 512])\n",
      "torch.Size([32, 80, 512]) torch.Size([1, 80, 512])\n"
     ]
    },
    {
     "name": "stderr",
     "output_type": "stream",
     "text": [
      "Processing Epoch 01:  56%|█████▋    | 3217/5717 [08:28<06:38,  6.28it/s, loss=2.085]"
     ]
    },
    {
     "name": "stdout",
     "output_type": "stream",
     "text": [
      "torch.Size([32, 80, 512]) torch.Size([1, 80, 512])\n",
      "torch.Size([32, 80, 512]) torch.Size([1, 80, 512])\n",
      "torch.Size([32, 80, 512]) torch.Size([1, 80, 512])\n",
      "torch.Size([32, 80, 512]) torch.Size([1, 80, 512])\n"
     ]
    },
    {
     "name": "stderr",
     "output_type": "stream",
     "text": [
      "Processing Epoch 01:  56%|█████▋    | 3219/5717 [08:29<06:28,  6.42it/s, loss=1.941]"
     ]
    },
    {
     "name": "stdout",
     "output_type": "stream",
     "text": [
      "torch.Size([32, 80, 512]) torch.Size([1, 80, 512])\n",
      "torch.Size([32, 80, 512]) torch.Size([1, 80, 512])\n",
      "torch.Size([32, 80, 512]) torch.Size([1, 80, 512])\n",
      "torch.Size([32, 80, 512]) torch.Size([1, 80, 512])\n"
     ]
    },
    {
     "name": "stderr",
     "output_type": "stream",
     "text": [
      "Processing Epoch 01:  56%|█████▋    | 3221/5717 [08:29<06:28,  6.42it/s, loss=2.050]"
     ]
    },
    {
     "name": "stdout",
     "output_type": "stream",
     "text": [
      "torch.Size([32, 80, 512]) torch.Size([1, 80, 512])\n",
      "torch.Size([32, 80, 512]) torch.Size([1, 80, 512])\n",
      "torch.Size([32, 80, 512]) torch.Size([1, 80, 512])\n",
      "torch.Size([32, 80, 512]) torch.Size([1, 80, 512])\n"
     ]
    },
    {
     "name": "stderr",
     "output_type": "stream",
     "text": [
      "Processing Epoch 01:  56%|█████▋    | 3223/5717 [08:29<06:30,  6.38it/s, loss=2.107]"
     ]
    },
    {
     "name": "stdout",
     "output_type": "stream",
     "text": [
      "torch.Size([32, 80, 512]) torch.Size([1, 80, 512])\n",
      "torch.Size([32, 80, 512]) torch.Size([1, 80, 512])\n",
      "torch.Size([32, 80, 512]) torch.Size([1, 80, 512])\n",
      "torch.Size([32, 80, 512]) torch.Size([1, 80, 512])\n"
     ]
    },
    {
     "name": "stderr",
     "output_type": "stream",
     "text": [
      "Processing Epoch 01:  56%|█████▋    | 3225/5717 [08:30<06:36,  6.29it/s, loss=2.129]"
     ]
    },
    {
     "name": "stdout",
     "output_type": "stream",
     "text": [
      "torch.Size([32, 80, 512]) torch.Size([1, 80, 512])\n",
      "torch.Size([32, 80, 512]) torch.Size([1, 80, 512])\n",
      "torch.Size([32, 80, 512]) torch.Size([1, 80, 512])\n",
      "torch.Size([32, 80, 512]) torch.Size([1, 80, 512])\n"
     ]
    },
    {
     "name": "stderr",
     "output_type": "stream",
     "text": [
      "Processing Epoch 01:  56%|█████▋    | 3227/5717 [08:30<06:34,  6.31it/s, loss=2.075]"
     ]
    },
    {
     "name": "stdout",
     "output_type": "stream",
     "text": [
      "torch.Size([32, 80, 512]) torch.Size([1, 80, 512])\n",
      "torch.Size([32, 80, 512]) torch.Size([1, 80, 512])\n",
      "torch.Size([32, 80, 512]) torch.Size([1, 80, 512])\n",
      "torch.Size([32, 80, 512]) torch.Size([1, 80, 512])\n"
     ]
    },
    {
     "name": "stderr",
     "output_type": "stream",
     "text": [
      "Processing Epoch 01:  56%|█████▋    | 3229/5717 [08:30<06:47,  6.10it/s, loss=2.240]"
     ]
    },
    {
     "name": "stdout",
     "output_type": "stream",
     "text": [
      "torch.Size([32, 80, 512]) torch.Size([1, 80, 512])\n",
      "torch.Size([32, 80, 512]) torch.Size([1, 80, 512])\n",
      "torch.Size([32, 80, 512]) torch.Size([1, 80, 512])\n",
      "torch.Size([32, 80, 512]) torch.Size([1, 80, 512])\n"
     ]
    },
    {
     "name": "stderr",
     "output_type": "stream",
     "text": [
      "Processing Epoch 01:  57%|█████▋    | 3231/5717 [08:30<06:35,  6.29it/s, loss=2.433]"
     ]
    },
    {
     "name": "stdout",
     "output_type": "stream",
     "text": [
      "torch.Size([32, 80, 512]) torch.Size([1, 80, 512])\n",
      "torch.Size([32, 80, 512]) torch.Size([1, 80, 512])\n",
      "torch.Size([32, 80, 512]) torch.Size([1, 80, 512])\n",
      "torch.Size([32, 80, 512]) torch.Size([1, 80, 512])\n"
     ]
    },
    {
     "name": "stderr",
     "output_type": "stream",
     "text": [
      "Processing Epoch 01:  57%|█████▋    | 3233/5717 [08:31<06:45,  6.13it/s, loss=2.063]"
     ]
    },
    {
     "name": "stdout",
     "output_type": "stream",
     "text": [
      "torch.Size([32, 80, 512]) torch.Size([1, 80, 512])\n",
      "torch.Size([32, 80, 512]) torch.Size([1, 80, 512])\n",
      "torch.Size([32, 80, 512]) torch.Size([1, 80, 512])\n",
      "torch.Size([32, 80, 512]) torch.Size([1, 80, 512])\n"
     ]
    },
    {
     "name": "stderr",
     "output_type": "stream",
     "text": [
      "Processing Epoch 01:  57%|█████▋    | 3235/5717 [08:31<06:25,  6.44it/s, loss=2.177]"
     ]
    },
    {
     "name": "stdout",
     "output_type": "stream",
     "text": [
      "torch.Size([32, 80, 512]) torch.Size([1, 80, 512])\n",
      "torch.Size([32, 80, 512]) torch.Size([1, 80, 512])\n",
      "torch.Size([32, 80, 512]) torch.Size([1, 80, 512])\n",
      "torch.Size([32, 80, 512]) torch.Size([1, 80, 512])\n"
     ]
    },
    {
     "name": "stderr",
     "output_type": "stream",
     "text": [
      "Processing Epoch 01:  57%|█████▋    | 3237/5717 [08:31<06:27,  6.39it/s, loss=1.933]"
     ]
    },
    {
     "name": "stdout",
     "output_type": "stream",
     "text": [
      "torch.Size([32, 80, 512]) torch.Size([1, 80, 512])\n",
      "torch.Size([32, 80, 512]) torch.Size([1, 80, 512])\n",
      "torch.Size([32, 80, 512]) torch.Size([1, 80, 512])\n",
      "torch.Size([32, 80, 512]) torch.Size([1, 80, 512])\n"
     ]
    },
    {
     "name": "stderr",
     "output_type": "stream",
     "text": [
      "Processing Epoch 01:  57%|█████▋    | 3239/5717 [08:32<06:50,  6.04it/s, loss=2.064]"
     ]
    },
    {
     "name": "stdout",
     "output_type": "stream",
     "text": [
      "torch.Size([32, 80, 512]) torch.Size([1, 80, 512])\n",
      "torch.Size([32, 80, 512]) torch.Size([1, 80, 512])\n",
      "torch.Size([32, 80, 512]) torch.Size([1, 80, 512])\n",
      "torch.Size([32, 80, 512]) torch.Size([1, 80, 512])\n"
     ]
    },
    {
     "name": "stderr",
     "output_type": "stream",
     "text": [
      "Processing Epoch 01:  57%|█████▋    | 3241/5717 [08:32<06:54,  5.97it/s, loss=2.014]"
     ]
    },
    {
     "name": "stdout",
     "output_type": "stream",
     "text": [
      "torch.Size([32, 80, 512]) torch.Size([1, 80, 512])\n",
      "torch.Size([32, 80, 512]) torch.Size([1, 80, 512])\n",
      "torch.Size([32, 80, 512]) torch.Size([1, 80, 512])\n",
      "torch.Size([32, 80, 512]) torch.Size([1, 80, 512])\n"
     ]
    },
    {
     "name": "stderr",
     "output_type": "stream",
     "text": [
      "Processing Epoch 01:  57%|█████▋    | 3243/5717 [08:32<06:43,  6.12it/s, loss=2.048]"
     ]
    },
    {
     "name": "stdout",
     "output_type": "stream",
     "text": [
      "torch.Size([32, 80, 512]) torch.Size([1, 80, 512])\n",
      "torch.Size([32, 80, 512]) torch.Size([1, 80, 512])\n",
      "torch.Size([32, 80, 512]) torch.Size([1, 80, 512])\n",
      "torch.Size([32, 80, 512]) torch.Size([1, 80, 512])\n"
     ]
    },
    {
     "name": "stderr",
     "output_type": "stream",
     "text": [
      "Processing Epoch 01:  57%|█████▋    | 3245/5717 [08:33<06:32,  6.30it/s, loss=2.190]"
     ]
    },
    {
     "name": "stdout",
     "output_type": "stream",
     "text": [
      "torch.Size([32, 80, 512]) torch.Size([1, 80, 512])\n",
      "torch.Size([32, 80, 512]) torch.Size([1, 80, 512])\n",
      "torch.Size([32, 80, 512]) torch.Size([1, 80, 512])\n",
      "torch.Size([32, 80, 512]) torch.Size([1, 80, 512])\n"
     ]
    },
    {
     "name": "stderr",
     "output_type": "stream",
     "text": [
      "Processing Epoch 01:  57%|█████▋    | 3247/5717 [08:33<06:48,  6.04it/s, loss=2.109]"
     ]
    },
    {
     "name": "stdout",
     "output_type": "stream",
     "text": [
      "torch.Size([32, 80, 512]) torch.Size([1, 80, 512])\n",
      "torch.Size([32, 80, 512]) torch.Size([1, 80, 512])\n",
      "torch.Size([32, 80, 512]) torch.Size([1, 80, 512])\n",
      "torch.Size([32, 80, 512]) torch.Size([1, 80, 512])\n"
     ]
    },
    {
     "name": "stderr",
     "output_type": "stream",
     "text": [
      "Processing Epoch 01:  57%|█████▋    | 3249/5717 [08:33<06:31,  6.30it/s, loss=1.900]"
     ]
    },
    {
     "name": "stdout",
     "output_type": "stream",
     "text": [
      "torch.Size([32, 80, 512]) torch.Size([1, 80, 512])\n",
      "torch.Size([32, 80, 512]) torch.Size([1, 80, 512])\n",
      "torch.Size([32, 80, 512]) torch.Size([1, 80, 512])\n",
      "torch.Size([32, 80, 512]) torch.Size([1, 80, 512])\n"
     ]
    },
    {
     "name": "stderr",
     "output_type": "stream",
     "text": [
      "Processing Epoch 01:  57%|█████▋    | 3251/5717 [08:34<06:29,  6.33it/s, loss=1.971]"
     ]
    },
    {
     "name": "stdout",
     "output_type": "stream",
     "text": [
      "torch.Size([32, 80, 512]) torch.Size([1, 80, 512])\n",
      "torch.Size([32, 80, 512]) torch.Size([1, 80, 512])\n",
      "torch.Size([32, 80, 512]) torch.Size([1, 80, 512])\n",
      "torch.Size([32, 80, 512]) torch.Size([1, 80, 512])\n"
     ]
    },
    {
     "name": "stderr",
     "output_type": "stream",
     "text": [
      "Processing Epoch 01:  57%|█████▋    | 3253/5717 [08:34<06:27,  6.36it/s, loss=2.409]"
     ]
    },
    {
     "name": "stdout",
     "output_type": "stream",
     "text": [
      "torch.Size([32, 80, 512]) torch.Size([1, 80, 512])\n",
      "torch.Size([32, 80, 512]) torch.Size([1, 80, 512])\n",
      "torch.Size([32, 80, 512]) torch.Size([1, 80, 512])\n",
      "torch.Size([32, 80, 512]) torch.Size([1, 80, 512])\n"
     ]
    },
    {
     "name": "stderr",
     "output_type": "stream",
     "text": [
      "Processing Epoch 01:  57%|█████▋    | 3255/5717 [08:34<06:39,  6.17it/s, loss=1.941]"
     ]
    },
    {
     "name": "stdout",
     "output_type": "stream",
     "text": [
      "torch.Size([32, 80, 512]) torch.Size([1, 80, 512])\n",
      "torch.Size([32, 80, 512]) torch.Size([1, 80, 512])\n",
      "torch.Size([32, 80, 512]) torch.Size([1, 80, 512])\n",
      "torch.Size([32, 80, 512]) torch.Size([1, 80, 512])\n"
     ]
    },
    {
     "name": "stderr",
     "output_type": "stream",
     "text": [
      "Processing Epoch 01:  57%|█████▋    | 3257/5717 [08:35<06:29,  6.32it/s, loss=1.951]"
     ]
    },
    {
     "name": "stdout",
     "output_type": "stream",
     "text": [
      "torch.Size([32, 80, 512]) torch.Size([1, 80, 512])\n",
      "torch.Size([32, 80, 512]) torch.Size([1, 80, 512])\n",
      "torch.Size([32, 80, 512]) torch.Size([1, 80, 512])\n",
      "torch.Size([32, 80, 512]) torch.Size([1, 80, 512])\n"
     ]
    },
    {
     "name": "stderr",
     "output_type": "stream",
     "text": [
      "Processing Epoch 01:  57%|█████▋    | 3259/5717 [08:35<06:27,  6.35it/s, loss=2.258]"
     ]
    },
    {
     "name": "stdout",
     "output_type": "stream",
     "text": [
      "torch.Size([32, 80, 512]) torch.Size([1, 80, 512])\n",
      "torch.Size([32, 80, 512]) torch.Size([1, 80, 512])\n",
      "torch.Size([32, 80, 512]) torch.Size([1, 80, 512])\n",
      "torch.Size([32, 80, 512]) torch.Size([1, 80, 512])\n"
     ]
    },
    {
     "name": "stderr",
     "output_type": "stream",
     "text": [
      "Processing Epoch 01:  57%|█████▋    | 3261/5717 [08:35<06:29,  6.30it/s, loss=1.999]"
     ]
    },
    {
     "name": "stdout",
     "output_type": "stream",
     "text": [
      "torch.Size([32, 80, 512]) torch.Size([1, 80, 512])\n",
      "torch.Size([32, 80, 512]) torch.Size([1, 80, 512])\n",
      "torch.Size([32, 80, 512]) torch.Size([1, 80, 512])\n",
      "torch.Size([32, 80, 512]) torch.Size([1, 80, 512])\n"
     ]
    },
    {
     "name": "stderr",
     "output_type": "stream",
     "text": [
      "Processing Epoch 01:  57%|█████▋    | 3263/5717 [08:36<06:27,  6.33it/s, loss=2.008]"
     ]
    },
    {
     "name": "stdout",
     "output_type": "stream",
     "text": [
      "torch.Size([32, 80, 512]) torch.Size([1, 80, 512])\n",
      "torch.Size([32, 80, 512]) torch.Size([1, 80, 512])\n",
      "torch.Size([32, 80, 512]) torch.Size([1, 80, 512])\n"
     ]
    },
    {
     "name": "stderr",
     "output_type": "stream",
     "text": [
      "Processing Epoch 01:  57%|█████▋    | 3264/5717 [08:36<06:33,  6.23it/s, loss=1.923]"
     ]
    },
    {
     "name": "stdout",
     "output_type": "stream",
     "text": [
      "torch.Size([32, 80, 512]) torch.Size([1, 80, 512])\n",
      "torch.Size([32, 80, 512]) torch.Size([1, 80, 512])\n",
      "torch.Size([32, 80, 512]) torch.Size([1, 80, 512])\n"
     ]
    },
    {
     "name": "stderr",
     "output_type": "stream",
     "text": [
      "Processing Epoch 01:  57%|█████▋    | 3266/5717 [08:36<06:22,  6.41it/s, loss=2.292]"
     ]
    },
    {
     "name": "stdout",
     "output_type": "stream",
     "text": [
      "torch.Size([32, 80, 512]) torch.Size([1, 80, 512])\n",
      "torch.Size([32, 80, 512]) torch.Size([1, 80, 512])\n",
      "torch.Size([32, 80, 512]) torch.Size([1, 80, 512])\n",
      "torch.Size([32, 80, 512]) torch.Size([1, 80, 512])\n"
     ]
    },
    {
     "name": "stderr",
     "output_type": "stream",
     "text": [
      "Processing Epoch 01:  57%|█████▋    | 3268/5717 [08:36<06:14,  6.54it/s, loss=2.163]"
     ]
    },
    {
     "name": "stdout",
     "output_type": "stream",
     "text": [
      "torch.Size([32, 80, 512]) torch.Size([1, 80, 512])\n",
      "torch.Size([32, 80, 512]) torch.Size([1, 80, 512])\n",
      "torch.Size([32, 80, 512]) torch.Size([1, 80, 512])\n",
      "torch.Size([32, 80, 512]) torch.Size([1, 80, 512])\n"
     ]
    },
    {
     "name": "stderr",
     "output_type": "stream",
     "text": [
      "Processing Epoch 01:  57%|█████▋    | 3270/5717 [08:37<06:30,  6.27it/s, loss=1.962]"
     ]
    },
    {
     "name": "stdout",
     "output_type": "stream",
     "text": [
      "torch.Size([32, 80, 512]) torch.Size([1, 80, 512])\n",
      "torch.Size([32, 80, 512]) torch.Size([1, 80, 512])\n",
      "torch.Size([32, 80, 512]) torch.Size([1, 80, 512])\n",
      "torch.Size([32, 80, 512]) torch.Size([1, 80, 512])\n"
     ]
    },
    {
     "name": "stderr",
     "output_type": "stream",
     "text": [
      "Processing Epoch 01:  57%|█████▋    | 3272/5717 [08:37<06:22,  6.38it/s, loss=2.079]"
     ]
    },
    {
     "name": "stdout",
     "output_type": "stream",
     "text": [
      "torch.Size([32, 80, 512]) torch.Size([1, 80, 512])\n",
      "torch.Size([32, 80, 512]) torch.Size([1, 80, 512])\n",
      "torch.Size([32, 80, 512]) torch.Size([1, 80, 512])\n",
      "torch.Size([32, 80, 512]) torch.Size([1, 80, 512])\n"
     ]
    },
    {
     "name": "stderr",
     "output_type": "stream",
     "text": [
      "Processing Epoch 01:  57%|█████▋    | 3274/5717 [08:37<06:18,  6.45it/s, loss=2.217]"
     ]
    },
    {
     "name": "stdout",
     "output_type": "stream",
     "text": [
      "torch.Size([32, 80, 512]) torch.Size([1, 80, 512])\n",
      "torch.Size([32, 80, 512]) torch.Size([1, 80, 512])\n",
      "torch.Size([32, 80, 512]) torch.Size([1, 80, 512])\n",
      "torch.Size([32, 80, 512]) torch.Size([1, 80, 512])\n"
     ]
    },
    {
     "name": "stderr",
     "output_type": "stream",
     "text": [
      "Processing Epoch 01:  57%|█████▋    | 3276/5717 [08:38<06:21,  6.39it/s, loss=2.092]"
     ]
    },
    {
     "name": "stdout",
     "output_type": "stream",
     "text": [
      "torch.Size([32, 80, 512]) torch.Size([1, 80, 512])\n",
      "torch.Size([32, 80, 512]) torch.Size([1, 80, 512])\n",
      "torch.Size([32, 80, 512]) torch.Size([1, 80, 512])\n",
      "torch.Size([32, 80, 512]) torch.Size([1, 80, 512])\n"
     ]
    },
    {
     "name": "stderr",
     "output_type": "stream",
     "text": [
      "Processing Epoch 01:  57%|█████▋    | 3278/5717 [08:38<06:21,  6.39it/s, loss=2.019]"
     ]
    },
    {
     "name": "stdout",
     "output_type": "stream",
     "text": [
      "torch.Size([32, 80, 512]) torch.Size([1, 80, 512])\n",
      "torch.Size([32, 80, 512]) torch.Size([1, 80, 512])\n",
      "torch.Size([32, 80, 512]) torch.Size([1, 80, 512])\n",
      "torch.Size([32, 80, 512]) torch.Size([1, 80, 512])\n"
     ]
    },
    {
     "name": "stderr",
     "output_type": "stream",
     "text": [
      "Processing Epoch 01:  57%|█████▋    | 3280/5717 [08:38<06:16,  6.47it/s, loss=2.049]"
     ]
    },
    {
     "name": "stdout",
     "output_type": "stream",
     "text": [
      "torch.Size([32, 80, 512]) torch.Size([1, 80, 512])\n",
      "torch.Size([32, 80, 512]) torch.Size([1, 80, 512])\n",
      "torch.Size([32, 80, 512]) torch.Size([1, 80, 512])\n",
      "torch.Size([32, 80, 512]) torch.Size([1, 80, 512])\n"
     ]
    },
    {
     "name": "stderr",
     "output_type": "stream",
     "text": [
      "Processing Epoch 01:  57%|█████▋    | 3282/5717 [08:39<06:17,  6.44it/s, loss=2.120]"
     ]
    },
    {
     "name": "stdout",
     "output_type": "stream",
     "text": [
      "torch.Size([32, 80, 512]) torch.Size([1, 80, 512])\n",
      "torch.Size([32, 80, 512]) torch.Size([1, 80, 512])\n",
      "torch.Size([32, 80, 512]) torch.Size([1, 80, 512])\n",
      "torch.Size([32, 80, 512]) torch.Size([1, 80, 512])\n"
     ]
    },
    {
     "name": "stderr",
     "output_type": "stream",
     "text": [
      "Processing Epoch 01:  57%|█████▋    | 3284/5717 [08:39<06:16,  6.46it/s, loss=2.162]"
     ]
    },
    {
     "name": "stdout",
     "output_type": "stream",
     "text": [
      "torch.Size([32, 80, 512]) torch.Size([1, 80, 512])\n",
      "torch.Size([32, 80, 512]) torch.Size([1, 80, 512])\n",
      "torch.Size([32, 80, 512]) torch.Size([1, 80, 512])\n",
      "torch.Size([32, 80, 512]) torch.Size([1, 80, 512])\n"
     ]
    },
    {
     "name": "stderr",
     "output_type": "stream",
     "text": [
      "Processing Epoch 01:  57%|█████▋    | 3286/5717 [08:39<06:30,  6.22it/s, loss=2.192]"
     ]
    },
    {
     "name": "stdout",
     "output_type": "stream",
     "text": [
      "torch.Size([32, 80, 512]) torch.Size([1, 80, 512])\n",
      "torch.Size([32, 80, 512]) torch.Size([1, 80, 512])\n",
      "torch.Size([32, 80, 512]) torch.Size([1, 80, 512])\n",
      "torch.Size([32, 80, 512]) torch.Size([1, 80, 512])\n"
     ]
    },
    {
     "name": "stderr",
     "output_type": "stream",
     "text": [
      "Processing Epoch 01:  58%|█████▊    | 3288/5717 [08:40<06:10,  6.56it/s, loss=2.101]"
     ]
    },
    {
     "name": "stdout",
     "output_type": "stream",
     "text": [
      "torch.Size([32, 80, 512]) torch.Size([1, 80, 512])\n",
      "torch.Size([32, 80, 512]) torch.Size([1, 80, 512])\n",
      "torch.Size([32, 80, 512]) torch.Size([1, 80, 512])\n",
      "torch.Size([32, 80, 512]) torch.Size([1, 80, 512])\n"
     ]
    },
    {
     "name": "stderr",
     "output_type": "stream",
     "text": [
      "Processing Epoch 01:  58%|█████▊    | 3290/5717 [08:40<06:14,  6.47it/s, loss=2.067]"
     ]
    },
    {
     "name": "stdout",
     "output_type": "stream",
     "text": [
      "torch.Size([32, 80, 512]) torch.Size([1, 80, 512])\n",
      "torch.Size([32, 80, 512]) torch.Size([1, 80, 512])\n",
      "torch.Size([32, 80, 512]) torch.Size([1, 80, 512])\n",
      "torch.Size([32, 80, 512]) torch.Size([1, 80, 512])\n"
     ]
    },
    {
     "name": "stderr",
     "output_type": "stream",
     "text": [
      "Processing Epoch 01:  58%|█████▊    | 3292/5717 [08:40<06:17,  6.43it/s, loss=1.933]"
     ]
    },
    {
     "name": "stdout",
     "output_type": "stream",
     "text": [
      "torch.Size([32, 80, 512]) torch.Size([1, 80, 512])\n",
      "torch.Size([32, 80, 512]) torch.Size([1, 80, 512])\n",
      "torch.Size([32, 80, 512]) torch.Size([1, 80, 512])\n",
      "torch.Size([32, 80, 512]) torch.Size([1, 80, 512])\n"
     ]
    },
    {
     "name": "stderr",
     "output_type": "stream",
     "text": [
      "Processing Epoch 01:  58%|█████▊    | 3294/5717 [08:41<06:38,  6.09it/s, loss=1.993]"
     ]
    },
    {
     "name": "stdout",
     "output_type": "stream",
     "text": [
      "torch.Size([32, 80, 512]) torch.Size([1, 80, 512])\n",
      "torch.Size([32, 80, 512]) torch.Size([1, 80, 512])\n",
      "torch.Size([32, 80, 512]) torch.Size([1, 80, 512])\n",
      "torch.Size([32, 80, 512]) torch.Size([1, 80, 512])\n"
     ]
    },
    {
     "name": "stderr",
     "output_type": "stream",
     "text": [
      "Processing Epoch 01:  58%|█████▊    | 3296/5717 [08:41<06:07,  6.58it/s, loss=2.217]"
     ]
    },
    {
     "name": "stdout",
     "output_type": "stream",
     "text": [
      "torch.Size([32, 80, 512]) torch.Size([1, 80, 512])\n",
      "torch.Size([32, 80, 512]) torch.Size([1, 80, 512])\n",
      "torch.Size([32, 80, 512]) torch.Size([1, 80, 512])\n",
      "torch.Size([32, 80, 512]) torch.Size([1, 80, 512])\n"
     ]
    },
    {
     "name": "stderr",
     "output_type": "stream",
     "text": [
      "Processing Epoch 01:  58%|█████▊    | 3298/5717 [08:41<06:14,  6.45it/s, loss=2.329]"
     ]
    },
    {
     "name": "stdout",
     "output_type": "stream",
     "text": [
      "torch.Size([32, 80, 512]) torch.Size([1, 80, 512])\n",
      "torch.Size([32, 80, 512]) torch.Size([1, 80, 512])\n",
      "torch.Size([32, 80, 512]) torch.Size([1, 80, 512])\n",
      "torch.Size([32, 80, 512]) torch.Size([1, 80, 512])\n"
     ]
    },
    {
     "name": "stderr",
     "output_type": "stream",
     "text": [
      "Processing Epoch 01:  58%|█████▊    | 3300/5717 [08:41<06:11,  6.51it/s, loss=1.992]"
     ]
    },
    {
     "name": "stdout",
     "output_type": "stream",
     "text": [
      "torch.Size([32, 80, 512]) torch.Size([1, 80, 512])\n",
      "torch.Size([32, 80, 512]) torch.Size([1, 80, 512])\n",
      "torch.Size([32, 80, 512]) torch.Size([1, 80, 512])\n",
      "torch.Size([32, 80, 512]) torch.Size([1, 80, 512])\n"
     ]
    },
    {
     "name": "stderr",
     "output_type": "stream",
     "text": [
      "Processing Epoch 01:  58%|█████▊    | 3302/5717 [08:42<06:15,  6.44it/s, loss=2.244]"
     ]
    },
    {
     "name": "stdout",
     "output_type": "stream",
     "text": [
      "torch.Size([32, 80, 512]) torch.Size([1, 80, 512])\n",
      "torch.Size([32, 80, 512]) torch.Size([1, 80, 512])\n",
      "torch.Size([32, 80, 512]) torch.Size([1, 80, 512])\n",
      "torch.Size([32, 80, 512]) torch.Size([1, 80, 512])\n"
     ]
    },
    {
     "name": "stderr",
     "output_type": "stream",
     "text": [
      "Processing Epoch 01:  58%|█████▊    | 3304/5717 [08:42<06:12,  6.48it/s, loss=1.865]"
     ]
    },
    {
     "name": "stdout",
     "output_type": "stream",
     "text": [
      "torch.Size([32, 80, 512]) torch.Size([1, 80, 512])\n",
      "torch.Size([32, 80, 512]) torch.Size([1, 80, 512])\n",
      "torch.Size([32, 80, 512]) torch.Size([1, 80, 512])\n",
      "torch.Size([32, 80, 512]) torch.Size([1, 80, 512])\n"
     ]
    },
    {
     "name": "stderr",
     "output_type": "stream",
     "text": [
      "Processing Epoch 01:  58%|█████▊    | 3306/5717 [08:42<06:32,  6.15it/s, loss=2.430]"
     ]
    },
    {
     "name": "stdout",
     "output_type": "stream",
     "text": [
      "torch.Size([32, 80, 512]) torch.Size([1, 80, 512])\n",
      "torch.Size([32, 80, 512]) torch.Size([1, 80, 512])\n",
      "torch.Size([32, 80, 512]) torch.Size([1, 80, 512])\n",
      "torch.Size([32, 80, 512]) torch.Size([1, 80, 512])\n"
     ]
    },
    {
     "name": "stderr",
     "output_type": "stream",
     "text": [
      "Processing Epoch 01:  58%|█████▊    | 3308/5717 [08:43<06:12,  6.47it/s, loss=2.081]"
     ]
    },
    {
     "name": "stdout",
     "output_type": "stream",
     "text": [
      "torch.Size([32, 80, 512]) torch.Size([1, 80, 512])\n",
      "torch.Size([32, 80, 512]) torch.Size([1, 80, 512])\n",
      "torch.Size([32, 80, 512]) torch.Size([1, 80, 512])\n",
      "torch.Size([32, 80, 512]) torch.Size([1, 80, 512])\n"
     ]
    },
    {
     "name": "stderr",
     "output_type": "stream",
     "text": [
      "Processing Epoch 01:  58%|█████▊    | 3310/5717 [08:43<06:11,  6.49it/s, loss=1.960]"
     ]
    },
    {
     "name": "stdout",
     "output_type": "stream",
     "text": [
      "torch.Size([32, 80, 512]) torch.Size([1, 80, 512])\n",
      "torch.Size([32, 80, 512]) torch.Size([1, 80, 512])\n",
      "torch.Size([32, 80, 512]) torch.Size([1, 80, 512])\n",
      "torch.Size([32, 80, 512]) torch.Size([1, 80, 512])\n"
     ]
    },
    {
     "name": "stderr",
     "output_type": "stream",
     "text": [
      "Processing Epoch 01:  58%|█████▊    | 3312/5717 [08:43<06:16,  6.39it/s, loss=2.069]"
     ]
    },
    {
     "name": "stdout",
     "output_type": "stream",
     "text": [
      "torch.Size([32, 80, 512]) torch.Size([1, 80, 512])\n",
      "torch.Size([32, 80, 512]) torch.Size([1, 80, 512])\n",
      "torch.Size([32, 80, 512]) torch.Size([1, 80, 512])\n",
      "torch.Size([32, 80, 512]) torch.Size([1, 80, 512])\n"
     ]
    },
    {
     "name": "stderr",
     "output_type": "stream",
     "text": [
      "Processing Epoch 01:  58%|█████▊    | 3314/5717 [08:44<06:14,  6.42it/s, loss=2.208]"
     ]
    },
    {
     "name": "stdout",
     "output_type": "stream",
     "text": [
      "torch.Size([32, 80, 512]) torch.Size([1, 80, 512])\n",
      "torch.Size([32, 80, 512]) torch.Size([1, 80, 512])\n",
      "torch.Size([32, 80, 512]) torch.Size([1, 80, 512])\n",
      "torch.Size([32, 80, 512]) torch.Size([1, 80, 512])\n"
     ]
    },
    {
     "name": "stderr",
     "output_type": "stream",
     "text": [
      "Processing Epoch 01:  58%|█████▊    | 3316/5717 [08:44<06:12,  6.44it/s, loss=2.187]"
     ]
    },
    {
     "name": "stdout",
     "output_type": "stream",
     "text": [
      "torch.Size([32, 80, 512]) torch.Size([1, 80, 512])\n",
      "torch.Size([32, 80, 512]) torch.Size([1, 80, 512])\n",
      "torch.Size([32, 80, 512]) torch.Size([1, 80, 512])\n",
      "torch.Size([32, 80, 512]) torch.Size([1, 80, 512])\n"
     ]
    },
    {
     "name": "stderr",
     "output_type": "stream",
     "text": [
      "Processing Epoch 01:  58%|█████▊    | 3318/5717 [08:44<06:18,  6.34it/s, loss=2.098]"
     ]
    },
    {
     "name": "stdout",
     "output_type": "stream",
     "text": [
      "torch.Size([32, 80, 512]) torch.Size([1, 80, 512])\n",
      "torch.Size([32, 80, 512]) torch.Size([1, 80, 512])\n",
      "torch.Size([32, 80, 512]) torch.Size([1, 80, 512])\n",
      "torch.Size([32, 80, 512]) torch.Size([1, 80, 512])\n"
     ]
    },
    {
     "name": "stderr",
     "output_type": "stream",
     "text": [
      "Processing Epoch 01:  58%|█████▊    | 3320/5717 [08:45<06:26,  6.20it/s, loss=2.085]"
     ]
    },
    {
     "name": "stdout",
     "output_type": "stream",
     "text": [
      "torch.Size([32, 80, 512]) torch.Size([1, 80, 512])\n",
      "torch.Size([32, 80, 512]) torch.Size([1, 80, 512])\n",
      "torch.Size([32, 80, 512]) torch.Size([1, 80, 512])\n",
      "torch.Size([32, 80, 512]) torch.Size([1, 80, 512])\n"
     ]
    },
    {
     "name": "stderr",
     "output_type": "stream",
     "text": [
      "Processing Epoch 01:  58%|█████▊    | 3322/5717 [08:45<06:04,  6.58it/s, loss=2.055]"
     ]
    },
    {
     "name": "stdout",
     "output_type": "stream",
     "text": [
      "torch.Size([32, 80, 512]) torch.Size([1, 80, 512])\n",
      "torch.Size([32, 80, 512]) torch.Size([1, 80, 512])\n",
      "torch.Size([32, 80, 512]) torch.Size([1, 80, 512])\n",
      "torch.Size([32, 80, 512]) torch.Size([1, 80, 512])\n"
     ]
    },
    {
     "name": "stderr",
     "output_type": "stream",
     "text": [
      "Processing Epoch 01:  58%|█████▊    | 3324/5717 [08:45<06:17,  6.35it/s, loss=2.107]"
     ]
    },
    {
     "name": "stdout",
     "output_type": "stream",
     "text": [
      "torch.Size([32, 80, 512]) torch.Size([1, 80, 512])\n",
      "torch.Size([32, 80, 512]) torch.Size([1, 80, 512])\n",
      "torch.Size([32, 80, 512]) torch.Size([1, 80, 512])\n",
      "torch.Size([32, 80, 512]) torch.Size([1, 80, 512])\n"
     ]
    },
    {
     "name": "stderr",
     "output_type": "stream",
     "text": [
      "Processing Epoch 01:  58%|█████▊    | 3326/5717 [08:45<06:04,  6.57it/s, loss=2.307]"
     ]
    },
    {
     "name": "stdout",
     "output_type": "stream",
     "text": [
      "torch.Size([32, 80, 512]) torch.Size([1, 80, 512])\n",
      "torch.Size([32, 80, 512]) torch.Size([1, 80, 512])\n",
      "torch.Size([32, 80, 512]) torch.Size([1, 80, 512])\n",
      "torch.Size([32, 80, 512]) torch.Size([1, 80, 512])\n"
     ]
    },
    {
     "name": "stderr",
     "output_type": "stream",
     "text": [
      "Processing Epoch 01:  58%|█████▊    | 3328/5717 [08:46<06:12,  6.41it/s, loss=1.971]"
     ]
    },
    {
     "name": "stdout",
     "output_type": "stream",
     "text": [
      "torch.Size([32, 80, 512]) torch.Size([1, 80, 512])\n",
      "torch.Size([32, 80, 512]) torch.Size([1, 80, 512])\n",
      "torch.Size([32, 80, 512]) torch.Size([1, 80, 512])\n",
      "torch.Size([32, 80, 512]) torch.Size([1, 80, 512])\n"
     ]
    },
    {
     "name": "stderr",
     "output_type": "stream",
     "text": [
      "Processing Epoch 01:  58%|█████▊    | 3330/5717 [08:46<06:10,  6.43it/s, loss=2.242]"
     ]
    },
    {
     "name": "stdout",
     "output_type": "stream",
     "text": [
      "torch.Size([32, 80, 512]) torch.Size([1, 80, 512])\n",
      "torch.Size([32, 80, 512]) torch.Size([1, 80, 512])\n",
      "torch.Size([32, 80, 512]) torch.Size([1, 80, 512])\n",
      "torch.Size([32, 80, 512]) torch.Size([1, 80, 512])\n"
     ]
    },
    {
     "name": "stderr",
     "output_type": "stream",
     "text": [
      "Processing Epoch 01:  58%|█████▊    | 3332/5717 [08:46<06:07,  6.49it/s, loss=2.162]"
     ]
    },
    {
     "name": "stdout",
     "output_type": "stream",
     "text": [
      "torch.Size([32, 80, 512]) torch.Size([1, 80, 512])\n",
      "torch.Size([32, 80, 512]) torch.Size([1, 80, 512])\n",
      "torch.Size([32, 80, 512]) torch.Size([1, 80, 512])\n",
      "torch.Size([32, 80, 512]) torch.Size([1, 80, 512])\n"
     ]
    },
    {
     "name": "stderr",
     "output_type": "stream",
     "text": [
      "Processing Epoch 01:  58%|█████▊    | 3334/5717 [08:47<06:41,  5.93it/s, loss=2.126]"
     ]
    },
    {
     "name": "stdout",
     "output_type": "stream",
     "text": [
      "torch.Size([32, 80, 512]) torch.Size([1, 80, 512])\n",
      "torch.Size([32, 80, 512]) torch.Size([1, 80, 512])\n",
      "torch.Size([32, 80, 512]) torch.Size([1, 80, 512])\n"
     ]
    },
    {
     "name": "stderr",
     "output_type": "stream",
     "text": [
      "Processing Epoch 01:  58%|█████▊    | 3335/5717 [08:47<06:21,  6.24it/s, loss=2.042]"
     ]
    },
    {
     "name": "stdout",
     "output_type": "stream",
     "text": [
      "torch.Size([32, 80, 512]) torch.Size([1, 80, 512])\n",
      "torch.Size([32, 80, 512]) torch.Size([1, 80, 512])\n",
      "torch.Size([32, 80, 512]) torch.Size([1, 80, 512])\n"
     ]
    },
    {
     "name": "stderr",
     "output_type": "stream",
     "text": [
      "Processing Epoch 01:  58%|█████▊    | 3337/5717 [08:47<06:13,  6.37it/s, loss=1.998]"
     ]
    },
    {
     "name": "stdout",
     "output_type": "stream",
     "text": [
      "torch.Size([32, 80, 512]) torch.Size([1, 80, 512])\n",
      "torch.Size([32, 80, 512]) torch.Size([1, 80, 512])\n",
      "torch.Size([32, 80, 512]) torch.Size([1, 80, 512])\n",
      "torch.Size([32, 80, 512]) torch.Size([1, 80, 512])\n"
     ]
    },
    {
     "name": "stderr",
     "output_type": "stream",
     "text": [
      "Processing Epoch 01:  58%|█████▊    | 3339/5717 [08:48<06:09,  6.44it/s, loss=2.182]"
     ]
    },
    {
     "name": "stdout",
     "output_type": "stream",
     "text": [
      "torch.Size([32, 80, 512]) torch.Size([1, 80, 512])\n",
      "torch.Size([32, 80, 512]) torch.Size([1, 80, 512])\n",
      "torch.Size([32, 80, 512]) torch.Size([1, 80, 512])\n",
      "torch.Size([32, 80, 512]) torch.Size([1, 80, 512])\n"
     ]
    },
    {
     "name": "stderr",
     "output_type": "stream",
     "text": [
      "Processing Epoch 01:  58%|█████▊    | 3341/5717 [08:48<06:12,  6.38it/s, loss=2.081]"
     ]
    },
    {
     "name": "stdout",
     "output_type": "stream",
     "text": [
      "torch.Size([32, 80, 512]) torch.Size([1, 80, 512])\n",
      "torch.Size([32, 80, 512]) torch.Size([1, 80, 512])\n",
      "torch.Size([32, 80, 512]) torch.Size([1, 80, 512])\n",
      "torch.Size([32, 80, 512]) torch.Size([1, 80, 512])\n"
     ]
    },
    {
     "name": "stderr",
     "output_type": "stream",
     "text": [
      "Processing Epoch 01:  58%|█████▊    | 3343/5717 [08:48<06:12,  6.38it/s, loss=2.181]"
     ]
    },
    {
     "name": "stdout",
     "output_type": "stream",
     "text": [
      "torch.Size([32, 80, 512]) torch.Size([1, 80, 512])\n",
      "torch.Size([32, 80, 512]) torch.Size([1, 80, 512])\n",
      "torch.Size([32, 80, 512]) torch.Size([1, 80, 512])\n",
      "torch.Size([32, 80, 512]) torch.Size([1, 80, 512])\n"
     ]
    },
    {
     "name": "stderr",
     "output_type": "stream",
     "text": [
      "Processing Epoch 01:  59%|█████▊    | 3345/5717 [08:49<06:07,  6.46it/s, loss=2.036]"
     ]
    },
    {
     "name": "stdout",
     "output_type": "stream",
     "text": [
      "torch.Size([32, 80, 512]) torch.Size([1, 80, 512])\n",
      "torch.Size([32, 80, 512]) torch.Size([1, 80, 512])\n",
      "torch.Size([32, 80, 512]) torch.Size([1, 80, 512])\n",
      "torch.Size([32, 80, 512]) torch.Size([1, 80, 512])\n"
     ]
    },
    {
     "name": "stderr",
     "output_type": "stream",
     "text": [
      "Processing Epoch 01:  59%|█████▊    | 3347/5717 [08:49<06:07,  6.46it/s, loss=2.218]"
     ]
    },
    {
     "name": "stdout",
     "output_type": "stream",
     "text": [
      "torch.Size([32, 80, 512]) torch.Size([1, 80, 512])\n",
      "torch.Size([32, 80, 512]) torch.Size([1, 80, 512])\n",
      "torch.Size([32, 80, 512]) torch.Size([1, 80, 512])\n",
      "torch.Size([32, 80, 512]) torch.Size([1, 80, 512])\n"
     ]
    },
    {
     "name": "stderr",
     "output_type": "stream",
     "text": [
      "Processing Epoch 01:  59%|█████▊    | 3349/5717 [08:49<06:07,  6.45it/s, loss=2.195]"
     ]
    },
    {
     "name": "stdout",
     "output_type": "stream",
     "text": [
      "torch.Size([32, 80, 512]) torch.Size([1, 80, 512])\n",
      "torch.Size([32, 80, 512]) torch.Size([1, 80, 512])\n",
      "torch.Size([32, 80, 512]) torch.Size([1, 80, 512])\n",
      "torch.Size([32, 80, 512]) torch.Size([1, 80, 512])\n"
     ]
    },
    {
     "name": "stderr",
     "output_type": "stream",
     "text": [
      "Processing Epoch 01:  59%|█████▊    | 3351/5717 [08:49<06:24,  6.16it/s, loss=2.219]"
     ]
    },
    {
     "name": "stdout",
     "output_type": "stream",
     "text": [
      "torch.Size([32, 80, 512]) torch.Size([1, 80, 512])\n",
      "torch.Size([32, 80, 512]) torch.Size([1, 80, 512])\n",
      "torch.Size([32, 80, 512]) torch.Size([1, 80, 512])\n",
      "torch.Size([32, 80, 512]) torch.Size([1, 80, 512])\n"
     ]
    },
    {
     "name": "stderr",
     "output_type": "stream",
     "text": [
      "Processing Epoch 01:  59%|█████▊    | 3353/5717 [08:50<06:05,  6.47it/s, loss=2.148]"
     ]
    },
    {
     "name": "stdout",
     "output_type": "stream",
     "text": [
      "torch.Size([32, 80, 512]) torch.Size([1, 80, 512])\n",
      "torch.Size([32, 80, 512]) torch.Size([1, 80, 512])\n",
      "torch.Size([32, 80, 512]) torch.Size([1, 80, 512])\n",
      "torch.Size([32, 80, 512]) torch.Size([1, 80, 512])\n"
     ]
    },
    {
     "name": "stderr",
     "output_type": "stream",
     "text": [
      "Processing Epoch 01:  59%|█████▊    | 3355/5717 [08:50<06:08,  6.41it/s, loss=1.966]"
     ]
    },
    {
     "name": "stdout",
     "output_type": "stream",
     "text": [
      "torch.Size([32, 80, 512]) torch.Size([1, 80, 512])\n",
      "torch.Size([32, 80, 512]) torch.Size([1, 80, 512])\n",
      "torch.Size([32, 80, 512]) torch.Size([1, 80, 512])\n",
      "torch.Size([32, 80, 512]) torch.Size([1, 80, 512])\n"
     ]
    },
    {
     "name": "stderr",
     "output_type": "stream",
     "text": [
      "Processing Epoch 01:  59%|█████▊    | 3357/5717 [08:50<06:10,  6.37it/s, loss=2.022]"
     ]
    },
    {
     "name": "stdout",
     "output_type": "stream",
     "text": [
      "torch.Size([32, 80, 512]) torch.Size([1, 80, 512])\n",
      "torch.Size([32, 80, 512]) torch.Size([1, 80, 512])\n",
      "torch.Size([32, 80, 512]) torch.Size([1, 80, 512])\n",
      "torch.Size([32, 80, 512]) torch.Size([1, 80, 512])\n"
     ]
    },
    {
     "name": "stderr",
     "output_type": "stream",
     "text": [
      "Processing Epoch 01:  59%|█████▉    | 3359/5717 [08:51<06:07,  6.42it/s, loss=2.064]"
     ]
    },
    {
     "name": "stdout",
     "output_type": "stream",
     "text": [
      "torch.Size([32, 80, 512]) torch.Size([1, 80, 512])\n",
      "torch.Size([32, 80, 512]) torch.Size([1, 80, 512])\n",
      "torch.Size([32, 80, 512]) torch.Size([1, 80, 512])\n",
      "torch.Size([32, 80, 512]) torch.Size([1, 80, 512])\n"
     ]
    },
    {
     "name": "stderr",
     "output_type": "stream",
     "text": [
      "Processing Epoch 01:  59%|█████▉    | 3361/5717 [08:51<06:09,  6.37it/s, loss=2.088]"
     ]
    },
    {
     "name": "stdout",
     "output_type": "stream",
     "text": [
      "torch.Size([32, 80, 512]) torch.Size([1, 80, 512])\n",
      "torch.Size([32, 80, 512]) torch.Size([1, 80, 512])\n",
      "torch.Size([32, 80, 512]) torch.Size([1, 80, 512])\n",
      "torch.Size([32, 80, 512]) torch.Size([1, 80, 512])\n"
     ]
    },
    {
     "name": "stderr",
     "output_type": "stream",
     "text": [
      "Processing Epoch 01:  59%|█████▉    | 3363/5717 [08:51<06:07,  6.40it/s, loss=1.959]"
     ]
    },
    {
     "name": "stdout",
     "output_type": "stream",
     "text": [
      "torch.Size([32, 80, 512]) torch.Size([1, 80, 512])\n",
      "torch.Size([32, 80, 512]) torch.Size([1, 80, 512])\n",
      "torch.Size([32, 80, 512]) torch.Size([1, 80, 512])\n",
      "torch.Size([32, 80, 512]) torch.Size([1, 80, 512])\n"
     ]
    },
    {
     "name": "stderr",
     "output_type": "stream",
     "text": [
      "Processing Epoch 01:  59%|█████▉    | 3365/5717 [08:52<06:20,  6.19it/s, loss=1.962]"
     ]
    },
    {
     "name": "stdout",
     "output_type": "stream",
     "text": [
      "torch.Size([32, 80, 512]) torch.Size([1, 80, 512])\n",
      "torch.Size([32, 80, 512]) torch.Size([1, 80, 512])\n",
      "torch.Size([32, 80, 512]) torch.Size([1, 80, 512])\n",
      "torch.Size([32, 80, 512]) torch.Size([1, 80, 512])\n"
     ]
    },
    {
     "name": "stderr",
     "output_type": "stream",
     "text": [
      "Processing Epoch 01:  59%|█████▉    | 3367/5717 [08:52<06:16,  6.24it/s, loss=2.238]"
     ]
    },
    {
     "name": "stdout",
     "output_type": "stream",
     "text": [
      "torch.Size([32, 80, 512]) torch.Size([1, 80, 512])\n",
      "torch.Size([32, 80, 512]) torch.Size([1, 80, 512])\n",
      "torch.Size([32, 80, 512]) torch.Size([1, 80, 512])\n",
      "torch.Size([32, 80, 512]) torch.Size([1, 80, 512])\n"
     ]
    },
    {
     "name": "stderr",
     "output_type": "stream",
     "text": [
      "Processing Epoch 01:  59%|█████▉    | 3369/5717 [08:52<06:13,  6.28it/s, loss=2.074]"
     ]
    },
    {
     "name": "stdout",
     "output_type": "stream",
     "text": [
      "torch.Size([32, 80, 512]) torch.Size([1, 80, 512])\n",
      "torch.Size([32, 80, 512]) torch.Size([1, 80, 512])\n",
      "torch.Size([32, 80, 512]) torch.Size([1, 80, 512])\n",
      "torch.Size([32, 80, 512]) torch.Size([1, 80, 512])\n"
     ]
    },
    {
     "name": "stderr",
     "output_type": "stream",
     "text": [
      "Processing Epoch 01:  59%|█████▉    | 3371/5717 [08:53<06:10,  6.34it/s, loss=2.173]"
     ]
    },
    {
     "name": "stdout",
     "output_type": "stream",
     "text": [
      "torch.Size([32, 80, 512]) torch.Size([1, 80, 512])\n",
      "torch.Size([32, 80, 512]) torch.Size([1, 80, 512])\n",
      "torch.Size([32, 80, 512]) torch.Size([1, 80, 512])\n",
      "torch.Size([32, 80, 512]) torch.Size([1, 80, 512])\n"
     ]
    },
    {
     "name": "stderr",
     "output_type": "stream",
     "text": [
      "Processing Epoch 01:  59%|█████▉    | 3373/5717 [08:53<06:10,  6.33it/s, loss=2.208]"
     ]
    },
    {
     "name": "stdout",
     "output_type": "stream",
     "text": [
      "torch.Size([32, 80, 512]) torch.Size([1, 80, 512])\n",
      "torch.Size([32, 80, 512]) torch.Size([1, 80, 512])\n",
      "torch.Size([32, 80, 512]) torch.Size([1, 80, 512])\n",
      "torch.Size([32, 80, 512]) torch.Size([1, 80, 512])\n"
     ]
    },
    {
     "name": "stderr",
     "output_type": "stream",
     "text": [
      "Processing Epoch 01:  59%|█████▉    | 3375/5717 [08:53<06:16,  6.22it/s, loss=2.203]"
     ]
    },
    {
     "name": "stdout",
     "output_type": "stream",
     "text": [
      "torch.Size([32, 80, 512]) torch.Size([1, 80, 512])\n",
      "torch.Size([32, 80, 512]) torch.Size([1, 80, 512])\n",
      "torch.Size([32, 80, 512]) torch.Size([1, 80, 512])\n",
      "torch.Size([32, 80, 512]) torch.Size([1, 80, 512])\n"
     ]
    },
    {
     "name": "stderr",
     "output_type": "stream",
     "text": [
      "Processing Epoch 01:  59%|█████▉    | 3377/5717 [08:54<06:09,  6.33it/s, loss=2.091]"
     ]
    },
    {
     "name": "stdout",
     "output_type": "stream",
     "text": [
      "torch.Size([32, 80, 512]) torch.Size([1, 80, 512])\n",
      "torch.Size([32, 80, 512]) torch.Size([1, 80, 512])\n",
      "torch.Size([32, 80, 512]) torch.Size([1, 80, 512])\n",
      "torch.Size([32, 80, 512]) torch.Size([1, 80, 512])\n"
     ]
    },
    {
     "name": "stderr",
     "output_type": "stream",
     "text": [
      "Processing Epoch 01:  59%|█████▉    | 3379/5717 [08:54<06:11,  6.29it/s, loss=2.333]"
     ]
    },
    {
     "name": "stdout",
     "output_type": "stream",
     "text": [
      "torch.Size([32, 80, 512]) torch.Size([1, 80, 512])\n",
      "torch.Size([32, 80, 512]) torch.Size([1, 80, 512])\n",
      "torch.Size([32, 80, 512]) torch.Size([1, 80, 512])\n",
      "torch.Size([32, 80, 512]) torch.Size([1, 80, 512])\n"
     ]
    },
    {
     "name": "stderr",
     "output_type": "stream",
     "text": [
      "Processing Epoch 01:  59%|█████▉    | 3381/5717 [08:54<06:07,  6.36it/s, loss=2.171]"
     ]
    },
    {
     "name": "stdout",
     "output_type": "stream",
     "text": [
      "torch.Size([32, 80, 512]) torch.Size([1, 80, 512])\n",
      "torch.Size([32, 80, 512]) torch.Size([1, 80, 512])\n",
      "torch.Size([32, 80, 512]) torch.Size([1, 80, 512])\n",
      "torch.Size([32, 80, 512]) torch.Size([1, 80, 512])\n"
     ]
    },
    {
     "name": "stderr",
     "output_type": "stream",
     "text": [
      "Processing Epoch 01:  59%|█████▉    | 3383/5717 [08:55<06:06,  6.37it/s, loss=2.172]"
     ]
    },
    {
     "name": "stdout",
     "output_type": "stream",
     "text": [
      "torch.Size([32, 80, 512]) torch.Size([1, 80, 512])\n",
      "torch.Size([32, 80, 512]) torch.Size([1, 80, 512])\n",
      "torch.Size([32, 80, 512]) torch.Size([1, 80, 512])\n",
      "torch.Size([32, 80, 512]) torch.Size([1, 80, 512])\n"
     ]
    },
    {
     "name": "stderr",
     "output_type": "stream",
     "text": [
      "Processing Epoch 01:  59%|█████▉    | 3385/5717 [08:55<06:26,  6.03it/s, loss=2.059]"
     ]
    },
    {
     "name": "stdout",
     "output_type": "stream",
     "text": [
      "torch.Size([32, 80, 512]) torch.Size([1, 80, 512])\n",
      "torch.Size([32, 80, 512]) torch.Size([1, 80, 512])\n",
      "torch.Size([32, 80, 512]) torch.Size([1, 80, 512])\n",
      "torch.Size([32, 80, 512]) torch.Size([1, 80, 512])\n"
     ]
    },
    {
     "name": "stderr",
     "output_type": "stream",
     "text": [
      "Processing Epoch 01:  59%|█████▉    | 3387/5717 [08:55<06:16,  6.19it/s, loss=2.141]"
     ]
    },
    {
     "name": "stdout",
     "output_type": "stream",
     "text": [
      "torch.Size([32, 80, 512]) torch.Size([1, 80, 512])\n",
      "torch.Size([32, 80, 512]) torch.Size([1, 80, 512])\n",
      "torch.Size([32, 80, 512]) torch.Size([1, 80, 512])\n",
      "torch.Size([32, 80, 512]) torch.Size([1, 80, 512])\n"
     ]
    },
    {
     "name": "stderr",
     "output_type": "stream",
     "text": [
      "Processing Epoch 01:  59%|█████▉    | 3389/5717 [08:56<06:06,  6.34it/s, loss=2.059]"
     ]
    },
    {
     "name": "stdout",
     "output_type": "stream",
     "text": [
      "torch.Size([32, 80, 512]) torch.Size([1, 80, 512])\n",
      "torch.Size([32, 80, 512]) torch.Size([1, 80, 512])\n",
      "torch.Size([32, 80, 512]) torch.Size([1, 80, 512])\n",
      "torch.Size([32, 80, 512]) torch.Size([1, 80, 512])\n"
     ]
    },
    {
     "name": "stderr",
     "output_type": "stream",
     "text": [
      "Processing Epoch 01:  59%|█████▉    | 3391/5717 [08:56<05:57,  6.50it/s, loss=2.065]"
     ]
    },
    {
     "name": "stdout",
     "output_type": "stream",
     "text": [
      "torch.Size([32, 80, 512]) torch.Size([1, 80, 512])\n",
      "torch.Size([32, 80, 512]) torch.Size([1, 80, 512])\n",
      "torch.Size([32, 80, 512]) torch.Size([1, 80, 512])\n",
      "torch.Size([32, 80, 512]) torch.Size([1, 80, 512])\n"
     ]
    },
    {
     "name": "stderr",
     "output_type": "stream",
     "text": [
      "Processing Epoch 01:  59%|█████▉    | 3393/5717 [08:56<06:08,  6.31it/s, loss=2.188]"
     ]
    },
    {
     "name": "stdout",
     "output_type": "stream",
     "text": [
      "torch.Size([32, 80, 512]) torch.Size([1, 80, 512])\n",
      "torch.Size([32, 80, 512]) torch.Size([1, 80, 512])\n",
      "torch.Size([32, 80, 512]) torch.Size([1, 80, 512])\n",
      "torch.Size([32, 80, 512]) torch.Size([1, 80, 512])\n"
     ]
    },
    {
     "name": "stderr",
     "output_type": "stream",
     "text": [
      "Processing Epoch 01:  59%|█████▉    | 3395/5717 [08:56<06:00,  6.44it/s, loss=2.319]"
     ]
    },
    {
     "name": "stdout",
     "output_type": "stream",
     "text": [
      "torch.Size([32, 80, 512]) torch.Size([1, 80, 512])\n",
      "torch.Size([32, 80, 512]) torch.Size([1, 80, 512])\n",
      "torch.Size([32, 80, 512]) torch.Size([1, 80, 512])\n",
      "torch.Size([32, 80, 512]) torch.Size([1, 80, 512])\n"
     ]
    },
    {
     "name": "stderr",
     "output_type": "stream",
     "text": [
      "Processing Epoch 01:  59%|█████▉    | 3397/5717 [08:57<06:10,  6.27it/s, loss=1.968]"
     ]
    },
    {
     "name": "stdout",
     "output_type": "stream",
     "text": [
      "torch.Size([32, 80, 512]) torch.Size([1, 80, 512])\n",
      "torch.Size([32, 80, 512]) torch.Size([1, 80, 512])\n",
      "torch.Size([32, 80, 512]) torch.Size([1, 80, 512])\n",
      "torch.Size([32, 80, 512]) torch.Size([1, 80, 512])\n"
     ]
    },
    {
     "name": "stderr",
     "output_type": "stream",
     "text": [
      "Processing Epoch 01:  59%|█████▉    | 3399/5717 [08:57<06:10,  6.25it/s, loss=2.167]"
     ]
    },
    {
     "name": "stdout",
     "output_type": "stream",
     "text": [
      "torch.Size([32, 80, 512]) torch.Size([1, 80, 512])\n",
      "torch.Size([32, 80, 512]) torch.Size([1, 80, 512])\n",
      "torch.Size([32, 80, 512]) torch.Size([1, 80, 512])\n",
      "torch.Size([32, 80, 512]) torch.Size([1, 80, 512])\n"
     ]
    },
    {
     "name": "stderr",
     "output_type": "stream",
     "text": [
      "Processing Epoch 01:  59%|█████▉    | 3401/5717 [08:57<06:03,  6.37it/s, loss=2.079]"
     ]
    },
    {
     "name": "stdout",
     "output_type": "stream",
     "text": [
      "torch.Size([32, 80, 512]) torch.Size([1, 80, 512])\n",
      "torch.Size([32, 80, 512]) torch.Size([1, 80, 512])\n",
      "torch.Size([32, 80, 512]) torch.Size([1, 80, 512])\n",
      "torch.Size([32, 80, 512]) torch.Size([1, 80, 512])\n"
     ]
    },
    {
     "name": "stderr",
     "output_type": "stream",
     "text": [
      "Processing Epoch 01:  60%|█████▉    | 3403/5717 [08:58<06:10,  6.25it/s, loss=2.231]"
     ]
    },
    {
     "name": "stdout",
     "output_type": "stream",
     "text": [
      "torch.Size([32, 80, 512]) torch.Size([1, 80, 512])\n",
      "torch.Size([32, 80, 512]) torch.Size([1, 80, 512])\n",
      "torch.Size([32, 80, 512]) torch.Size([1, 80, 512])\n",
      "torch.Size([32, 80, 512]) torch.Size([1, 80, 512])\n"
     ]
    },
    {
     "name": "stderr",
     "output_type": "stream",
     "text": [
      "Processing Epoch 01:  60%|█████▉    | 3405/5717 [08:58<06:03,  6.35it/s, loss=2.089]"
     ]
    },
    {
     "name": "stdout",
     "output_type": "stream",
     "text": [
      "torch.Size([32, 80, 512]) torch.Size([1, 80, 512])\n",
      "torch.Size([32, 80, 512]) torch.Size([1, 80, 512])\n",
      "torch.Size([32, 80, 512]) torch.Size([1, 80, 512])\n",
      "torch.Size([32, 80, 512]) torch.Size([1, 80, 512])\n"
     ]
    },
    {
     "name": "stderr",
     "output_type": "stream",
     "text": [
      "Processing Epoch 01:  60%|█████▉    | 3407/5717 [08:58<06:05,  6.32it/s, loss=2.244]"
     ]
    },
    {
     "name": "stdout",
     "output_type": "stream",
     "text": [
      "torch.Size([32, 80, 512]) torch.Size([1, 80, 512])\n",
      "torch.Size([32, 80, 512]) torch.Size([1, 80, 512])\n",
      "torch.Size([32, 80, 512]) torch.Size([1, 80, 512])\n",
      "torch.Size([32, 80, 512]) torch.Size([1, 80, 512])\n"
     ]
    },
    {
     "name": "stderr",
     "output_type": "stream",
     "text": [
      "Processing Epoch 01:  60%|█████▉    | 3409/5717 [08:59<06:05,  6.32it/s, loss=2.106]"
     ]
    },
    {
     "name": "stdout",
     "output_type": "stream",
     "text": [
      "torch.Size([32, 80, 512]) torch.Size([1, 80, 512])\n",
      "torch.Size([32, 80, 512]) torch.Size([1, 80, 512])\n",
      "torch.Size([32, 80, 512]) torch.Size([1, 80, 512])\n",
      "torch.Size([32, 80, 512]) torch.Size([1, 80, 512])\n"
     ]
    },
    {
     "name": "stderr",
     "output_type": "stream",
     "text": [
      "Processing Epoch 01:  60%|█████▉    | 3411/5717 [08:59<06:01,  6.38it/s, loss=1.985]"
     ]
    },
    {
     "name": "stdout",
     "output_type": "stream",
     "text": [
      "torch.Size([32, 80, 512]) torch.Size([1, 80, 512])\n",
      "torch.Size([32, 80, 512]) torch.Size([1, 80, 512])\n",
      "torch.Size([32, 80, 512]) torch.Size([1, 80, 512])\n",
      "torch.Size([32, 80, 512]) torch.Size([1, 80, 512])\n"
     ]
    },
    {
     "name": "stderr",
     "output_type": "stream",
     "text": [
      "Processing Epoch 01:  60%|█████▉    | 3413/5717 [08:59<06:05,  6.31it/s, loss=1.980]"
     ]
    },
    {
     "name": "stdout",
     "output_type": "stream",
     "text": [
      "torch.Size([32, 80, 512]) torch.Size([1, 80, 512])\n",
      "torch.Size([32, 80, 512]) torch.Size([1, 80, 512])\n",
      "torch.Size([32, 80, 512]) torch.Size([1, 80, 512])\n",
      "torch.Size([32, 80, 512]) torch.Size([1, 80, 512])\n"
     ]
    },
    {
     "name": "stderr",
     "output_type": "stream",
     "text": [
      "Processing Epoch 01:  60%|█████▉    | 3415/5717 [09:00<05:54,  6.49it/s, loss=2.173]"
     ]
    },
    {
     "name": "stdout",
     "output_type": "stream",
     "text": [
      "torch.Size([32, 80, 512]) torch.Size([1, 80, 512])\n",
      "torch.Size([32, 80, 512]) torch.Size([1, 80, 512])\n",
      "torch.Size([32, 80, 512]) torch.Size([1, 80, 512])\n",
      "torch.Size([32, 80, 512]) torch.Size([1, 80, 512])\n"
     ]
    },
    {
     "name": "stderr",
     "output_type": "stream",
     "text": [
      "Processing Epoch 01:  60%|█████▉    | 3417/5717 [09:00<06:11,  6.19it/s, loss=1.935]"
     ]
    },
    {
     "name": "stdout",
     "output_type": "stream",
     "text": [
      "torch.Size([32, 80, 512]) torch.Size([1, 80, 512])\n",
      "torch.Size([32, 80, 512]) torch.Size([1, 80, 512])\n",
      "torch.Size([32, 80, 512]) torch.Size([1, 80, 512])\n",
      "torch.Size([32, 80, 512]) torch.Size([1, 80, 512])\n"
     ]
    },
    {
     "name": "stderr",
     "output_type": "stream",
     "text": [
      "Processing Epoch 01:  60%|█████▉    | 3419/5717 [09:00<05:52,  6.52it/s, loss=1.915]"
     ]
    },
    {
     "name": "stdout",
     "output_type": "stream",
     "text": [
      "torch.Size([32, 80, 512]) torch.Size([1, 80, 512])\n",
      "torch.Size([32, 80, 512]) torch.Size([1, 80, 512])\n",
      "torch.Size([32, 80, 512]) torch.Size([1, 80, 512])\n",
      "torch.Size([32, 80, 512]) torch.Size([1, 80, 512])\n"
     ]
    },
    {
     "name": "stderr",
     "output_type": "stream",
     "text": [
      "Processing Epoch 01:  60%|█████▉    | 3421/5717 [09:01<06:00,  6.37it/s, loss=2.235]"
     ]
    },
    {
     "name": "stdout",
     "output_type": "stream",
     "text": [
      "torch.Size([32, 80, 512]) torch.Size([1, 80, 512])\n",
      "torch.Size([32, 80, 512]) torch.Size([1, 80, 512])\n",
      "torch.Size([32, 80, 512]) torch.Size([1, 80, 512])\n",
      "torch.Size([32, 80, 512]) torch.Size([1, 80, 512])\n"
     ]
    },
    {
     "name": "stderr",
     "output_type": "stream",
     "text": [
      "Processing Epoch 01:  60%|█████▉    | 3423/5717 [09:01<06:05,  6.28it/s, loss=2.061]"
     ]
    },
    {
     "name": "stdout",
     "output_type": "stream",
     "text": [
      "torch.Size([32, 80, 512]) torch.Size([1, 80, 512])\n",
      "torch.Size([32, 80, 512]) torch.Size([1, 80, 512])\n",
      "torch.Size([32, 80, 512]) torch.Size([1, 80, 512])\n",
      "torch.Size([32, 80, 512]) torch.Size([1, 80, 512])\n"
     ]
    },
    {
     "name": "stderr",
     "output_type": "stream",
     "text": [
      "Processing Epoch 01:  60%|█████▉    | 3425/5717 [09:01<06:03,  6.31it/s, loss=2.131]"
     ]
    },
    {
     "name": "stdout",
     "output_type": "stream",
     "text": [
      "torch.Size([32, 80, 512]) torch.Size([1, 80, 512])\n",
      "torch.Size([32, 80, 512]) torch.Size([1, 80, 512])\n",
      "torch.Size([32, 80, 512]) torch.Size([1, 80, 512])\n",
      "torch.Size([32, 80, 512]) torch.Size([1, 80, 512])\n"
     ]
    },
    {
     "name": "stderr",
     "output_type": "stream",
     "text": [
      "Processing Epoch 01:  60%|█████▉    | 3427/5717 [09:02<05:54,  6.46it/s, loss=1.955]"
     ]
    },
    {
     "name": "stdout",
     "output_type": "stream",
     "text": [
      "torch.Size([32, 80, 512]) torch.Size([1, 80, 512])\n",
      "torch.Size([32, 80, 512]) torch.Size([1, 80, 512])\n",
      "torch.Size([32, 80, 512]) torch.Size([1, 80, 512])\n",
      "torch.Size([32, 80, 512]) torch.Size([1, 80, 512])\n"
     ]
    },
    {
     "name": "stderr",
     "output_type": "stream",
     "text": [
      "Processing Epoch 01:  60%|█████▉    | 3429/5717 [09:02<05:59,  6.37it/s, loss=1.938]"
     ]
    },
    {
     "name": "stdout",
     "output_type": "stream",
     "text": [
      "torch.Size([32, 80, 512]) torch.Size([1, 80, 512])\n",
      "torch.Size([32, 80, 512]) torch.Size([1, 80, 512])\n",
      "torch.Size([32, 80, 512]) torch.Size([1, 80, 512])\n",
      "torch.Size([32, 80, 512]) torch.Size([1, 80, 512])\n"
     ]
    },
    {
     "name": "stderr",
     "output_type": "stream",
     "text": [
      "Processing Epoch 01:  60%|██████    | 3431/5717 [09:02<06:09,  6.18it/s, loss=2.136]"
     ]
    },
    {
     "name": "stdout",
     "output_type": "stream",
     "text": [
      "torch.Size([32, 80, 512]) torch.Size([1, 80, 512])\n",
      "torch.Size([32, 80, 512]) torch.Size([1, 80, 512])\n",
      "torch.Size([32, 80, 512]) torch.Size([1, 80, 512])\n",
      "torch.Size([32, 80, 512]) torch.Size([1, 80, 512])\n"
     ]
    },
    {
     "name": "stderr",
     "output_type": "stream",
     "text": [
      "Processing Epoch 01:  60%|██████    | 3433/5717 [09:02<06:00,  6.34it/s, loss=2.160]"
     ]
    },
    {
     "name": "stdout",
     "output_type": "stream",
     "text": [
      "torch.Size([32, 80, 512]) torch.Size([1, 80, 512])\n",
      "torch.Size([32, 80, 512]) torch.Size([1, 80, 512])\n",
      "torch.Size([32, 80, 512]) torch.Size([1, 80, 512])\n",
      "torch.Size([32, 80, 512]) torch.Size([1, 80, 512])\n"
     ]
    },
    {
     "name": "stderr",
     "output_type": "stream",
     "text": [
      "Processing Epoch 01:  60%|██████    | 3435/5717 [09:03<05:59,  6.36it/s, loss=2.243]"
     ]
    },
    {
     "name": "stdout",
     "output_type": "stream",
     "text": [
      "torch.Size([32, 80, 512]) torch.Size([1, 80, 512])\n",
      "torch.Size([32, 80, 512]) torch.Size([1, 80, 512])\n",
      "torch.Size([32, 80, 512]) torch.Size([1, 80, 512])\n",
      "torch.Size([32, 80, 512]) torch.Size([1, 80, 512])\n"
     ]
    },
    {
     "name": "stderr",
     "output_type": "stream",
     "text": [
      "Processing Epoch 01:  60%|██████    | 3437/5717 [09:03<06:15,  6.07it/s, loss=2.261]"
     ]
    },
    {
     "name": "stdout",
     "output_type": "stream",
     "text": [
      "torch.Size([32, 80, 512]) torch.Size([1, 80, 512])\n",
      "torch.Size([32, 80, 512]) torch.Size([1, 80, 512])\n",
      "torch.Size([32, 80, 512]) torch.Size([1, 80, 512])\n",
      "torch.Size([32, 80, 512]) torch.Size([1, 80, 512])\n"
     ]
    },
    {
     "name": "stderr",
     "output_type": "stream",
     "text": [
      "Processing Epoch 01:  60%|██████    | 3439/5717 [09:03<05:58,  6.35it/s, loss=2.139]"
     ]
    },
    {
     "name": "stdout",
     "output_type": "stream",
     "text": [
      "torch.Size([32, 80, 512]) torch.Size([1, 80, 512])\n",
      "torch.Size([32, 80, 512]) torch.Size([1, 80, 512])\n",
      "torch.Size([32, 80, 512]) torch.Size([1, 80, 512])\n",
      "torch.Size([32, 80, 512]) torch.Size([1, 80, 512])\n"
     ]
    },
    {
     "name": "stderr",
     "output_type": "stream",
     "text": [
      "Processing Epoch 01:  60%|██████    | 3441/5717 [09:04<05:57,  6.36it/s, loss=1.898]"
     ]
    },
    {
     "name": "stdout",
     "output_type": "stream",
     "text": [
      "torch.Size([32, 80, 512]) torch.Size([1, 80, 512])\n",
      "torch.Size([32, 80, 512]) torch.Size([1, 80, 512])\n",
      "torch.Size([32, 80, 512]) torch.Size([1, 80, 512])\n",
      "torch.Size([32, 80, 512]) torch.Size([1, 80, 512])\n"
     ]
    },
    {
     "name": "stderr",
     "output_type": "stream",
     "text": [
      "Processing Epoch 01:  60%|██████    | 3443/5717 [09:04<06:13,  6.08it/s, loss=2.258]"
     ]
    },
    {
     "name": "stdout",
     "output_type": "stream",
     "text": [
      "torch.Size([32, 80, 512]) torch.Size([1, 80, 512])\n",
      "torch.Size([32, 80, 512]) torch.Size([1, 80, 512])\n",
      "torch.Size([32, 80, 512]) torch.Size([1, 80, 512])\n",
      "torch.Size([32, 80, 512]) torch.Size([1, 80, 512])\n"
     ]
    },
    {
     "name": "stderr",
     "output_type": "stream",
     "text": [
      "Processing Epoch 01:  60%|██████    | 3445/5717 [09:04<06:11,  6.12it/s, loss=2.088]"
     ]
    },
    {
     "name": "stdout",
     "output_type": "stream",
     "text": [
      "torch.Size([32, 80, 512]) torch.Size([1, 80, 512])\n",
      "torch.Size([32, 80, 512]) torch.Size([1, 80, 512])\n",
      "torch.Size([32, 80, 512]) torch.Size([1, 80, 512])\n",
      "torch.Size([32, 80, 512]) torch.Size([1, 80, 512])\n"
     ]
    },
    {
     "name": "stderr",
     "output_type": "stream",
     "text": [
      "Processing Epoch 01:  60%|██████    | 3447/5717 [09:05<06:03,  6.25it/s, loss=2.098]"
     ]
    },
    {
     "name": "stdout",
     "output_type": "stream",
     "text": [
      "torch.Size([32, 80, 512]) torch.Size([1, 80, 512])\n",
      "torch.Size([32, 80, 512]) torch.Size([1, 80, 512])\n",
      "torch.Size([32, 80, 512]) torch.Size([1, 80, 512])\n",
      "torch.Size([32, 80, 512]) torch.Size([1, 80, 512])\n"
     ]
    },
    {
     "name": "stderr",
     "output_type": "stream",
     "text": [
      "Processing Epoch 01:  60%|██████    | 3449/5717 [09:05<06:02,  6.25it/s, loss=2.285]"
     ]
    },
    {
     "name": "stdout",
     "output_type": "stream",
     "text": [
      "torch.Size([32, 80, 512]) torch.Size([1, 80, 512])\n",
      "torch.Size([32, 80, 512]) torch.Size([1, 80, 512])\n",
      "torch.Size([32, 80, 512]) torch.Size([1, 80, 512])\n",
      "torch.Size([32, 80, 512]) torch.Size([1, 80, 512])\n"
     ]
    },
    {
     "name": "stderr",
     "output_type": "stream",
     "text": [
      "Processing Epoch 01:  60%|██████    | 3451/5717 [09:05<05:59,  6.30it/s, loss=2.078]"
     ]
    },
    {
     "name": "stdout",
     "output_type": "stream",
     "text": [
      "torch.Size([32, 80, 512]) torch.Size([1, 80, 512])\n",
      "torch.Size([32, 80, 512]) torch.Size([1, 80, 512])\n",
      "torch.Size([32, 80, 512]) torch.Size([1, 80, 512])\n",
      "torch.Size([32, 80, 512]) torch.Size([1, 80, 512])\n"
     ]
    },
    {
     "name": "stderr",
     "output_type": "stream",
     "text": [
      "Processing Epoch 01:  60%|██████    | 3453/5717 [09:06<06:13,  6.06it/s, loss=2.137]"
     ]
    },
    {
     "name": "stdout",
     "output_type": "stream",
     "text": [
      "torch.Size([32, 80, 512]) torch.Size([1, 80, 512])\n",
      "torch.Size([32, 80, 512]) torch.Size([1, 80, 512])\n",
      "torch.Size([32, 80, 512]) torch.Size([1, 80, 512])\n",
      "torch.Size([32, 80, 512]) torch.Size([1, 80, 512])\n"
     ]
    },
    {
     "name": "stderr",
     "output_type": "stream",
     "text": [
      "Processing Epoch 01:  60%|██████    | 3455/5717 [09:06<05:56,  6.34it/s, loss=2.274]"
     ]
    },
    {
     "name": "stdout",
     "output_type": "stream",
     "text": [
      "torch.Size([32, 80, 512]) torch.Size([1, 80, 512])\n",
      "torch.Size([32, 80, 512]) torch.Size([1, 80, 512])\n",
      "torch.Size([32, 80, 512]) torch.Size([1, 80, 512])\n",
      "torch.Size([32, 80, 512]) torch.Size([1, 80, 512])\n"
     ]
    },
    {
     "name": "stderr",
     "output_type": "stream",
     "text": [
      "Processing Epoch 01:  60%|██████    | 3457/5717 [09:06<05:57,  6.31it/s, loss=2.082]"
     ]
    },
    {
     "name": "stdout",
     "output_type": "stream",
     "text": [
      "torch.Size([32, 80, 512]) torch.Size([1, 80, 512])\n",
      "torch.Size([32, 80, 512]) torch.Size([1, 80, 512])\n",
      "torch.Size([32, 80, 512]) torch.Size([1, 80, 512])\n",
      "torch.Size([32, 80, 512]) torch.Size([1, 80, 512])\n"
     ]
    },
    {
     "name": "stderr",
     "output_type": "stream",
     "text": [
      "Processing Epoch 01:  61%|██████    | 3459/5717 [09:07<06:07,  6.15it/s, loss=2.378]"
     ]
    },
    {
     "name": "stdout",
     "output_type": "stream",
     "text": [
      "torch.Size([32, 80, 512]) torch.Size([1, 80, 512])\n",
      "torch.Size([32, 80, 512]) torch.Size([1, 80, 512])\n",
      "torch.Size([32, 80, 512]) torch.Size([1, 80, 512])\n",
      "torch.Size([32, 80, 512]) torch.Size([1, 80, 512])\n"
     ]
    },
    {
     "name": "stderr",
     "output_type": "stream",
     "text": [
      "Processing Epoch 01:  61%|██████    | 3461/5717 [09:07<06:01,  6.25it/s, loss=2.133]"
     ]
    },
    {
     "name": "stdout",
     "output_type": "stream",
     "text": [
      "torch.Size([32, 80, 512]) torch.Size([1, 80, 512])\n",
      "torch.Size([32, 80, 512]) torch.Size([1, 80, 512])\n",
      "torch.Size([32, 80, 512]) torch.Size([1, 80, 512])\n",
      "torch.Size([32, 80, 512]) torch.Size([1, 80, 512])\n"
     ]
    },
    {
     "name": "stderr",
     "output_type": "stream",
     "text": [
      "Processing Epoch 01:  61%|██████    | 3463/5717 [09:07<06:14,  6.02it/s, loss=2.049]"
     ]
    },
    {
     "name": "stdout",
     "output_type": "stream",
     "text": [
      "torch.Size([32, 80, 512]) torch.Size([1, 80, 512])\n",
      "torch.Size([32, 80, 512]) torch.Size([1, 80, 512])\n",
      "torch.Size([32, 80, 512]) torch.Size([1, 80, 512])\n",
      "torch.Size([32, 80, 512]) torch.Size([1, 80, 512])\n"
     ]
    },
    {
     "name": "stderr",
     "output_type": "stream",
     "text": [
      "Processing Epoch 01:  61%|██████    | 3465/5717 [09:08<06:05,  6.16it/s, loss=2.121]"
     ]
    },
    {
     "name": "stdout",
     "output_type": "stream",
     "text": [
      "torch.Size([32, 80, 512]) torch.Size([1, 80, 512])\n",
      "torch.Size([32, 80, 512]) torch.Size([1, 80, 512])\n",
      "torch.Size([32, 80, 512]) torch.Size([1, 80, 512])\n",
      "torch.Size([32, 80, 512]) torch.Size([1, 80, 512])\n"
     ]
    },
    {
     "name": "stderr",
     "output_type": "stream",
     "text": [
      "Processing Epoch 01:  61%|██████    | 3467/5717 [09:08<05:59,  6.26it/s, loss=2.100]"
     ]
    },
    {
     "name": "stdout",
     "output_type": "stream",
     "text": [
      "torch.Size([32, 80, 512]) torch.Size([1, 80, 512])\n",
      "torch.Size([32, 80, 512]) torch.Size([1, 80, 512])\n",
      "torch.Size([32, 80, 512]) torch.Size([1, 80, 512])\n",
      "torch.Size([32, 80, 512]) torch.Size([1, 80, 512])\n"
     ]
    },
    {
     "name": "stderr",
     "output_type": "stream",
     "text": [
      "Processing Epoch 01:  61%|██████    | 3469/5717 [09:08<06:08,  6.09it/s, loss=1.967]"
     ]
    },
    {
     "name": "stdout",
     "output_type": "stream",
     "text": [
      "torch.Size([32, 80, 512]) torch.Size([1, 80, 512])\n",
      "torch.Size([32, 80, 512]) torch.Size([1, 80, 512])\n",
      "torch.Size([32, 80, 512]) torch.Size([1, 80, 512])\n",
      "torch.Size([32, 80, 512]) torch.Size([1, 80, 512])\n"
     ]
    },
    {
     "name": "stderr",
     "output_type": "stream",
     "text": [
      "Processing Epoch 01:  61%|██████    | 3471/5717 [09:09<06:07,  6.11it/s, loss=2.008]"
     ]
    },
    {
     "name": "stdout",
     "output_type": "stream",
     "text": [
      "torch.Size([32, 80, 512]) torch.Size([1, 80, 512])\n",
      "torch.Size([32, 80, 512]) torch.Size([1, 80, 512])\n",
      "torch.Size([32, 80, 512]) torch.Size([1, 80, 512])\n",
      "torch.Size([32, 80, 512]) torch.Size([1, 80, 512])\n"
     ]
    },
    {
     "name": "stderr",
     "output_type": "stream",
     "text": [
      "Processing Epoch 01:  61%|██████    | 3473/5717 [09:09<05:57,  6.28it/s, loss=1.904]"
     ]
    },
    {
     "name": "stdout",
     "output_type": "stream",
     "text": [
      "torch.Size([32, 80, 512]) torch.Size([1, 80, 512])\n",
      "torch.Size([32, 80, 512]) torch.Size([1, 80, 512])\n",
      "torch.Size([32, 80, 512]) torch.Size([1, 80, 512])\n",
      "torch.Size([32, 80, 512]) torch.Size([1, 80, 512])\n"
     ]
    },
    {
     "name": "stderr",
     "output_type": "stream",
     "text": [
      "Processing Epoch 01:  61%|██████    | 3475/5717 [09:09<06:12,  6.01it/s, loss=2.126]"
     ]
    },
    {
     "name": "stdout",
     "output_type": "stream",
     "text": [
      "torch.Size([32, 80, 512]) torch.Size([1, 80, 512])\n",
      "torch.Size([32, 80, 512]) torch.Size([1, 80, 512])\n",
      "torch.Size([32, 80, 512]) torch.Size([1, 80, 512])\n",
      "torch.Size([32, 80, 512]) torch.Size([1, 80, 512])\n"
     ]
    },
    {
     "name": "stderr",
     "output_type": "stream",
     "text": [
      "Processing Epoch 01:  61%|██████    | 3477/5717 [09:10<05:59,  6.22it/s, loss=2.021]"
     ]
    },
    {
     "name": "stdout",
     "output_type": "stream",
     "text": [
      "torch.Size([32, 80, 512]) torch.Size([1, 80, 512])\n",
      "torch.Size([32, 80, 512]) torch.Size([1, 80, 512])\n",
      "torch.Size([32, 80, 512]) torch.Size([1, 80, 512])\n",
      "torch.Size([32, 80, 512]) torch.Size([1, 80, 512])\n"
     ]
    },
    {
     "name": "stderr",
     "output_type": "stream",
     "text": [
      "Processing Epoch 01:  61%|██████    | 3479/5717 [09:10<06:03,  6.16it/s, loss=2.135]"
     ]
    },
    {
     "name": "stdout",
     "output_type": "stream",
     "text": [
      "torch.Size([32, 80, 512]) torch.Size([1, 80, 512])\n",
      "torch.Size([32, 80, 512]) torch.Size([1, 80, 512])\n",
      "torch.Size([32, 80, 512]) torch.Size([1, 80, 512])\n",
      "torch.Size([32, 80, 512]) torch.Size([1, 80, 512])\n"
     ]
    },
    {
     "name": "stderr",
     "output_type": "stream",
     "text": [
      "Processing Epoch 01:  61%|██████    | 3481/5717 [09:10<06:09,  6.05it/s, loss=1.863]"
     ]
    },
    {
     "name": "stdout",
     "output_type": "stream",
     "text": [
      "torch.Size([32, 80, 512]) torch.Size([1, 80, 512])\n",
      "torch.Size([32, 80, 512]) torch.Size([1, 80, 512])\n",
      "torch.Size([32, 80, 512]) torch.Size([1, 80, 512])\n",
      "torch.Size([32, 80, 512]) torch.Size([1, 80, 512])\n"
     ]
    },
    {
     "name": "stderr",
     "output_type": "stream",
     "text": [
      "Processing Epoch 01:  61%|██████    | 3483/5717 [09:11<05:58,  6.23it/s, loss=1.990]"
     ]
    },
    {
     "name": "stdout",
     "output_type": "stream",
     "text": [
      "torch.Size([32, 80, 512]) torch.Size([1, 80, 512])\n",
      "torch.Size([32, 80, 512]) torch.Size([1, 80, 512])\n",
      "torch.Size([32, 80, 512]) torch.Size([1, 80, 512])\n",
      "torch.Size([32, 80, 512]) torch.Size([1, 80, 512])\n"
     ]
    },
    {
     "name": "stderr",
     "output_type": "stream",
     "text": [
      "Processing Epoch 01:  61%|██████    | 3485/5717 [09:11<06:03,  6.15it/s, loss=2.171]"
     ]
    },
    {
     "name": "stdout",
     "output_type": "stream",
     "text": [
      "torch.Size([32, 80, 512]) torch.Size([1, 80, 512])\n",
      "torch.Size([32, 80, 512]) torch.Size([1, 80, 512])\n",
      "torch.Size([32, 80, 512]) torch.Size([1, 80, 512])\n",
      "torch.Size([32, 80, 512]) torch.Size([1, 80, 512])\n"
     ]
    },
    {
     "name": "stderr",
     "output_type": "stream",
     "text": [
      "Processing Epoch 01:  61%|██████    | 3487/5717 [09:11<05:51,  6.35it/s, loss=2.058]"
     ]
    },
    {
     "name": "stdout",
     "output_type": "stream",
     "text": [
      "torch.Size([32, 80, 512]) torch.Size([1, 80, 512])\n",
      "torch.Size([32, 80, 512]) torch.Size([1, 80, 512])\n",
      "torch.Size([32, 80, 512]) torch.Size([1, 80, 512])\n",
      "torch.Size([32, 80, 512]) torch.Size([1, 80, 512])\n"
     ]
    },
    {
     "name": "stderr",
     "output_type": "stream",
     "text": [
      "Processing Epoch 01:  61%|██████    | 3489/5717 [09:12<05:54,  6.29it/s, loss=2.321]"
     ]
    },
    {
     "name": "stdout",
     "output_type": "stream",
     "text": [
      "torch.Size([32, 80, 512]) torch.Size([1, 80, 512])\n",
      "torch.Size([32, 80, 512]) torch.Size([1, 80, 512])\n",
      "torch.Size([32, 80, 512]) torch.Size([1, 80, 512])\n",
      "torch.Size([32, 80, 512]) torch.Size([1, 80, 512])\n"
     ]
    },
    {
     "name": "stderr",
     "output_type": "stream",
     "text": [
      "Processing Epoch 01:  61%|██████    | 3491/5717 [09:12<06:08,  6.04it/s, loss=2.639]"
     ]
    },
    {
     "name": "stdout",
     "output_type": "stream",
     "text": [
      "torch.Size([32, 80, 512]) torch.Size([1, 80, 512])\n",
      "torch.Size([32, 80, 512]) torch.Size([1, 80, 512])\n",
      "torch.Size([32, 80, 512]) torch.Size([1, 80, 512])\n",
      "torch.Size([32, 80, 512]) torch.Size([1, 80, 512])\n"
     ]
    },
    {
     "name": "stderr",
     "output_type": "stream",
     "text": [
      "Processing Epoch 01:  61%|██████    | 3493/5717 [09:12<05:55,  6.25it/s, loss=2.009]"
     ]
    },
    {
     "name": "stdout",
     "output_type": "stream",
     "text": [
      "torch.Size([32, 80, 512]) torch.Size([1, 80, 512])\n",
      "torch.Size([32, 80, 512]) torch.Size([1, 80, 512])\n",
      "torch.Size([32, 80, 512]) torch.Size([1, 80, 512])\n",
      "torch.Size([32, 80, 512]) torch.Size([1, 80, 512])\n"
     ]
    },
    {
     "name": "stderr",
     "output_type": "stream",
     "text": [
      "Processing Epoch 01:  61%|██████    | 3495/5717 [09:13<05:48,  6.37it/s, loss=2.074]"
     ]
    },
    {
     "name": "stdout",
     "output_type": "stream",
     "text": [
      "torch.Size([32, 80, 512]) torch.Size([1, 80, 512])\n",
      "torch.Size([32, 80, 512]) torch.Size([1, 80, 512])\n",
      "torch.Size([32, 80, 512]) torch.Size([1, 80, 512])\n",
      "torch.Size([32, 80, 512]) torch.Size([1, 80, 512])\n"
     ]
    },
    {
     "name": "stderr",
     "output_type": "stream",
     "text": [
      "Processing Epoch 01:  61%|██████    | 3497/5717 [09:13<05:57,  6.20it/s, loss=2.182]"
     ]
    },
    {
     "name": "stdout",
     "output_type": "stream",
     "text": [
      "torch.Size([32, 80, 512]) torch.Size([1, 80, 512])\n",
      "torch.Size([32, 80, 512]) torch.Size([1, 80, 512])\n",
      "torch.Size([32, 80, 512]) torch.Size([1, 80, 512])\n",
      "torch.Size([32, 80, 512]) torch.Size([1, 80, 512])\n"
     ]
    },
    {
     "name": "stderr",
     "output_type": "stream",
     "text": [
      "Processing Epoch 01:  61%|██████    | 3499/5717 [09:13<05:53,  6.28it/s, loss=2.027]"
     ]
    },
    {
     "name": "stdout",
     "output_type": "stream",
     "text": [
      "torch.Size([32, 80, 512]) torch.Size([1, 80, 512])\n",
      "torch.Size([32, 80, 512]) torch.Size([1, 80, 512])\n",
      "torch.Size([32, 80, 512]) torch.Size([1, 80, 512])\n",
      "torch.Size([32, 80, 512]) torch.Size([1, 80, 512])\n"
     ]
    },
    {
     "name": "stderr",
     "output_type": "stream",
     "text": [
      "Processing Epoch 01:  61%|██████    | 3501/5717 [09:13<05:52,  6.29it/s, loss=2.176]"
     ]
    },
    {
     "name": "stdout",
     "output_type": "stream",
     "text": [
      "torch.Size([32, 80, 512]) torch.Size([1, 80, 512])\n",
      "torch.Size([32, 80, 512]) torch.Size([1, 80, 512])\n",
      "torch.Size([32, 80, 512]) torch.Size([1, 80, 512])\n",
      "torch.Size([32, 80, 512]) torch.Size([1, 80, 512])\n"
     ]
    },
    {
     "name": "stderr",
     "output_type": "stream",
     "text": [
      "Processing Epoch 01:  61%|██████▏   | 3503/5717 [09:14<05:47,  6.36it/s, loss=2.092]"
     ]
    },
    {
     "name": "stdout",
     "output_type": "stream",
     "text": [
      "torch.Size([32, 80, 512]) torch.Size([1, 80, 512])\n",
      "torch.Size([32, 80, 512]) torch.Size([1, 80, 512])\n",
      "torch.Size([32, 80, 512]) torch.Size([1, 80, 512])\n",
      "torch.Size([32, 80, 512]) torch.Size([1, 80, 512])\n"
     ]
    },
    {
     "name": "stderr",
     "output_type": "stream",
     "text": [
      "Processing Epoch 01:  61%|██████▏   | 3505/5717 [09:14<05:56,  6.20it/s, loss=2.236]"
     ]
    },
    {
     "name": "stdout",
     "output_type": "stream",
     "text": [
      "torch.Size([32, 80, 512]) torch.Size([1, 80, 512])\n",
      "torch.Size([32, 80, 512]) torch.Size([1, 80, 512])\n",
      "torch.Size([32, 80, 512]) torch.Size([1, 80, 512])\n",
      "torch.Size([32, 80, 512]) torch.Size([1, 80, 512])\n"
     ]
    },
    {
     "name": "stderr",
     "output_type": "stream",
     "text": [
      "Processing Epoch 01:  61%|██████▏   | 3507/5717 [09:14<06:09,  5.98it/s, loss=2.265]"
     ]
    },
    {
     "name": "stdout",
     "output_type": "stream",
     "text": [
      "torch.Size([32, 80, 512]) torch.Size([1, 80, 512])\n",
      "torch.Size([32, 80, 512]) torch.Size([1, 80, 512])\n",
      "torch.Size([32, 80, 512]) torch.Size([1, 80, 512])\n",
      "torch.Size([32, 80, 512]) torch.Size([1, 80, 512])\n"
     ]
    },
    {
     "name": "stderr",
     "output_type": "stream",
     "text": [
      "Processing Epoch 01:  61%|██████▏   | 3509/5717 [09:15<05:52,  6.27it/s, loss=2.085]"
     ]
    },
    {
     "name": "stdout",
     "output_type": "stream",
     "text": [
      "torch.Size([32, 80, 512]) torch.Size([1, 80, 512])\n",
      "torch.Size([32, 80, 512]) torch.Size([1, 80, 512])\n",
      "torch.Size([32, 80, 512]) torch.Size([1, 80, 512])\n",
      "torch.Size([32, 80, 512]) torch.Size([1, 80, 512])\n"
     ]
    },
    {
     "name": "stderr",
     "output_type": "stream",
     "text": [
      "Processing Epoch 01:  61%|██████▏   | 3511/5717 [09:15<06:01,  6.10it/s, loss=2.049]"
     ]
    },
    {
     "name": "stdout",
     "output_type": "stream",
     "text": [
      "torch.Size([32, 80, 512]) torch.Size([1, 80, 512])\n",
      "torch.Size([32, 80, 512]) torch.Size([1, 80, 512])\n",
      "torch.Size([32, 80, 512]) torch.Size([1, 80, 512])\n",
      "torch.Size([32, 80, 512]) torch.Size([1, 80, 512])\n"
     ]
    },
    {
     "name": "stderr",
     "output_type": "stream",
     "text": [
      "Processing Epoch 01:  61%|██████▏   | 3513/5717 [09:15<06:08,  5.98it/s, loss=1.995]"
     ]
    },
    {
     "name": "stdout",
     "output_type": "stream",
     "text": [
      "torch.Size([32, 80, 512]) torch.Size([1, 80, 512])\n",
      "torch.Size([32, 80, 512]) torch.Size([1, 80, 512])\n",
      "torch.Size([32, 80, 512]) torch.Size([1, 80, 512])\n",
      "torch.Size([32, 80, 512]) torch.Size([1, 80, 512])\n"
     ]
    },
    {
     "name": "stderr",
     "output_type": "stream",
     "text": [
      "Processing Epoch 01:  61%|██████▏   | 3515/5717 [09:16<05:40,  6.46it/s, loss=2.040]"
     ]
    },
    {
     "name": "stdout",
     "output_type": "stream",
     "text": [
      "torch.Size([32, 80, 512]) torch.Size([1, 80, 512])\n",
      "torch.Size([32, 80, 512]) torch.Size([1, 80, 512])\n",
      "torch.Size([32, 80, 512]) torch.Size([1, 80, 512])\n",
      "torch.Size([32, 80, 512]) torch.Size([1, 80, 512])\n"
     ]
    },
    {
     "name": "stderr",
     "output_type": "stream",
     "text": [
      "Processing Epoch 01:  62%|██████▏   | 3517/5717 [09:16<05:54,  6.20it/s, loss=1.956]"
     ]
    },
    {
     "name": "stdout",
     "output_type": "stream",
     "text": [
      "torch.Size([32, 80, 512]) torch.Size([1, 80, 512])\n",
      "torch.Size([32, 80, 512]) torch.Size([1, 80, 512])\n",
      "torch.Size([32, 80, 512]) torch.Size([1, 80, 512])\n",
      "torch.Size([32, 80, 512]) torch.Size([1, 80, 512])\n"
     ]
    },
    {
     "name": "stderr",
     "output_type": "stream",
     "text": [
      "Processing Epoch 01:  62%|██████▏   | 3519/5717 [09:16<05:49,  6.29it/s, loss=2.108]"
     ]
    },
    {
     "name": "stdout",
     "output_type": "stream",
     "text": [
      "torch.Size([32, 80, 512]) torch.Size([1, 80, 512])\n",
      "torch.Size([32, 80, 512]) torch.Size([1, 80, 512])\n",
      "torch.Size([32, 80, 512]) torch.Size([1, 80, 512])\n",
      "torch.Size([32, 80, 512]) torch.Size([1, 80, 512])\n"
     ]
    },
    {
     "name": "stderr",
     "output_type": "stream",
     "text": [
      "Processing Epoch 01:  62%|██████▏   | 3521/5717 [09:17<05:45,  6.35it/s, loss=2.099]"
     ]
    },
    {
     "name": "stdout",
     "output_type": "stream",
     "text": [
      "torch.Size([32, 80, 512]) torch.Size([1, 80, 512])\n",
      "torch.Size([32, 80, 512]) torch.Size([1, 80, 512])\n",
      "torch.Size([32, 80, 512]) torch.Size([1, 80, 512])\n",
      "torch.Size([32, 80, 512]) torch.Size([1, 80, 512])\n"
     ]
    },
    {
     "name": "stderr",
     "output_type": "stream",
     "text": [
      "Processing Epoch 01:  62%|██████▏   | 3523/5717 [09:17<05:51,  6.24it/s, loss=2.001]"
     ]
    },
    {
     "name": "stdout",
     "output_type": "stream",
     "text": [
      "torch.Size([32, 80, 512]) torch.Size([1, 80, 512])\n",
      "torch.Size([32, 80, 512]) torch.Size([1, 80, 512])\n",
      "torch.Size([32, 80, 512]) torch.Size([1, 80, 512])\n",
      "torch.Size([32, 80, 512]) torch.Size([1, 80, 512])\n"
     ]
    },
    {
     "name": "stderr",
     "output_type": "stream",
     "text": [
      "Processing Epoch 01:  62%|██████▏   | 3525/5717 [09:17<05:51,  6.24it/s, loss=1.956]"
     ]
    },
    {
     "name": "stdout",
     "output_type": "stream",
     "text": [
      "torch.Size([32, 80, 512]) torch.Size([1, 80, 512])\n",
      "torch.Size([32, 80, 512]) torch.Size([1, 80, 512])\n",
      "torch.Size([32, 80, 512]) torch.Size([1, 80, 512])\n",
      "torch.Size([32, 80, 512]) torch.Size([1, 80, 512])\n"
     ]
    },
    {
     "name": "stderr",
     "output_type": "stream",
     "text": [
      "Processing Epoch 01:  62%|██████▏   | 3527/5717 [09:18<05:50,  6.25it/s, loss=2.322]"
     ]
    },
    {
     "name": "stdout",
     "output_type": "stream",
     "text": [
      "torch.Size([32, 80, 512]) torch.Size([1, 80, 512])\n",
      "torch.Size([32, 80, 512]) torch.Size([1, 80, 512])\n",
      "torch.Size([32, 80, 512]) torch.Size([1, 80, 512])\n",
      "torch.Size([32, 80, 512]) torch.Size([1, 80, 512])\n"
     ]
    },
    {
     "name": "stderr",
     "output_type": "stream",
     "text": [
      "Processing Epoch 01:  62%|██████▏   | 3529/5717 [09:18<05:53,  6.18it/s, loss=2.043]"
     ]
    },
    {
     "name": "stdout",
     "output_type": "stream",
     "text": [
      "torch.Size([32, 80, 512]) torch.Size([1, 80, 512])\n",
      "torch.Size([32, 80, 512]) torch.Size([1, 80, 512])\n",
      "torch.Size([32, 80, 512]) torch.Size([1, 80, 512])\n",
      "torch.Size([32, 80, 512]) torch.Size([1, 80, 512])\n"
     ]
    },
    {
     "name": "stderr",
     "output_type": "stream",
     "text": [
      "Processing Epoch 01:  62%|██████▏   | 3531/5717 [09:18<05:53,  6.18it/s, loss=1.908]"
     ]
    },
    {
     "name": "stdout",
     "output_type": "stream",
     "text": [
      "torch.Size([32, 80, 512]) torch.Size([1, 80, 512])\n",
      "torch.Size([32, 80, 512]) torch.Size([1, 80, 512])\n",
      "torch.Size([32, 80, 512]) torch.Size([1, 80, 512])\n",
      "torch.Size([32, 80, 512]) torch.Size([1, 80, 512])\n"
     ]
    },
    {
     "name": "stderr",
     "output_type": "stream",
     "text": [
      "Processing Epoch 01:  62%|██████▏   | 3533/5717 [09:19<05:47,  6.29it/s, loss=1.890]"
     ]
    },
    {
     "name": "stdout",
     "output_type": "stream",
     "text": [
      "torch.Size([32, 80, 512]) torch.Size([1, 80, 512])\n",
      "torch.Size([32, 80, 512]) torch.Size([1, 80, 512])\n",
      "torch.Size([32, 80, 512]) torch.Size([1, 80, 512])\n",
      "torch.Size([32, 80, 512]) torch.Size([1, 80, 512])\n"
     ]
    },
    {
     "name": "stderr",
     "output_type": "stream",
     "text": [
      "Processing Epoch 01:  62%|██████▏   | 3535/5717 [09:19<05:42,  6.37it/s, loss=1.957]"
     ]
    },
    {
     "name": "stdout",
     "output_type": "stream",
     "text": [
      "torch.Size([32, 80, 512]) torch.Size([1, 80, 512])\n",
      "torch.Size([32, 80, 512]) torch.Size([1, 80, 512])\n",
      "torch.Size([32, 80, 512]) torch.Size([1, 80, 512])\n",
      "torch.Size([32, 80, 512]) torch.Size([1, 80, 512])\n"
     ]
    },
    {
     "name": "stderr",
     "output_type": "stream",
     "text": [
      "Processing Epoch 01:  62%|██████▏   | 3537/5717 [09:19<06:04,  5.98it/s, loss=1.934]"
     ]
    },
    {
     "name": "stdout",
     "output_type": "stream",
     "text": [
      "torch.Size([32, 80, 512]) torch.Size([1, 80, 512])\n",
      "torch.Size([32, 80, 512]) torch.Size([1, 80, 512])\n",
      "torch.Size([32, 80, 512]) torch.Size([1, 80, 512])\n",
      "torch.Size([32, 80, 512]) torch.Size([1, 80, 512])\n"
     ]
    },
    {
     "name": "stderr",
     "output_type": "stream",
     "text": [
      "Processing Epoch 01:  62%|██████▏   | 3539/5717 [09:20<06:00,  6.04it/s, loss=2.007]"
     ]
    },
    {
     "name": "stdout",
     "output_type": "stream",
     "text": [
      "torch.Size([32, 80, 512]) torch.Size([1, 80, 512])\n",
      "torch.Size([32, 80, 512]) torch.Size([1, 80, 512])\n",
      "torch.Size([32, 80, 512]) torch.Size([1, 80, 512])\n",
      "torch.Size([32, 80, 512]) torch.Size([1, 80, 512])\n"
     ]
    },
    {
     "name": "stderr",
     "output_type": "stream",
     "text": [
      "Processing Epoch 01:  62%|██████▏   | 3541/5717 [09:20<05:40,  6.39it/s, loss=2.120]"
     ]
    },
    {
     "name": "stdout",
     "output_type": "stream",
     "text": [
      "torch.Size([32, 80, 512]) torch.Size([1, 80, 512])\n",
      "torch.Size([32, 80, 512]) torch.Size([1, 80, 512])\n",
      "torch.Size([32, 80, 512]) torch.Size([1, 80, 512])\n",
      "torch.Size([32, 80, 512]) torch.Size([1, 80, 512])\n"
     ]
    },
    {
     "name": "stderr",
     "output_type": "stream",
     "text": [
      "Processing Epoch 01:  62%|██████▏   | 3543/5717 [09:20<05:48,  6.24it/s, loss=1.997]"
     ]
    },
    {
     "name": "stdout",
     "output_type": "stream",
     "text": [
      "torch.Size([32, 80, 512]) torch.Size([1, 80, 512])\n",
      "torch.Size([32, 80, 512]) torch.Size([1, 80, 512])\n",
      "torch.Size([32, 80, 512]) torch.Size([1, 80, 512])\n",
      "torch.Size([32, 80, 512]) torch.Size([1, 80, 512])\n"
     ]
    },
    {
     "name": "stderr",
     "output_type": "stream",
     "text": [
      "Processing Epoch 01:  62%|██████▏   | 3545/5717 [09:21<05:41,  6.37it/s, loss=2.066]"
     ]
    },
    {
     "name": "stdout",
     "output_type": "stream",
     "text": [
      "torch.Size([32, 80, 512]) torch.Size([1, 80, 512])\n",
      "torch.Size([32, 80, 512]) torch.Size([1, 80, 512])\n",
      "torch.Size([32, 80, 512]) torch.Size([1, 80, 512])\n",
      "torch.Size([32, 80, 512]) torch.Size([1, 80, 512])\n"
     ]
    },
    {
     "name": "stderr",
     "output_type": "stream",
     "text": [
      "Processing Epoch 01:  62%|██████▏   | 3547/5717 [09:21<05:41,  6.35it/s, loss=1.896]"
     ]
    },
    {
     "name": "stdout",
     "output_type": "stream",
     "text": [
      "torch.Size([32, 80, 512]) torch.Size([1, 80, 512])\n",
      "torch.Size([32, 80, 512]) torch.Size([1, 80, 512])\n",
      "torch.Size([32, 80, 512]) torch.Size([1, 80, 512])\n",
      "torch.Size([32, 80, 512]) torch.Size([1, 80, 512])\n"
     ]
    },
    {
     "name": "stderr",
     "output_type": "stream",
     "text": [
      "Processing Epoch 01:  62%|██████▏   | 3549/5717 [09:21<05:47,  6.23it/s, loss=1.938]"
     ]
    },
    {
     "name": "stdout",
     "output_type": "stream",
     "text": [
      "torch.Size([32, 80, 512]) torch.Size([1, 80, 512])\n",
      "torch.Size([32, 80, 512]) torch.Size([1, 80, 512])\n",
      "torch.Size([32, 80, 512]) torch.Size([1, 80, 512])\n",
      "torch.Size([32, 80, 512]) torch.Size([1, 80, 512])\n"
     ]
    },
    {
     "name": "stderr",
     "output_type": "stream",
     "text": [
      "Processing Epoch 01:  62%|██████▏   | 3551/5717 [09:22<05:42,  6.32it/s, loss=1.946]"
     ]
    },
    {
     "name": "stdout",
     "output_type": "stream",
     "text": [
      "torch.Size([32, 80, 512]) torch.Size([1, 80, 512])\n",
      "torch.Size([32, 80, 512]) torch.Size([1, 80, 512])\n",
      "torch.Size([32, 80, 512]) torch.Size([1, 80, 512])\n",
      "torch.Size([32, 80, 512]) torch.Size([1, 80, 512])\n"
     ]
    },
    {
     "name": "stderr",
     "output_type": "stream",
     "text": [
      "Processing Epoch 01:  62%|██████▏   | 3553/5717 [09:22<05:42,  6.31it/s, loss=2.218]"
     ]
    },
    {
     "name": "stdout",
     "output_type": "stream",
     "text": [
      "torch.Size([32, 80, 512]) torch.Size([1, 80, 512])\n",
      "torch.Size([32, 80, 512]) torch.Size([1, 80, 512])\n",
      "torch.Size([32, 80, 512]) torch.Size([1, 80, 512])\n",
      "torch.Size([32, 80, 512]) torch.Size([1, 80, 512])\n"
     ]
    },
    {
     "name": "stderr",
     "output_type": "stream",
     "text": [
      "Processing Epoch 01:  62%|██████▏   | 3555/5717 [09:22<05:39,  6.36it/s, loss=2.088]"
     ]
    },
    {
     "name": "stdout",
     "output_type": "stream",
     "text": [
      "torch.Size([32, 80, 512]) torch.Size([1, 80, 512])\n",
      "torch.Size([32, 80, 512]) torch.Size([1, 80, 512])\n",
      "torch.Size([32, 80, 512]) torch.Size([1, 80, 512])\n",
      "torch.Size([32, 80, 512]) torch.Size([1, 80, 512])\n"
     ]
    },
    {
     "name": "stderr",
     "output_type": "stream",
     "text": [
      "Processing Epoch 01:  62%|██████▏   | 3557/5717 [09:22<05:38,  6.38it/s, loss=2.059]"
     ]
    },
    {
     "name": "stdout",
     "output_type": "stream",
     "text": [
      "torch.Size([32, 80, 512]) torch.Size([1, 80, 512])\n",
      "torch.Size([32, 80, 512]) torch.Size([1, 80, 512])\n",
      "torch.Size([32, 80, 512]) torch.Size([1, 80, 512])\n",
      "torch.Size([32, 80, 512]) torch.Size([1, 80, 512])\n"
     ]
    },
    {
     "name": "stderr",
     "output_type": "stream",
     "text": [
      "Processing Epoch 01:  62%|██████▏   | 3559/5717 [09:23<05:40,  6.34it/s, loss=2.167]"
     ]
    },
    {
     "name": "stdout",
     "output_type": "stream",
     "text": [
      "torch.Size([32, 80, 512]) torch.Size([1, 80, 512])\n",
      "torch.Size([32, 80, 512]) torch.Size([1, 80, 512])\n",
      "torch.Size([32, 80, 512]) torch.Size([1, 80, 512])\n",
      "torch.Size([32, 80, 512]) torch.Size([1, 80, 512])\n"
     ]
    },
    {
     "name": "stderr",
     "output_type": "stream",
     "text": [
      "Processing Epoch 01:  62%|██████▏   | 3561/5717 [09:23<05:45,  6.24it/s, loss=2.021]"
     ]
    },
    {
     "name": "stdout",
     "output_type": "stream",
     "text": [
      "torch.Size([32, 80, 512]) torch.Size([1, 80, 512])\n",
      "torch.Size([32, 80, 512]) torch.Size([1, 80, 512])\n",
      "torch.Size([32, 80, 512]) torch.Size([1, 80, 512])\n",
      "torch.Size([32, 80, 512]) torch.Size([1, 80, 512])\n"
     ]
    },
    {
     "name": "stderr",
     "output_type": "stream",
     "text": [
      "Processing Epoch 01:  62%|██████▏   | 3563/5717 [09:23<05:42,  6.29it/s, loss=2.322]"
     ]
    },
    {
     "name": "stdout",
     "output_type": "stream",
     "text": [
      "torch.Size([32, 80, 512]) torch.Size([1, 80, 512])\n",
      "torch.Size([32, 80, 512]) torch.Size([1, 80, 512])\n",
      "torch.Size([32, 80, 512]) torch.Size([1, 80, 512])\n",
      "torch.Size([32, 80, 512]) torch.Size([1, 80, 512])\n"
     ]
    },
    {
     "name": "stderr",
     "output_type": "stream",
     "text": [
      "Processing Epoch 01:  62%|██████▏   | 3565/5717 [09:24<05:45,  6.22it/s, loss=2.187]"
     ]
    },
    {
     "name": "stdout",
     "output_type": "stream",
     "text": [
      "torch.Size([32, 80, 512]) torch.Size([1, 80, 512])\n",
      "torch.Size([32, 80, 512]) torch.Size([1, 80, 512])\n",
      "torch.Size([32, 80, 512]) torch.Size([1, 80, 512])\n",
      "torch.Size([32, 80, 512]) torch.Size([1, 80, 512])\n"
     ]
    },
    {
     "name": "stderr",
     "output_type": "stream",
     "text": [
      "Processing Epoch 01:  62%|██████▏   | 3567/5717 [09:24<05:32,  6.47it/s, loss=2.080]"
     ]
    },
    {
     "name": "stdout",
     "output_type": "stream",
     "text": [
      "torch.Size([32, 80, 512]) torch.Size([1, 80, 512])\n",
      "torch.Size([32, 80, 512]) torch.Size([1, 80, 512])\n",
      "torch.Size([32, 80, 512]) torch.Size([1, 80, 512])\n",
      "torch.Size([32, 80, 512]) torch.Size([1, 80, 512])\n"
     ]
    },
    {
     "name": "stderr",
     "output_type": "stream",
     "text": [
      "Processing Epoch 01:  62%|██████▏   | 3569/5717 [09:24<05:35,  6.40it/s, loss=1.973]"
     ]
    },
    {
     "name": "stdout",
     "output_type": "stream",
     "text": [
      "torch.Size([32, 80, 512]) torch.Size([1, 80, 512])\n",
      "torch.Size([32, 80, 512]) torch.Size([1, 80, 512])\n",
      "torch.Size([32, 80, 512]) torch.Size([1, 80, 512])\n",
      "torch.Size([32, 80, 512]) torch.Size([1, 80, 512])\n"
     ]
    },
    {
     "name": "stderr",
     "output_type": "stream",
     "text": [
      "Processing Epoch 01:  62%|██████▏   | 3571/5717 [09:25<05:36,  6.38it/s, loss=2.289]"
     ]
    },
    {
     "name": "stdout",
     "output_type": "stream",
     "text": [
      "torch.Size([32, 80, 512]) torch.Size([1, 80, 512])\n",
      "torch.Size([32, 80, 512]) torch.Size([1, 80, 512])\n",
      "torch.Size([32, 80, 512]) torch.Size([1, 80, 512])\n",
      "torch.Size([32, 80, 512]) torch.Size([1, 80, 512])\n"
     ]
    },
    {
     "name": "stderr",
     "output_type": "stream",
     "text": [
      "Processing Epoch 01:  62%|██████▏   | 3573/5717 [09:25<05:31,  6.46it/s, loss=2.088]"
     ]
    },
    {
     "name": "stdout",
     "output_type": "stream",
     "text": [
      "torch.Size([32, 80, 512]) torch.Size([1, 80, 512])\n",
      "torch.Size([32, 80, 512]) torch.Size([1, 80, 512])\n",
      "torch.Size([32, 80, 512]) torch.Size([1, 80, 512])\n",
      "torch.Size([32, 80, 512]) torch.Size([1, 80, 512])\n"
     ]
    },
    {
     "name": "stderr",
     "output_type": "stream",
     "text": [
      "Processing Epoch 01:  63%|██████▎   | 3575/5717 [09:25<05:35,  6.39it/s, loss=2.157]"
     ]
    },
    {
     "name": "stdout",
     "output_type": "stream",
     "text": [
      "torch.Size([32, 80, 512]) torch.Size([1, 80, 512])\n",
      "torch.Size([32, 80, 512]) torch.Size([1, 80, 512])\n",
      "torch.Size([32, 80, 512]) torch.Size([1, 80, 512])\n",
      "torch.Size([32, 80, 512]) torch.Size([1, 80, 512])\n"
     ]
    },
    {
     "name": "stderr",
     "output_type": "stream",
     "text": [
      "Processing Epoch 01:  63%|██████▎   | 3577/5717 [09:26<05:36,  6.36it/s, loss=1.911]"
     ]
    },
    {
     "name": "stdout",
     "output_type": "stream",
     "text": [
      "torch.Size([32, 80, 512]) torch.Size([1, 80, 512])\n",
      "torch.Size([32, 80, 512]) torch.Size([1, 80, 512])\n",
      "torch.Size([32, 80, 512]) torch.Size([1, 80, 512])\n",
      "torch.Size([32, 80, 512]) torch.Size([1, 80, 512])\n"
     ]
    },
    {
     "name": "stderr",
     "output_type": "stream",
     "text": [
      "Processing Epoch 01:  63%|██████▎   | 3579/5717 [09:26<05:47,  6.15it/s, loss=2.156]"
     ]
    },
    {
     "name": "stdout",
     "output_type": "stream",
     "text": [
      "torch.Size([32, 80, 512]) torch.Size([1, 80, 512])\n",
      "torch.Size([32, 80, 512]) torch.Size([1, 80, 512])\n",
      "torch.Size([32, 80, 512]) torch.Size([1, 80, 512])\n",
      "torch.Size([32, 80, 512]) torch.Size([1, 80, 512])\n"
     ]
    },
    {
     "name": "stderr",
     "output_type": "stream",
     "text": [
      "Processing Epoch 01:  63%|██████▎   | 3581/5717 [09:26<05:45,  6.18it/s, loss=2.006]"
     ]
    },
    {
     "name": "stdout",
     "output_type": "stream",
     "text": [
      "torch.Size([32, 80, 512]) torch.Size([1, 80, 512])\n",
      "torch.Size([32, 80, 512]) torch.Size([1, 80, 512])\n",
      "torch.Size([32, 80, 512]) torch.Size([1, 80, 512])\n",
      "torch.Size([32, 80, 512]) torch.Size([1, 80, 512])\n"
     ]
    },
    {
     "name": "stderr",
     "output_type": "stream",
     "text": [
      "Processing Epoch 01:  63%|██████▎   | 3583/5717 [09:27<05:39,  6.29it/s, loss=1.879]"
     ]
    },
    {
     "name": "stdout",
     "output_type": "stream",
     "text": [
      "torch.Size([32, 80, 512]) torch.Size([1, 80, 512])\n",
      "torch.Size([32, 80, 512]) torch.Size([1, 80, 512])\n",
      "torch.Size([32, 80, 512]) torch.Size([1, 80, 512])\n",
      "torch.Size([32, 80, 512]) torch.Size([1, 80, 512])\n"
     ]
    },
    {
     "name": "stderr",
     "output_type": "stream",
     "text": [
      "Processing Epoch 01:  63%|██████▎   | 3585/5717 [09:27<05:36,  6.34it/s, loss=2.126]"
     ]
    },
    {
     "name": "stdout",
     "output_type": "stream",
     "text": [
      "torch.Size([32, 80, 512]) torch.Size([1, 80, 512])\n",
      "torch.Size([32, 80, 512]) torch.Size([1, 80, 512])\n",
      "torch.Size([32, 80, 512]) torch.Size([1, 80, 512])\n"
     ]
    },
    {
     "name": "stderr",
     "output_type": "stream",
     "text": [
      "Processing Epoch 01:  63%|██████▎   | 3586/5717 [09:27<05:56,  5.99it/s, loss=2.157]"
     ]
    },
    {
     "name": "stdout",
     "output_type": "stream",
     "text": [
      "torch.Size([32, 80, 512]) torch.Size([1, 80, 512])\n",
      "torch.Size([32, 80, 512]) torch.Size([1, 80, 512])\n",
      "torch.Size([32, 80, 512]) torch.Size([1, 80, 512])\n"
     ]
    },
    {
     "name": "stderr",
     "output_type": "stream",
     "text": [
      "Processing Epoch 01:  63%|██████▎   | 3588/5717 [09:27<05:38,  6.28it/s, loss=1.947]"
     ]
    },
    {
     "name": "stdout",
     "output_type": "stream",
     "text": [
      "torch.Size([32, 80, 512]) torch.Size([1, 80, 512])\n",
      "torch.Size([32, 80, 512]) torch.Size([1, 80, 512])\n",
      "torch.Size([32, 80, 512]) torch.Size([1, 80, 512])\n",
      "torch.Size([32, 80, 512]) torch.Size([1, 80, 512])\n"
     ]
    },
    {
     "name": "stderr",
     "output_type": "stream",
     "text": [
      "Processing Epoch 01:  63%|██████▎   | 3590/5717 [09:28<05:36,  6.33it/s, loss=1.852]"
     ]
    },
    {
     "name": "stdout",
     "output_type": "stream",
     "text": [
      "torch.Size([32, 80, 512]) torch.Size([1, 80, 512])\n",
      "torch.Size([32, 80, 512]) torch.Size([1, 80, 512])\n",
      "torch.Size([32, 80, 512]) torch.Size([1, 80, 512])\n",
      "torch.Size([32, 80, 512]) torch.Size([1, 80, 512])\n"
     ]
    },
    {
     "name": "stderr",
     "output_type": "stream",
     "text": [
      "Processing Epoch 01:  63%|██████▎   | 3592/5717 [09:28<05:36,  6.31it/s, loss=1.965]"
     ]
    },
    {
     "name": "stdout",
     "output_type": "stream",
     "text": [
      "torch.Size([32, 80, 512]) torch.Size([1, 80, 512])\n",
      "torch.Size([32, 80, 512]) torch.Size([1, 80, 512])\n",
      "torch.Size([32, 80, 512]) torch.Size([1, 80, 512])\n",
      "torch.Size([32, 80, 512]) torch.Size([1, 80, 512])\n"
     ]
    },
    {
     "name": "stderr",
     "output_type": "stream",
     "text": [
      "Processing Epoch 01:  63%|██████▎   | 3594/5717 [09:28<05:49,  6.07it/s, loss=1.925]"
     ]
    },
    {
     "name": "stdout",
     "output_type": "stream",
     "text": [
      "torch.Size([32, 80, 512]) torch.Size([1, 80, 512])\n",
      "torch.Size([32, 80, 512]) torch.Size([1, 80, 512])\n",
      "torch.Size([32, 80, 512]) torch.Size([1, 80, 512])\n",
      "torch.Size([32, 80, 512]) torch.Size([1, 80, 512])\n"
     ]
    },
    {
     "name": "stderr",
     "output_type": "stream",
     "text": [
      "Processing Epoch 01:  63%|██████▎   | 3596/5717 [09:29<05:41,  6.21it/s, loss=2.091]"
     ]
    },
    {
     "name": "stdout",
     "output_type": "stream",
     "text": [
      "torch.Size([32, 80, 512]) torch.Size([1, 80, 512])\n",
      "torch.Size([32, 80, 512]) torch.Size([1, 80, 512])\n",
      "torch.Size([32, 80, 512]) torch.Size([1, 80, 512])\n",
      "torch.Size([32, 80, 512]) torch.Size([1, 80, 512])\n"
     ]
    },
    {
     "name": "stderr",
     "output_type": "stream",
     "text": [
      "Processing Epoch 01:  63%|██████▎   | 3598/5717 [09:29<05:34,  6.34it/s, loss=2.130]"
     ]
    },
    {
     "name": "stdout",
     "output_type": "stream",
     "text": [
      "torch.Size([32, 80, 512]) torch.Size([1, 80, 512])\n",
      "torch.Size([32, 80, 512]) torch.Size([1, 80, 512])\n",
      "torch.Size([32, 80, 512]) torch.Size([1, 80, 512])\n",
      "torch.Size([32, 80, 512]) torch.Size([1, 80, 512])\n"
     ]
    },
    {
     "name": "stderr",
     "output_type": "stream",
     "text": [
      "Processing Epoch 01:  63%|██████▎   | 3600/5717 [09:29<05:29,  6.42it/s, loss=1.925]"
     ]
    },
    {
     "name": "stdout",
     "output_type": "stream",
     "text": [
      "torch.Size([32, 80, 512]) torch.Size([1, 80, 512])\n",
      "torch.Size([32, 80, 512]) torch.Size([1, 80, 512])\n",
      "torch.Size([32, 80, 512]) torch.Size([1, 80, 512])\n",
      "torch.Size([32, 80, 512]) torch.Size([1, 80, 512])\n"
     ]
    },
    {
     "name": "stderr",
     "output_type": "stream",
     "text": [
      "Processing Epoch 01:  63%|██████▎   | 3602/5717 [09:30<05:30,  6.39it/s, loss=2.203]"
     ]
    },
    {
     "name": "stdout",
     "output_type": "stream",
     "text": [
      "torch.Size([32, 80, 512]) torch.Size([1, 80, 512])\n",
      "torch.Size([32, 80, 512]) torch.Size([1, 80, 512])\n",
      "torch.Size([32, 80, 512]) torch.Size([1, 80, 512])\n",
      "torch.Size([32, 80, 512]) torch.Size([1, 80, 512])\n"
     ]
    },
    {
     "name": "stderr",
     "output_type": "stream",
     "text": [
      "Processing Epoch 01:  63%|██████▎   | 3604/5717 [09:30<05:30,  6.40it/s, loss=1.999]"
     ]
    },
    {
     "name": "stdout",
     "output_type": "stream",
     "text": [
      "torch.Size([32, 80, 512]) torch.Size([1, 80, 512])\n",
      "torch.Size([32, 80, 512]) torch.Size([1, 80, 512])\n",
      "torch.Size([32, 80, 512]) torch.Size([1, 80, 512])\n",
      "torch.Size([32, 80, 512]) torch.Size([1, 80, 512])\n"
     ]
    },
    {
     "name": "stderr",
     "output_type": "stream",
     "text": [
      "Processing Epoch 01:  63%|██████▎   | 3606/5717 [09:30<05:42,  6.17it/s, loss=2.172]"
     ]
    },
    {
     "name": "stdout",
     "output_type": "stream",
     "text": [
      "torch.Size([32, 80, 512]) torch.Size([1, 80, 512])\n",
      "torch.Size([32, 80, 512]) torch.Size([1, 80, 512])\n",
      "torch.Size([32, 80, 512]) torch.Size([1, 80, 512])\n",
      "torch.Size([32, 80, 512]) torch.Size([1, 80, 512])\n"
     ]
    },
    {
     "name": "stderr",
     "output_type": "stream",
     "text": [
      "Processing Epoch 01:  63%|██████▎   | 3608/5717 [09:31<05:49,  6.03it/s, loss=2.139]"
     ]
    },
    {
     "name": "stdout",
     "output_type": "stream",
     "text": [
      "torch.Size([32, 80, 512]) torch.Size([1, 80, 512])\n",
      "torch.Size([32, 80, 512]) torch.Size([1, 80, 512])\n",
      "torch.Size([32, 80, 512]) torch.Size([1, 80, 512])\n",
      "torch.Size([32, 80, 512]) torch.Size([1, 80, 512])\n"
     ]
    },
    {
     "name": "stderr",
     "output_type": "stream",
     "text": [
      "Processing Epoch 01:  63%|██████▎   | 3610/5717 [09:31<05:30,  6.37it/s, loss=2.294]"
     ]
    },
    {
     "name": "stdout",
     "output_type": "stream",
     "text": [
      "torch.Size([32, 80, 512]) torch.Size([1, 80, 512])\n",
      "torch.Size([32, 80, 512]) torch.Size([1, 80, 512])\n",
      "torch.Size([32, 80, 512]) torch.Size([1, 80, 512])\n",
      "torch.Size([32, 80, 512]) torch.Size([1, 80, 512])\n"
     ]
    },
    {
     "name": "stderr",
     "output_type": "stream",
     "text": [
      "Processing Epoch 01:  63%|██████▎   | 3612/5717 [09:31<05:41,  6.17it/s, loss=2.050]"
     ]
    },
    {
     "name": "stdout",
     "output_type": "stream",
     "text": [
      "torch.Size([32, 80, 512]) torch.Size([1, 80, 512])\n",
      "torch.Size([32, 80, 512]) torch.Size([1, 80, 512])\n",
      "torch.Size([32, 80, 512]) torch.Size([1, 80, 512])\n",
      "torch.Size([32, 80, 512]) torch.Size([1, 80, 512])\n"
     ]
    },
    {
     "name": "stderr",
     "output_type": "stream",
     "text": [
      "Processing Epoch 01:  63%|██████▎   | 3614/5717 [09:32<05:33,  6.31it/s, loss=2.213]"
     ]
    },
    {
     "name": "stdout",
     "output_type": "stream",
     "text": [
      "torch.Size([32, 80, 512]) torch.Size([1, 80, 512])\n",
      "torch.Size([32, 80, 512]) torch.Size([1, 80, 512])\n",
      "torch.Size([32, 80, 512]) torch.Size([1, 80, 512])\n",
      "torch.Size([32, 80, 512]) torch.Size([1, 80, 512])\n"
     ]
    },
    {
     "name": "stderr",
     "output_type": "stream",
     "text": [
      "Processing Epoch 01:  63%|██████▎   | 3616/5717 [09:32<05:37,  6.23it/s, loss=1.762]"
     ]
    },
    {
     "name": "stdout",
     "output_type": "stream",
     "text": [
      "torch.Size([32, 80, 512]) torch.Size([1, 80, 512])\n",
      "torch.Size([32, 80, 512]) torch.Size([1, 80, 512])\n",
      "torch.Size([32, 80, 512]) torch.Size([1, 80, 512])\n",
      "torch.Size([32, 80, 512]) torch.Size([1, 80, 512])\n"
     ]
    },
    {
     "name": "stderr",
     "output_type": "stream",
     "text": [
      "Processing Epoch 01:  63%|██████▎   | 3618/5717 [09:32<05:31,  6.33it/s, loss=2.067]"
     ]
    },
    {
     "name": "stdout",
     "output_type": "stream",
     "text": [
      "torch.Size([32, 80, 512]) torch.Size([1, 80, 512])\n",
      "torch.Size([32, 80, 512]) torch.Size([1, 80, 512])\n",
      "torch.Size([32, 80, 512]) torch.Size([1, 80, 512])\n",
      "torch.Size([32, 80, 512]) torch.Size([1, 80, 512])\n"
     ]
    },
    {
     "name": "stderr",
     "output_type": "stream",
     "text": [
      "Processing Epoch 01:  63%|██████▎   | 3620/5717 [09:33<05:31,  6.32it/s, loss=2.141]"
     ]
    },
    {
     "name": "stdout",
     "output_type": "stream",
     "text": [
      "torch.Size([32, 80, 512]) torch.Size([1, 80, 512])\n",
      "torch.Size([32, 80, 512]) torch.Size([1, 80, 512])\n",
      "torch.Size([32, 80, 512]) torch.Size([1, 80, 512])\n",
      "torch.Size([32, 80, 512]) torch.Size([1, 80, 512])\n"
     ]
    },
    {
     "name": "stderr",
     "output_type": "stream",
     "text": [
      "Processing Epoch 01:  63%|██████▎   | 3622/5717 [09:33<05:34,  6.25it/s, loss=2.225]"
     ]
    },
    {
     "name": "stdout",
     "output_type": "stream",
     "text": [
      "torch.Size([32, 80, 512]) torch.Size([1, 80, 512])\n",
      "torch.Size([32, 80, 512]) torch.Size([1, 80, 512])\n",
      "torch.Size([32, 80, 512]) torch.Size([1, 80, 512])\n",
      "torch.Size([32, 80, 512]) torch.Size([1, 80, 512])\n"
     ]
    },
    {
     "name": "stderr",
     "output_type": "stream",
     "text": [
      "Processing Epoch 01:  63%|██████▎   | 3624/5717 [09:33<05:34,  6.26it/s, loss=2.181]"
     ]
    },
    {
     "name": "stdout",
     "output_type": "stream",
     "text": [
      "torch.Size([32, 80, 512]) torch.Size([1, 80, 512])\n",
      "torch.Size([32, 80, 512]) torch.Size([1, 80, 512])\n",
      "torch.Size([32, 80, 512]) torch.Size([1, 80, 512])\n",
      "torch.Size([32, 80, 512]) torch.Size([1, 80, 512])\n"
     ]
    },
    {
     "name": "stderr",
     "output_type": "stream",
     "text": [
      "Processing Epoch 01:  63%|██████▎   | 3626/5717 [09:34<05:38,  6.17it/s, loss=1.985]"
     ]
    },
    {
     "name": "stdout",
     "output_type": "stream",
     "text": [
      "torch.Size([32, 80, 512]) torch.Size([1, 80, 512])\n",
      "torch.Size([32, 80, 512]) torch.Size([1, 80, 512])\n",
      "torch.Size([32, 80, 512]) torch.Size([1, 80, 512])\n",
      "torch.Size([32, 80, 512]) torch.Size([1, 80, 512])\n"
     ]
    },
    {
     "name": "stderr",
     "output_type": "stream",
     "text": [
      "Processing Epoch 01:  63%|██████▎   | 3628/5717 [09:34<05:43,  6.08it/s, loss=1.948]"
     ]
    },
    {
     "name": "stdout",
     "output_type": "stream",
     "text": [
      "torch.Size([32, 80, 512]) torch.Size([1, 80, 512])\n",
      "torch.Size([32, 80, 512]) torch.Size([1, 80, 512])\n",
      "torch.Size([32, 80, 512]) torch.Size([1, 80, 512])\n",
      "torch.Size([32, 80, 512]) torch.Size([1, 80, 512])\n"
     ]
    },
    {
     "name": "stderr",
     "output_type": "stream",
     "text": [
      "Processing Epoch 01:  63%|██████▎   | 3630/5717 [09:34<05:50,  5.95it/s, loss=1.998]"
     ]
    },
    {
     "name": "stdout",
     "output_type": "stream",
     "text": [
      "torch.Size([32, 80, 512]) torch.Size([1, 80, 512])\n",
      "torch.Size([32, 80, 512]) torch.Size([1, 80, 512])\n",
      "torch.Size([32, 80, 512]) torch.Size([1, 80, 512])\n",
      "torch.Size([32, 80, 512]) torch.Size([1, 80, 512])\n"
     ]
    },
    {
     "name": "stderr",
     "output_type": "stream",
     "text": [
      "Processing Epoch 01:  64%|██████▎   | 3632/5717 [09:34<05:31,  6.29it/s, loss=1.943]"
     ]
    },
    {
     "name": "stdout",
     "output_type": "stream",
     "text": [
      "torch.Size([32, 80, 512]) torch.Size([1, 80, 512])\n",
      "torch.Size([32, 80, 512]) torch.Size([1, 80, 512])\n",
      "torch.Size([32, 80, 512]) torch.Size([1, 80, 512])\n",
      "torch.Size([32, 80, 512]) torch.Size([1, 80, 512])\n"
     ]
    },
    {
     "name": "stderr",
     "output_type": "stream",
     "text": [
      "Processing Epoch 01:  64%|██████▎   | 3634/5717 [09:35<05:38,  6.16it/s, loss=2.180]"
     ]
    },
    {
     "name": "stdout",
     "output_type": "stream",
     "text": [
      "torch.Size([32, 80, 512]) torch.Size([1, 80, 512])\n",
      "torch.Size([32, 80, 512]) torch.Size([1, 80, 512])\n",
      "torch.Size([32, 80, 512]) torch.Size([1, 80, 512])\n",
      "torch.Size([32, 80, 512]) torch.Size([1, 80, 512])\n"
     ]
    },
    {
     "name": "stderr",
     "output_type": "stream",
     "text": [
      "Processing Epoch 01:  64%|██████▎   | 3636/5717 [09:35<05:31,  6.28it/s, loss=1.908]"
     ]
    },
    {
     "name": "stdout",
     "output_type": "stream",
     "text": [
      "torch.Size([32, 80, 512]) torch.Size([1, 80, 512])\n",
      "torch.Size([32, 80, 512]) torch.Size([1, 80, 512])\n",
      "torch.Size([32, 80, 512]) torch.Size([1, 80, 512])\n",
      "torch.Size([32, 80, 512]) torch.Size([1, 80, 512])\n"
     ]
    },
    {
     "name": "stderr",
     "output_type": "stream",
     "text": [
      "Processing Epoch 01:  64%|██████▎   | 3638/5717 [09:35<05:29,  6.31it/s, loss=2.380]"
     ]
    },
    {
     "name": "stdout",
     "output_type": "stream",
     "text": [
      "torch.Size([32, 80, 512]) torch.Size([1, 80, 512])\n",
      "torch.Size([32, 80, 512]) torch.Size([1, 80, 512])\n",
      "torch.Size([32, 80, 512]) torch.Size([1, 80, 512])\n",
      "torch.Size([32, 80, 512]) torch.Size([1, 80, 512])\n"
     ]
    },
    {
     "name": "stderr",
     "output_type": "stream",
     "text": [
      "Processing Epoch 01:  64%|██████▎   | 3640/5717 [09:36<05:31,  6.26it/s, loss=1.894]"
     ]
    },
    {
     "name": "stdout",
     "output_type": "stream",
     "text": [
      "torch.Size([32, 80, 512]) torch.Size([1, 80, 512])\n",
      "torch.Size([32, 80, 512]) torch.Size([1, 80, 512])\n",
      "torch.Size([32, 80, 512]) torch.Size([1, 80, 512])\n",
      "torch.Size([32, 80, 512]) torch.Size([1, 80, 512])\n"
     ]
    },
    {
     "name": "stderr",
     "output_type": "stream",
     "text": [
      "Processing Epoch 01:  64%|██████▎   | 3642/5717 [09:36<05:27,  6.33it/s, loss=2.019]"
     ]
    },
    {
     "name": "stdout",
     "output_type": "stream",
     "text": [
      "torch.Size([32, 80, 512]) torch.Size([1, 80, 512])\n",
      "torch.Size([32, 80, 512]) torch.Size([1, 80, 512])\n",
      "torch.Size([32, 80, 512]) torch.Size([1, 80, 512])\n",
      "torch.Size([32, 80, 512]) torch.Size([1, 80, 512])\n"
     ]
    },
    {
     "name": "stderr",
     "output_type": "stream",
     "text": [
      "Processing Epoch 01:  64%|██████▎   | 3644/5717 [09:36<05:29,  6.30it/s, loss=1.743]"
     ]
    },
    {
     "name": "stdout",
     "output_type": "stream",
     "text": [
      "torch.Size([32, 80, 512]) torch.Size([1, 80, 512])\n",
      "torch.Size([32, 80, 512]) torch.Size([1, 80, 512])\n",
      "torch.Size([32, 80, 512]) torch.Size([1, 80, 512])\n",
      "torch.Size([32, 80, 512]) torch.Size([1, 80, 512])\n"
     ]
    },
    {
     "name": "stderr",
     "output_type": "stream",
     "text": [
      "Processing Epoch 01:  64%|██████▍   | 3646/5717 [09:37<05:26,  6.34it/s, loss=1.819]"
     ]
    },
    {
     "name": "stdout",
     "output_type": "stream",
     "text": [
      "torch.Size([32, 80, 512]) torch.Size([1, 80, 512])\n",
      "torch.Size([32, 80, 512]) torch.Size([1, 80, 512])\n",
      "torch.Size([32, 80, 512]) torch.Size([1, 80, 512])\n",
      "torch.Size([32, 80, 512]) torch.Size([1, 80, 512])\n"
     ]
    },
    {
     "name": "stderr",
     "output_type": "stream",
     "text": [
      "Processing Epoch 01:  64%|██████▍   | 3648/5717 [09:37<05:27,  6.32it/s, loss=1.977]"
     ]
    },
    {
     "name": "stdout",
     "output_type": "stream",
     "text": [
      "torch.Size([32, 80, 512]) torch.Size([1, 80, 512])\n",
      "torch.Size([32, 80, 512]) torch.Size([1, 80, 512])\n",
      "torch.Size([32, 80, 512]) torch.Size([1, 80, 512])\n",
      "torch.Size([32, 80, 512]) torch.Size([1, 80, 512])\n"
     ]
    },
    {
     "name": "stderr",
     "output_type": "stream",
     "text": [
      "Processing Epoch 01:  64%|██████▍   | 3650/5717 [09:37<05:35,  6.17it/s, loss=2.141]"
     ]
    },
    {
     "name": "stdout",
     "output_type": "stream",
     "text": [
      "torch.Size([32, 80, 512]) torch.Size([1, 80, 512])\n",
      "torch.Size([32, 80, 512]) torch.Size([1, 80, 512])\n",
      "torch.Size([32, 80, 512]) torch.Size([1, 80, 512])\n",
      "torch.Size([32, 80, 512]) torch.Size([1, 80, 512])\n"
     ]
    },
    {
     "name": "stderr",
     "output_type": "stream",
     "text": [
      "Processing Epoch 01:  64%|██████▍   | 3652/5717 [09:38<05:23,  6.39it/s, loss=1.734]"
     ]
    },
    {
     "name": "stdout",
     "output_type": "stream",
     "text": [
      "torch.Size([32, 80, 512]) torch.Size([1, 80, 512])\n",
      "torch.Size([32, 80, 512]) torch.Size([1, 80, 512])\n",
      "torch.Size([32, 80, 512]) torch.Size([1, 80, 512])\n",
      "torch.Size([32, 80, 512]) torch.Size([1, 80, 512])\n"
     ]
    },
    {
     "name": "stderr",
     "output_type": "stream",
     "text": [
      "Processing Epoch 01:  64%|██████▍   | 3654/5717 [09:38<05:24,  6.35it/s, loss=1.899]"
     ]
    },
    {
     "name": "stdout",
     "output_type": "stream",
     "text": [
      "torch.Size([32, 80, 512]) torch.Size([1, 80, 512])\n",
      "torch.Size([32, 80, 512]) torch.Size([1, 80, 512])\n",
      "torch.Size([32, 80, 512]) torch.Size([1, 80, 512])\n",
      "torch.Size([32, 80, 512]) torch.Size([1, 80, 512])\n"
     ]
    },
    {
     "name": "stderr",
     "output_type": "stream",
     "text": [
      "Processing Epoch 01:  64%|██████▍   | 3656/5717 [09:38<05:40,  6.06it/s, loss=2.022]"
     ]
    },
    {
     "name": "stdout",
     "output_type": "stream",
     "text": [
      "torch.Size([32, 80, 512]) torch.Size([1, 80, 512])\n",
      "torch.Size([32, 80, 512]) torch.Size([1, 80, 512])\n",
      "torch.Size([32, 80, 512]) torch.Size([1, 80, 512])\n",
      "torch.Size([32, 80, 512]) torch.Size([1, 80, 512])\n"
     ]
    },
    {
     "name": "stderr",
     "output_type": "stream",
     "text": [
      "Processing Epoch 01:  64%|██████▍   | 3658/5717 [09:39<05:41,  6.04it/s, loss=2.176]"
     ]
    },
    {
     "name": "stdout",
     "output_type": "stream",
     "text": [
      "torch.Size([32, 80, 512]) torch.Size([1, 80, 512])\n",
      "torch.Size([32, 80, 512]) torch.Size([1, 80, 512])\n",
      "torch.Size([32, 80, 512]) torch.Size([1, 80, 512])\n",
      "torch.Size([32, 80, 512]) torch.Size([1, 80, 512])\n"
     ]
    },
    {
     "name": "stderr",
     "output_type": "stream",
     "text": [
      "Processing Epoch 01:  64%|██████▍   | 3660/5717 [09:39<05:26,  6.30it/s, loss=2.056]"
     ]
    },
    {
     "name": "stdout",
     "output_type": "stream",
     "text": [
      "torch.Size([32, 80, 512]) torch.Size([1, 80, 512])\n",
      "torch.Size([32, 80, 512]) torch.Size([1, 80, 512])\n",
      "torch.Size([32, 80, 512]) torch.Size([1, 80, 512])\n",
      "torch.Size([32, 80, 512]) torch.Size([1, 80, 512])\n"
     ]
    },
    {
     "name": "stderr",
     "output_type": "stream",
     "text": [
      "Processing Epoch 01:  64%|██████▍   | 3662/5717 [09:39<05:30,  6.22it/s, loss=1.935]"
     ]
    },
    {
     "name": "stdout",
     "output_type": "stream",
     "text": [
      "torch.Size([32, 80, 512]) torch.Size([1, 80, 512])\n",
      "torch.Size([32, 80, 512]) torch.Size([1, 80, 512])\n",
      "torch.Size([32, 80, 512]) torch.Size([1, 80, 512])\n",
      "torch.Size([32, 80, 512]) torch.Size([1, 80, 512])\n"
     ]
    },
    {
     "name": "stderr",
     "output_type": "stream",
     "text": [
      "Processing Epoch 01:  64%|██████▍   | 3664/5717 [09:40<05:20,  6.40it/s, loss=2.115]"
     ]
    },
    {
     "name": "stdout",
     "output_type": "stream",
     "text": [
      "torch.Size([32, 80, 512]) torch.Size([1, 80, 512])\n",
      "torch.Size([32, 80, 512]) torch.Size([1, 80, 512])\n",
      "torch.Size([32, 80, 512]) torch.Size([1, 80, 512])\n",
      "torch.Size([32, 80, 512]) torch.Size([1, 80, 512])\n"
     ]
    },
    {
     "name": "stderr",
     "output_type": "stream",
     "text": [
      "Processing Epoch 01:  64%|██████▍   | 3666/5717 [09:40<05:27,  6.25it/s, loss=2.186]"
     ]
    },
    {
     "name": "stdout",
     "output_type": "stream",
     "text": [
      "torch.Size([32, 80, 512]) torch.Size([1, 80, 512])\n",
      "torch.Size([32, 80, 512]) torch.Size([1, 80, 512])\n",
      "torch.Size([32, 80, 512]) torch.Size([1, 80, 512])\n",
      "torch.Size([32, 80, 512]) torch.Size([1, 80, 512])\n"
     ]
    },
    {
     "name": "stderr",
     "output_type": "stream",
     "text": [
      "Processing Epoch 01:  64%|██████▍   | 3668/5717 [09:40<05:29,  6.22it/s, loss=1.961]"
     ]
    },
    {
     "name": "stdout",
     "output_type": "stream",
     "text": [
      "torch.Size([32, 80, 512]) torch.Size([1, 80, 512])\n",
      "torch.Size([32, 80, 512]) torch.Size([1, 80, 512])\n",
      "torch.Size([32, 80, 512]) torch.Size([1, 80, 512])\n",
      "torch.Size([32, 80, 512]) torch.Size([1, 80, 512])\n"
     ]
    },
    {
     "name": "stderr",
     "output_type": "stream",
     "text": [
      "Processing Epoch 01:  64%|██████▍   | 3670/5717 [09:41<05:18,  6.43it/s, loss=2.173]"
     ]
    },
    {
     "name": "stdout",
     "output_type": "stream",
     "text": [
      "torch.Size([32, 80, 512]) torch.Size([1, 80, 512])\n",
      "torch.Size([32, 80, 512]) torch.Size([1, 80, 512])\n",
      "torch.Size([32, 80, 512]) torch.Size([1, 80, 512])\n",
      "torch.Size([32, 80, 512]) torch.Size([1, 80, 512])\n"
     ]
    },
    {
     "name": "stderr",
     "output_type": "stream",
     "text": [
      "Processing Epoch 01:  64%|██████▍   | 3672/5717 [09:41<05:25,  6.28it/s, loss=2.065]"
     ]
    },
    {
     "name": "stdout",
     "output_type": "stream",
     "text": [
      "torch.Size([32, 80, 512]) torch.Size([1, 80, 512])\n",
      "torch.Size([32, 80, 512]) torch.Size([1, 80, 512])\n",
      "torch.Size([32, 80, 512]) torch.Size([1, 80, 512])\n",
      "torch.Size([32, 80, 512]) torch.Size([1, 80, 512])\n"
     ]
    },
    {
     "name": "stderr",
     "output_type": "stream",
     "text": [
      "Processing Epoch 01:  64%|██████▍   | 3674/5717 [09:41<05:23,  6.31it/s, loss=2.131]"
     ]
    },
    {
     "name": "stdout",
     "output_type": "stream",
     "text": [
      "torch.Size([32, 80, 512]) torch.Size([1, 80, 512])\n",
      "torch.Size([32, 80, 512]) torch.Size([1, 80, 512])\n",
      "torch.Size([32, 80, 512]) torch.Size([1, 80, 512])\n",
      "torch.Size([32, 80, 512]) torch.Size([1, 80, 512])\n"
     ]
    },
    {
     "name": "stderr",
     "output_type": "stream",
     "text": [
      "Processing Epoch 01:  64%|██████▍   | 3676/5717 [09:42<05:32,  6.15it/s, loss=2.119]"
     ]
    },
    {
     "name": "stdout",
     "output_type": "stream",
     "text": [
      "torch.Size([32, 80, 512]) torch.Size([1, 80, 512])\n",
      "torch.Size([32, 80, 512]) torch.Size([1, 80, 512])\n",
      "torch.Size([32, 80, 512]) torch.Size([1, 80, 512])\n",
      "torch.Size([32, 80, 512]) torch.Size([1, 80, 512])\n"
     ]
    },
    {
     "name": "stderr",
     "output_type": "stream",
     "text": [
      "Processing Epoch 01:  64%|██████▍   | 3678/5717 [09:42<05:27,  6.23it/s, loss=1.951]"
     ]
    },
    {
     "name": "stdout",
     "output_type": "stream",
     "text": [
      "torch.Size([32, 80, 512]) torch.Size([1, 80, 512])\n",
      "torch.Size([32, 80, 512]) torch.Size([1, 80, 512])\n",
      "torch.Size([32, 80, 512]) torch.Size([1, 80, 512])\n",
      "torch.Size([32, 80, 512]) torch.Size([1, 80, 512])\n"
     ]
    },
    {
     "name": "stderr",
     "output_type": "stream",
     "text": [
      "Processing Epoch 01:  64%|██████▍   | 3680/5717 [09:42<05:31,  6.14it/s, loss=1.920]"
     ]
    },
    {
     "name": "stdout",
     "output_type": "stream",
     "text": [
      "torch.Size([32, 80, 512]) torch.Size([1, 80, 512])\n",
      "torch.Size([32, 80, 512]) torch.Size([1, 80, 512])\n",
      "torch.Size([32, 80, 512]) torch.Size([1, 80, 512])\n",
      "torch.Size([32, 80, 512]) torch.Size([1, 80, 512])\n"
     ]
    },
    {
     "name": "stderr",
     "output_type": "stream",
     "text": [
      "Processing Epoch 01:  64%|██████▍   | 3682/5717 [09:43<05:24,  6.26it/s, loss=1.961]"
     ]
    },
    {
     "name": "stdout",
     "output_type": "stream",
     "text": [
      "torch.Size([32, 80, 512]) torch.Size([1, 80, 512])\n",
      "torch.Size([32, 80, 512]) torch.Size([1, 80, 512])\n",
      "torch.Size([32, 80, 512]) torch.Size([1, 80, 512])\n",
      "torch.Size([32, 80, 512]) torch.Size([1, 80, 512])\n"
     ]
    },
    {
     "name": "stderr",
     "output_type": "stream",
     "text": [
      "Processing Epoch 01:  64%|██████▍   | 3684/5717 [09:43<05:25,  6.24it/s, loss=1.792]"
     ]
    },
    {
     "name": "stdout",
     "output_type": "stream",
     "text": [
      "torch.Size([32, 80, 512]) torch.Size([1, 80, 512])\n",
      "torch.Size([32, 80, 512]) torch.Size([1, 80, 512])\n",
      "torch.Size([32, 80, 512]) torch.Size([1, 80, 512])\n",
      "torch.Size([32, 80, 512]) torch.Size([1, 80, 512])\n"
     ]
    },
    {
     "name": "stderr",
     "output_type": "stream",
     "text": [
      "Processing Epoch 01:  64%|██████▍   | 3686/5717 [09:43<05:30,  6.15it/s, loss=2.028]"
     ]
    },
    {
     "name": "stdout",
     "output_type": "stream",
     "text": [
      "torch.Size([32, 80, 512]) torch.Size([1, 80, 512])\n",
      "torch.Size([32, 80, 512]) torch.Size([1, 80, 512])\n",
      "torch.Size([32, 80, 512]) torch.Size([1, 80, 512])\n",
      "torch.Size([32, 80, 512]) torch.Size([1, 80, 512])\n"
     ]
    },
    {
     "name": "stderr",
     "output_type": "stream",
     "text": [
      "Processing Epoch 01:  65%|██████▍   | 3688/5717 [09:44<05:27,  6.19it/s, loss=1.827]"
     ]
    },
    {
     "name": "stdout",
     "output_type": "stream",
     "text": [
      "torch.Size([32, 80, 512]) torch.Size([1, 80, 512])\n",
      "torch.Size([32, 80, 512]) torch.Size([1, 80, 512])\n",
      "torch.Size([32, 80, 512]) torch.Size([1, 80, 512])\n",
      "torch.Size([32, 80, 512]) torch.Size([1, 80, 512])\n"
     ]
    },
    {
     "name": "stderr",
     "output_type": "stream",
     "text": [
      "Processing Epoch 01:  65%|██████▍   | 3690/5717 [09:44<05:35,  6.05it/s, loss=1.866]"
     ]
    },
    {
     "name": "stdout",
     "output_type": "stream",
     "text": [
      "torch.Size([32, 80, 512]) torch.Size([1, 80, 512])\n",
      "torch.Size([32, 80, 512]) torch.Size([1, 80, 512])\n",
      "torch.Size([32, 80, 512]) torch.Size([1, 80, 512])\n",
      "torch.Size([32, 80, 512]) torch.Size([1, 80, 512])\n"
     ]
    },
    {
     "name": "stderr",
     "output_type": "stream",
     "text": [
      "Processing Epoch 01:  65%|██████▍   | 3692/5717 [09:44<05:28,  6.17it/s, loss=2.133]"
     ]
    },
    {
     "name": "stdout",
     "output_type": "stream",
     "text": [
      "torch.Size([32, 80, 512]) torch.Size([1, 80, 512])\n",
      "torch.Size([32, 80, 512]) torch.Size([1, 80, 512])\n",
      "torch.Size([32, 80, 512]) torch.Size([1, 80, 512])\n",
      "torch.Size([32, 80, 512]) torch.Size([1, 80, 512])\n"
     ]
    },
    {
     "name": "stderr",
     "output_type": "stream",
     "text": [
      "Processing Epoch 01:  65%|██████▍   | 3694/5717 [09:44<05:21,  6.28it/s, loss=2.225]"
     ]
    },
    {
     "name": "stdout",
     "output_type": "stream",
     "text": [
      "torch.Size([32, 80, 512]) torch.Size([1, 80, 512])\n",
      "torch.Size([32, 80, 512]) torch.Size([1, 80, 512])\n",
      "torch.Size([32, 80, 512]) torch.Size([1, 80, 512])\n",
      "torch.Size([32, 80, 512]) torch.Size([1, 80, 512])\n"
     ]
    },
    {
     "name": "stderr",
     "output_type": "stream",
     "text": [
      "Processing Epoch 01:  65%|██████▍   | 3696/5717 [09:45<05:17,  6.37it/s, loss=2.274]"
     ]
    },
    {
     "name": "stdout",
     "output_type": "stream",
     "text": [
      "torch.Size([32, 80, 512]) torch.Size([1, 80, 512])\n",
      "torch.Size([32, 80, 512]) torch.Size([1, 80, 512])\n",
      "torch.Size([32, 80, 512]) torch.Size([1, 80, 512])\n",
      "torch.Size([32, 80, 512]) torch.Size([1, 80, 512])\n"
     ]
    },
    {
     "name": "stderr",
     "output_type": "stream",
     "text": [
      "Processing Epoch 01:  65%|██████▍   | 3698/5717 [09:45<05:15,  6.40it/s, loss=2.047]"
     ]
    },
    {
     "name": "stdout",
     "output_type": "stream",
     "text": [
      "torch.Size([32, 80, 512]) torch.Size([1, 80, 512])\n",
      "torch.Size([32, 80, 512]) torch.Size([1, 80, 512])\n",
      "torch.Size([32, 80, 512]) torch.Size([1, 80, 512])\n",
      "torch.Size([32, 80, 512]) torch.Size([1, 80, 512])\n"
     ]
    },
    {
     "name": "stderr",
     "output_type": "stream",
     "text": [
      "Processing Epoch 01:  65%|██████▍   | 3700/5717 [09:45<05:23,  6.23it/s, loss=2.038]"
     ]
    },
    {
     "name": "stdout",
     "output_type": "stream",
     "text": [
      "torch.Size([32, 80, 512]) torch.Size([1, 80, 512])\n",
      "torch.Size([32, 80, 512]) torch.Size([1, 80, 512])\n",
      "torch.Size([32, 80, 512]) torch.Size([1, 80, 512])\n",
      "torch.Size([32, 80, 512]) torch.Size([1, 80, 512])\n"
     ]
    },
    {
     "name": "stderr",
     "output_type": "stream",
     "text": [
      "Processing Epoch 01:  65%|██████▍   | 3702/5717 [09:46<05:23,  6.24it/s, loss=2.292]"
     ]
    },
    {
     "name": "stdout",
     "output_type": "stream",
     "text": [
      "torch.Size([32, 80, 512]) torch.Size([1, 80, 512])\n",
      "torch.Size([32, 80, 512]) torch.Size([1, 80, 512])\n",
      "torch.Size([32, 80, 512]) torch.Size([1, 80, 512])\n",
      "torch.Size([32, 80, 512]) torch.Size([1, 80, 512])\n"
     ]
    },
    {
     "name": "stderr",
     "output_type": "stream",
     "text": [
      "Processing Epoch 01:  65%|██████▍   | 3704/5717 [09:46<05:18,  6.32it/s, loss=2.183]"
     ]
    },
    {
     "name": "stdout",
     "output_type": "stream",
     "text": [
      "torch.Size([32, 80, 512]) torch.Size([1, 80, 512])\n",
      "torch.Size([32, 80, 512]) torch.Size([1, 80, 512])\n",
      "torch.Size([32, 80, 512]) torch.Size([1, 80, 512])\n",
      "torch.Size([32, 80, 512]) torch.Size([1, 80, 512])\n"
     ]
    },
    {
     "name": "stderr",
     "output_type": "stream",
     "text": [
      "Processing Epoch 01:  65%|██████▍   | 3706/5717 [09:46<05:21,  6.26it/s, loss=2.054]"
     ]
    },
    {
     "name": "stdout",
     "output_type": "stream",
     "text": [
      "torch.Size([32, 80, 512]) torch.Size([1, 80, 512])\n",
      "torch.Size([32, 80, 512]) torch.Size([1, 80, 512])\n",
      "torch.Size([32, 80, 512]) torch.Size([1, 80, 512])\n",
      "torch.Size([32, 80, 512]) torch.Size([1, 80, 512])\n"
     ]
    },
    {
     "name": "stderr",
     "output_type": "stream",
     "text": [
      "Processing Epoch 01:  65%|██████▍   | 3708/5717 [09:47<05:15,  6.36it/s, loss=2.263]"
     ]
    },
    {
     "name": "stdout",
     "output_type": "stream",
     "text": [
      "torch.Size([32, 80, 512]) torch.Size([1, 80, 512])\n",
      "torch.Size([32, 80, 512]) torch.Size([1, 80, 512])\n",
      "torch.Size([32, 80, 512]) torch.Size([1, 80, 512])\n",
      "torch.Size([32, 80, 512]) torch.Size([1, 80, 512])\n"
     ]
    },
    {
     "name": "stderr",
     "output_type": "stream",
     "text": [
      "Processing Epoch 01:  65%|██████▍   | 3710/5717 [09:47<05:25,  6.16it/s, loss=1.912]"
     ]
    },
    {
     "name": "stdout",
     "output_type": "stream",
     "text": [
      "torch.Size([32, 80, 512]) torch.Size([1, 80, 512])\n",
      "torch.Size([32, 80, 512]) torch.Size([1, 80, 512])\n",
      "torch.Size([32, 80, 512]) torch.Size([1, 80, 512])\n",
      "torch.Size([32, 80, 512]) torch.Size([1, 80, 512])\n"
     ]
    },
    {
     "name": "stderr",
     "output_type": "stream",
     "text": [
      "Processing Epoch 01:  65%|██████▍   | 3712/5717 [09:47<05:16,  6.34it/s, loss=2.083]"
     ]
    },
    {
     "name": "stdout",
     "output_type": "stream",
     "text": [
      "torch.Size([32, 80, 512]) torch.Size([1, 80, 512])\n",
      "torch.Size([32, 80, 512]) torch.Size([1, 80, 512])\n",
      "torch.Size([32, 80, 512]) torch.Size([1, 80, 512])\n",
      "torch.Size([32, 80, 512]) torch.Size([1, 80, 512])\n"
     ]
    },
    {
     "name": "stderr",
     "output_type": "stream",
     "text": [
      "Processing Epoch 01:  65%|██████▍   | 3714/5717 [09:48<05:17,  6.30it/s, loss=1.985]"
     ]
    },
    {
     "name": "stdout",
     "output_type": "stream",
     "text": [
      "torch.Size([32, 80, 512]) torch.Size([1, 80, 512])\n",
      "torch.Size([32, 80, 512]) torch.Size([1, 80, 512])\n",
      "torch.Size([32, 80, 512]) torch.Size([1, 80, 512])\n",
      "torch.Size([32, 80, 512]) torch.Size([1, 80, 512])\n"
     ]
    },
    {
     "name": "stderr",
     "output_type": "stream",
     "text": [
      "Processing Epoch 01:  65%|██████▍   | 3716/5717 [09:48<05:18,  6.29it/s, loss=1.946]"
     ]
    },
    {
     "name": "stdout",
     "output_type": "stream",
     "text": [
      "torch.Size([32, 80, 512]) torch.Size([1, 80, 512])\n",
      "torch.Size([32, 80, 512]) torch.Size([1, 80, 512])\n",
      "torch.Size([32, 80, 512]) torch.Size([1, 80, 512])\n",
      "torch.Size([32, 80, 512]) torch.Size([1, 80, 512])\n"
     ]
    },
    {
     "name": "stderr",
     "output_type": "stream",
     "text": [
      "Processing Epoch 01:  65%|██████▌   | 3718/5717 [09:48<05:19,  6.26it/s, loss=2.049]"
     ]
    },
    {
     "name": "stdout",
     "output_type": "stream",
     "text": [
      "torch.Size([32, 80, 512]) torch.Size([1, 80, 512])\n",
      "torch.Size([32, 80, 512]) torch.Size([1, 80, 512])\n",
      "torch.Size([32, 80, 512]) torch.Size([1, 80, 512])\n",
      "torch.Size([32, 80, 512]) torch.Size([1, 80, 512])\n"
     ]
    },
    {
     "name": "stderr",
     "output_type": "stream",
     "text": [
      "Processing Epoch 01:  65%|██████▌   | 3720/5717 [09:49<05:12,  6.40it/s, loss=1.926]"
     ]
    },
    {
     "name": "stdout",
     "output_type": "stream",
     "text": [
      "torch.Size([32, 80, 512]) torch.Size([1, 80, 512])\n",
      "torch.Size([32, 80, 512]) torch.Size([1, 80, 512])\n",
      "torch.Size([32, 80, 512]) torch.Size([1, 80, 512])\n",
      "torch.Size([32, 80, 512]) torch.Size([1, 80, 512])\n"
     ]
    },
    {
     "name": "stderr",
     "output_type": "stream",
     "text": [
      "Processing Epoch 01:  65%|██████▌   | 3722/5717 [09:49<05:14,  6.33it/s, loss=2.049]"
     ]
    },
    {
     "name": "stdout",
     "output_type": "stream",
     "text": [
      "torch.Size([32, 80, 512]) torch.Size([1, 80, 512])\n",
      "torch.Size([32, 80, 512]) torch.Size([1, 80, 512])\n",
      "torch.Size([32, 80, 512]) torch.Size([1, 80, 512])\n",
      "torch.Size([32, 80, 512]) torch.Size([1, 80, 512])\n"
     ]
    },
    {
     "name": "stderr",
     "output_type": "stream",
     "text": [
      "Processing Epoch 01:  65%|██████▌   | 3724/5717 [09:49<05:15,  6.31it/s, loss=2.258]"
     ]
    },
    {
     "name": "stdout",
     "output_type": "stream",
     "text": [
      "torch.Size([32, 80, 512]) torch.Size([1, 80, 512])\n",
      "torch.Size([32, 80, 512]) torch.Size([1, 80, 512])\n",
      "torch.Size([32, 80, 512]) torch.Size([1, 80, 512])\n",
      "torch.Size([32, 80, 512]) torch.Size([1, 80, 512])\n"
     ]
    },
    {
     "name": "stderr",
     "output_type": "stream",
     "text": [
      "Processing Epoch 01:  65%|██████▌   | 3726/5717 [09:50<05:37,  5.90it/s, loss=1.996]"
     ]
    },
    {
     "name": "stdout",
     "output_type": "stream",
     "text": [
      "torch.Size([32, 80, 512]) torch.Size([1, 80, 512])\n",
      "torch.Size([32, 80, 512]) torch.Size([1, 80, 512])\n",
      "torch.Size([32, 80, 512]) torch.Size([1, 80, 512])\n",
      "torch.Size([32, 80, 512]) torch.Size([1, 80, 512])\n"
     ]
    },
    {
     "name": "stderr",
     "output_type": "stream",
     "text": [
      "Processing Epoch 01:  65%|██████▌   | 3728/5717 [09:50<05:32,  5.98it/s, loss=2.107]"
     ]
    },
    {
     "name": "stdout",
     "output_type": "stream",
     "text": [
      "torch.Size([32, 80, 512]) torch.Size([1, 80, 512])\n",
      "torch.Size([32, 80, 512]) torch.Size([1, 80, 512])\n",
      "torch.Size([32, 80, 512]) torch.Size([1, 80, 512])\n",
      "torch.Size([32, 80, 512]) torch.Size([1, 80, 512])\n"
     ]
    },
    {
     "name": "stderr",
     "output_type": "stream",
     "text": [
      "Processing Epoch 01:  65%|██████▌   | 3730/5717 [09:50<05:17,  6.25it/s, loss=2.121]"
     ]
    },
    {
     "name": "stdout",
     "output_type": "stream",
     "text": [
      "torch.Size([32, 80, 512]) torch.Size([1, 80, 512])\n",
      "torch.Size([32, 80, 512]) torch.Size([1, 80, 512])\n",
      "torch.Size([32, 80, 512]) torch.Size([1, 80, 512])\n",
      "torch.Size([32, 80, 512]) torch.Size([1, 80, 512])\n"
     ]
    },
    {
     "name": "stderr",
     "output_type": "stream",
     "text": [
      "Processing Epoch 01:  65%|██████▌   | 3732/5717 [09:51<05:10,  6.39it/s, loss=1.830]"
     ]
    },
    {
     "name": "stdout",
     "output_type": "stream",
     "text": [
      "torch.Size([32, 80, 512]) torch.Size([1, 80, 512])\n",
      "torch.Size([32, 80, 512]) torch.Size([1, 80, 512])\n",
      "torch.Size([32, 80, 512]) torch.Size([1, 80, 512])\n",
      "torch.Size([32, 80, 512]) torch.Size([1, 80, 512])\n"
     ]
    },
    {
     "name": "stderr",
     "output_type": "stream",
     "text": [
      "Processing Epoch 01:  65%|██████▌   | 3734/5717 [09:51<05:16,  6.26it/s, loss=2.239]"
     ]
    },
    {
     "name": "stdout",
     "output_type": "stream",
     "text": [
      "torch.Size([32, 80, 512]) torch.Size([1, 80, 512])\n",
      "torch.Size([32, 80, 512]) torch.Size([1, 80, 512])\n",
      "torch.Size([32, 80, 512]) torch.Size([1, 80, 512])\n",
      "torch.Size([32, 80, 512]) torch.Size([1, 80, 512])\n"
     ]
    },
    {
     "name": "stderr",
     "output_type": "stream",
     "text": [
      "Processing Epoch 01:  65%|██████▌   | 3736/5717 [09:51<05:20,  6.18it/s, loss=1.852]"
     ]
    },
    {
     "name": "stdout",
     "output_type": "stream",
     "text": [
      "torch.Size([32, 80, 512]) torch.Size([1, 80, 512])\n",
      "torch.Size([32, 80, 512]) torch.Size([1, 80, 512])\n",
      "torch.Size([32, 80, 512]) torch.Size([1, 80, 512])\n",
      "torch.Size([32, 80, 512]) torch.Size([1, 80, 512])\n"
     ]
    },
    {
     "name": "stderr",
     "output_type": "stream",
     "text": [
      "Processing Epoch 01:  65%|██████▌   | 3738/5717 [09:51<05:10,  6.36it/s, loss=2.041]"
     ]
    },
    {
     "name": "stdout",
     "output_type": "stream",
     "text": [
      "torch.Size([32, 80, 512]) torch.Size([1, 80, 512])\n",
      "torch.Size([32, 80, 512]) torch.Size([1, 80, 512])\n",
      "torch.Size([32, 80, 512]) torch.Size([1, 80, 512])\n",
      "torch.Size([32, 80, 512]) torch.Size([1, 80, 512])\n"
     ]
    },
    {
     "name": "stderr",
     "output_type": "stream",
     "text": [
      "Processing Epoch 01:  65%|██████▌   | 3740/5717 [09:52<05:10,  6.37it/s, loss=2.045]"
     ]
    },
    {
     "name": "stdout",
     "output_type": "stream",
     "text": [
      "torch.Size([32, 80, 512]) torch.Size([1, 80, 512])\n",
      "torch.Size([32, 80, 512]) torch.Size([1, 80, 512])\n",
      "torch.Size([32, 80, 512]) torch.Size([1, 80, 512])\n",
      "torch.Size([32, 80, 512]) torch.Size([1, 80, 512])\n"
     ]
    },
    {
     "name": "stderr",
     "output_type": "stream",
     "text": [
      "Processing Epoch 01:  65%|██████▌   | 3742/5717 [09:52<05:13,  6.30it/s, loss=2.089]"
     ]
    },
    {
     "name": "stdout",
     "output_type": "stream",
     "text": [
      "torch.Size([32, 80, 512]) torch.Size([1, 80, 512])\n",
      "torch.Size([32, 80, 512]) torch.Size([1, 80, 512])\n",
      "torch.Size([32, 80, 512]) torch.Size([1, 80, 512])\n",
      "torch.Size([32, 80, 512]) torch.Size([1, 80, 512])\n"
     ]
    },
    {
     "name": "stderr",
     "output_type": "stream",
     "text": [
      "Processing Epoch 01:  65%|██████▌   | 3744/5717 [09:52<05:19,  6.18it/s, loss=2.086]"
     ]
    },
    {
     "name": "stdout",
     "output_type": "stream",
     "text": [
      "torch.Size([32, 80, 512]) torch.Size([1, 80, 512])\n",
      "torch.Size([32, 80, 512]) torch.Size([1, 80, 512])\n",
      "torch.Size([32, 80, 512]) torch.Size([1, 80, 512])\n",
      "torch.Size([32, 80, 512]) torch.Size([1, 80, 512])\n"
     ]
    },
    {
     "name": "stderr",
     "output_type": "stream",
     "text": [
      "Processing Epoch 01:  66%|██████▌   | 3746/5717 [09:53<05:11,  6.32it/s, loss=1.795]"
     ]
    },
    {
     "name": "stdout",
     "output_type": "stream",
     "text": [
      "torch.Size([32, 80, 512]) torch.Size([1, 80, 512])\n",
      "torch.Size([32, 80, 512]) torch.Size([1, 80, 512])\n",
      "torch.Size([32, 80, 512]) torch.Size([1, 80, 512])\n",
      "torch.Size([32, 80, 512]) torch.Size([1, 80, 512])\n"
     ]
    },
    {
     "name": "stderr",
     "output_type": "stream",
     "text": [
      "Processing Epoch 01:  66%|██████▌   | 3748/5717 [09:53<05:09,  6.35it/s, loss=2.140]"
     ]
    },
    {
     "name": "stdout",
     "output_type": "stream",
     "text": [
      "torch.Size([32, 80, 512]) torch.Size([1, 80, 512])\n",
      "torch.Size([32, 80, 512]) torch.Size([1, 80, 512])\n",
      "torch.Size([32, 80, 512]) torch.Size([1, 80, 512])\n",
      "torch.Size([32, 80, 512]) torch.Size([1, 80, 512])\n"
     ]
    },
    {
     "name": "stderr",
     "output_type": "stream",
     "text": [
      "Processing Epoch 01:  66%|██████▌   | 3750/5717 [09:53<05:12,  6.30it/s, loss=2.026]"
     ]
    },
    {
     "name": "stdout",
     "output_type": "stream",
     "text": [
      "torch.Size([32, 80, 512]) torch.Size([1, 80, 512])\n",
      "torch.Size([32, 80, 512]) torch.Size([1, 80, 512])\n",
      "torch.Size([32, 80, 512]) torch.Size([1, 80, 512])\n",
      "torch.Size([32, 80, 512]) torch.Size([1, 80, 512])\n"
     ]
    },
    {
     "name": "stderr",
     "output_type": "stream",
     "text": [
      "Processing Epoch 01:  66%|██████▌   | 3752/5717 [09:54<05:06,  6.40it/s, loss=2.344]"
     ]
    },
    {
     "name": "stdout",
     "output_type": "stream",
     "text": [
      "torch.Size([32, 80, 512]) torch.Size([1, 80, 512])\n",
      "torch.Size([32, 80, 512]) torch.Size([1, 80, 512])\n",
      "torch.Size([32, 80, 512]) torch.Size([1, 80, 512])\n",
      "torch.Size([32, 80, 512]) torch.Size([1, 80, 512])\n"
     ]
    },
    {
     "name": "stderr",
     "output_type": "stream",
     "text": [
      "Processing Epoch 01:  66%|██████▌   | 3754/5717 [09:54<05:01,  6.50it/s, loss=2.323]"
     ]
    },
    {
     "name": "stdout",
     "output_type": "stream",
     "text": [
      "torch.Size([32, 80, 512]) torch.Size([1, 80, 512])\n",
      "torch.Size([32, 80, 512]) torch.Size([1, 80, 512])\n",
      "torch.Size([32, 80, 512]) torch.Size([1, 80, 512])\n",
      "torch.Size([32, 80, 512]) torch.Size([1, 80, 512])\n"
     ]
    },
    {
     "name": "stderr",
     "output_type": "stream",
     "text": [
      "Processing Epoch 01:  66%|██████▌   | 3756/5717 [09:54<05:19,  6.15it/s, loss=1.969]"
     ]
    },
    {
     "name": "stdout",
     "output_type": "stream",
     "text": [
      "torch.Size([32, 80, 512]) torch.Size([1, 80, 512])\n",
      "torch.Size([32, 80, 512]) torch.Size([1, 80, 512])\n",
      "torch.Size([32, 80, 512]) torch.Size([1, 80, 512])\n",
      "torch.Size([32, 80, 512]) torch.Size([1, 80, 512])\n"
     ]
    },
    {
     "name": "stderr",
     "output_type": "stream",
     "text": [
      "Processing Epoch 01:  66%|██████▌   | 3758/5717 [09:55<04:59,  6.54it/s, loss=1.815]"
     ]
    },
    {
     "name": "stdout",
     "output_type": "stream",
     "text": [
      "torch.Size([32, 80, 512]) torch.Size([1, 80, 512])\n",
      "torch.Size([32, 80, 512]) torch.Size([1, 80, 512])\n",
      "torch.Size([32, 80, 512]) torch.Size([1, 80, 512])\n",
      "torch.Size([32, 80, 512]) torch.Size([1, 80, 512])\n"
     ]
    },
    {
     "name": "stderr",
     "output_type": "stream",
     "text": [
      "Processing Epoch 01:  66%|██████▌   | 3760/5717 [09:55<05:19,  6.13it/s, loss=2.206]"
     ]
    },
    {
     "name": "stdout",
     "output_type": "stream",
     "text": [
      "torch.Size([32, 80, 512]) torch.Size([1, 80, 512])\n",
      "torch.Size([32, 80, 512]) torch.Size([1, 80, 512])\n",
      "torch.Size([32, 80, 512]) torch.Size([1, 80, 512])\n",
      "torch.Size([32, 80, 512]) torch.Size([1, 80, 512])\n"
     ]
    },
    {
     "name": "stderr",
     "output_type": "stream",
     "text": [
      "Processing Epoch 01:  66%|██████▌   | 3762/5717 [09:55<05:02,  6.47it/s, loss=2.039]"
     ]
    },
    {
     "name": "stdout",
     "output_type": "stream",
     "text": [
      "torch.Size([32, 80, 512]) torch.Size([1, 80, 512])\n",
      "torch.Size([32, 80, 512]) torch.Size([1, 80, 512])\n",
      "torch.Size([32, 80, 512]) torch.Size([1, 80, 512])\n",
      "torch.Size([32, 80, 512]) torch.Size([1, 80, 512])\n"
     ]
    },
    {
     "name": "stderr",
     "output_type": "stream",
     "text": [
      "Processing Epoch 01:  66%|██████▌   | 3764/5717 [09:56<05:05,  6.38it/s, loss=2.146]"
     ]
    },
    {
     "name": "stdout",
     "output_type": "stream",
     "text": [
      "torch.Size([32, 80, 512]) torch.Size([1, 80, 512])\n",
      "torch.Size([32, 80, 512]) torch.Size([1, 80, 512])\n",
      "torch.Size([32, 80, 512]) torch.Size([1, 80, 512])\n",
      "torch.Size([32, 80, 512]) torch.Size([1, 80, 512])\n"
     ]
    },
    {
     "name": "stderr",
     "output_type": "stream",
     "text": [
      "Processing Epoch 01:  66%|██████▌   | 3766/5717 [09:56<05:03,  6.43it/s, loss=1.930]"
     ]
    },
    {
     "name": "stdout",
     "output_type": "stream",
     "text": [
      "torch.Size([32, 80, 512]) torch.Size([1, 80, 512])\n",
      "torch.Size([32, 80, 512]) torch.Size([1, 80, 512])\n",
      "torch.Size([32, 80, 512]) torch.Size([1, 80, 512])\n",
      "torch.Size([32, 80, 512]) torch.Size([1, 80, 512])\n"
     ]
    },
    {
     "name": "stderr",
     "output_type": "stream",
     "text": [
      "Processing Epoch 01:  66%|██████▌   | 3768/5717 [09:56<05:17,  6.13it/s, loss=2.019]"
     ]
    },
    {
     "name": "stdout",
     "output_type": "stream",
     "text": [
      "torch.Size([32, 80, 512]) torch.Size([1, 80, 512])\n",
      "torch.Size([32, 80, 512]) torch.Size([1, 80, 512])\n",
      "torch.Size([32, 80, 512]) torch.Size([1, 80, 512])\n",
      "torch.Size([32, 80, 512]) torch.Size([1, 80, 512])\n"
     ]
    },
    {
     "name": "stderr",
     "output_type": "stream",
     "text": [
      "Processing Epoch 01:  66%|██████▌   | 3770/5717 [09:57<05:10,  6.28it/s, loss=2.008]"
     ]
    },
    {
     "name": "stdout",
     "output_type": "stream",
     "text": [
      "torch.Size([32, 80, 512]) torch.Size([1, 80, 512])\n",
      "torch.Size([32, 80, 512]) torch.Size([1, 80, 512])\n",
      "torch.Size([32, 80, 512]) torch.Size([1, 80, 512])\n",
      "torch.Size([32, 80, 512]) torch.Size([1, 80, 512])\n"
     ]
    },
    {
     "name": "stderr",
     "output_type": "stream",
     "text": [
      "Processing Epoch 01:  66%|██████▌   | 3772/5717 [09:57<05:05,  6.36it/s, loss=2.019]"
     ]
    },
    {
     "name": "stdout",
     "output_type": "stream",
     "text": [
      "torch.Size([32, 80, 512]) torch.Size([1, 80, 512])\n",
      "torch.Size([32, 80, 512]) torch.Size([1, 80, 512])\n",
      "torch.Size([32, 80, 512]) torch.Size([1, 80, 512])\n",
      "torch.Size([32, 80, 512]) torch.Size([1, 80, 512])\n"
     ]
    },
    {
     "name": "stderr",
     "output_type": "stream",
     "text": [
      "Processing Epoch 01:  66%|██████▌   | 3774/5717 [09:57<05:00,  6.46it/s, loss=2.002]"
     ]
    },
    {
     "name": "stdout",
     "output_type": "stream",
     "text": [
      "torch.Size([32, 80, 512]) torch.Size([1, 80, 512])\n",
      "torch.Size([32, 80, 512]) torch.Size([1, 80, 512])\n",
      "torch.Size([32, 80, 512]) torch.Size([1, 80, 512])\n",
      "torch.Size([32, 80, 512]) torch.Size([1, 80, 512])\n"
     ]
    },
    {
     "name": "stderr",
     "output_type": "stream",
     "text": [
      "Processing Epoch 01:  66%|██████▌   | 3776/5717 [09:57<05:03,  6.40it/s, loss=2.189]"
     ]
    },
    {
     "name": "stdout",
     "output_type": "stream",
     "text": [
      "torch.Size([32, 80, 512]) torch.Size([1, 80, 512])\n",
      "torch.Size([32, 80, 512]) torch.Size([1, 80, 512])\n",
      "torch.Size([32, 80, 512]) torch.Size([1, 80, 512])\n",
      "torch.Size([32, 80, 512]) torch.Size([1, 80, 512])\n"
     ]
    },
    {
     "name": "stderr",
     "output_type": "stream",
     "text": [
      "Processing Epoch 01:  66%|██████▌   | 3778/5717 [09:58<05:05,  6.35it/s, loss=1.859]"
     ]
    },
    {
     "name": "stdout",
     "output_type": "stream",
     "text": [
      "torch.Size([32, 80, 512]) torch.Size([1, 80, 512])\n",
      "torch.Size([32, 80, 512]) torch.Size([1, 80, 512])\n",
      "torch.Size([32, 80, 512]) torch.Size([1, 80, 512])\n",
      "torch.Size([32, 80, 512]) torch.Size([1, 80, 512])\n"
     ]
    },
    {
     "name": "stderr",
     "output_type": "stream",
     "text": [
      "Processing Epoch 01:  66%|██████▌   | 3780/5717 [09:58<05:09,  6.26it/s, loss=2.245]"
     ]
    },
    {
     "name": "stdout",
     "output_type": "stream",
     "text": [
      "torch.Size([32, 80, 512]) torch.Size([1, 80, 512])\n",
      "torch.Size([32, 80, 512]) torch.Size([1, 80, 512])\n",
      "torch.Size([32, 80, 512]) torch.Size([1, 80, 512])\n",
      "torch.Size([32, 80, 512]) torch.Size([1, 80, 512])\n"
     ]
    },
    {
     "name": "stderr",
     "output_type": "stream",
     "text": [
      "Processing Epoch 01:  66%|██████▌   | 3782/5717 [09:58<05:20,  6.04it/s, loss=2.212]"
     ]
    },
    {
     "name": "stdout",
     "output_type": "stream",
     "text": [
      "torch.Size([32, 80, 512]) torch.Size([1, 80, 512])\n",
      "torch.Size([32, 80, 512]) torch.Size([1, 80, 512])\n",
      "torch.Size([32, 80, 512]) torch.Size([1, 80, 512])\n",
      "torch.Size([32, 80, 512]) torch.Size([1, 80, 512])\n"
     ]
    },
    {
     "name": "stderr",
     "output_type": "stream",
     "text": [
      "Processing Epoch 01:  66%|██████▌   | 3784/5717 [09:59<05:10,  6.23it/s, loss=1.876]"
     ]
    },
    {
     "name": "stdout",
     "output_type": "stream",
     "text": [
      "torch.Size([32, 80, 512]) torch.Size([1, 80, 512])\n",
      "torch.Size([32, 80, 512]) torch.Size([1, 80, 512])\n",
      "torch.Size([32, 80, 512]) torch.Size([1, 80, 512])\n",
      "torch.Size([32, 80, 512]) torch.Size([1, 80, 512])\n"
     ]
    },
    {
     "name": "stderr",
     "output_type": "stream",
     "text": [
      "Processing Epoch 01:  66%|██████▌   | 3786/5717 [09:59<05:12,  6.19it/s, loss=2.090]"
     ]
    },
    {
     "name": "stdout",
     "output_type": "stream",
     "text": [
      "torch.Size([32, 80, 512]) torch.Size([1, 80, 512])\n",
      "torch.Size([32, 80, 512]) torch.Size([1, 80, 512])\n",
      "torch.Size([32, 80, 512]) torch.Size([1, 80, 512])\n",
      "torch.Size([32, 80, 512]) torch.Size([1, 80, 512])\n"
     ]
    },
    {
     "name": "stderr",
     "output_type": "stream",
     "text": [
      "Processing Epoch 01:  66%|██████▋   | 3788/5717 [09:59<05:15,  6.12it/s, loss=2.162]"
     ]
    },
    {
     "name": "stdout",
     "output_type": "stream",
     "text": [
      "torch.Size([32, 80, 512]) torch.Size([1, 80, 512])\n",
      "torch.Size([32, 80, 512]) torch.Size([1, 80, 512])\n",
      "torch.Size([32, 80, 512]) torch.Size([1, 80, 512])\n",
      "torch.Size([32, 80, 512]) torch.Size([1, 80, 512])\n"
     ]
    },
    {
     "name": "stderr",
     "output_type": "stream",
     "text": [
      "Processing Epoch 01:  66%|██████▋   | 3790/5717 [10:00<05:12,  6.17it/s, loss=1.971]"
     ]
    },
    {
     "name": "stdout",
     "output_type": "stream",
     "text": [
      "torch.Size([32, 80, 512]) torch.Size([1, 80, 512])\n",
      "torch.Size([32, 80, 512]) torch.Size([1, 80, 512])\n",
      "torch.Size([32, 80, 512]) torch.Size([1, 80, 512])\n",
      "torch.Size([32, 80, 512]) torch.Size([1, 80, 512])\n"
     ]
    },
    {
     "name": "stderr",
     "output_type": "stream",
     "text": [
      "Processing Epoch 01:  66%|██████▋   | 3792/5717 [10:00<05:15,  6.11it/s, loss=2.344]"
     ]
    },
    {
     "name": "stdout",
     "output_type": "stream",
     "text": [
      "torch.Size([32, 80, 512]) torch.Size([1, 80, 512])\n",
      "torch.Size([32, 80, 512]) torch.Size([1, 80, 512])\n",
      "torch.Size([32, 80, 512]) torch.Size([1, 80, 512])\n",
      "torch.Size([32, 80, 512]) torch.Size([1, 80, 512])\n"
     ]
    },
    {
     "name": "stderr",
     "output_type": "stream",
     "text": [
      "Processing Epoch 01:  66%|██████▋   | 3794/5717 [10:00<05:20,  6.01it/s, loss=1.861]"
     ]
    },
    {
     "name": "stdout",
     "output_type": "stream",
     "text": [
      "torch.Size([32, 80, 512]) torch.Size([1, 80, 512])\n",
      "torch.Size([32, 80, 512]) torch.Size([1, 80, 512])\n",
      "torch.Size([32, 80, 512]) torch.Size([1, 80, 512])\n",
      "torch.Size([32, 80, 512]) torch.Size([1, 80, 512])\n"
     ]
    },
    {
     "name": "stderr",
     "output_type": "stream",
     "text": [
      "Processing Epoch 01:  66%|██████▋   | 3796/5717 [10:01<05:07,  6.25it/s, loss=1.949]"
     ]
    },
    {
     "name": "stdout",
     "output_type": "stream",
     "text": [
      "torch.Size([32, 80, 512]) torch.Size([1, 80, 512])\n",
      "torch.Size([32, 80, 512]) torch.Size([1, 80, 512])\n",
      "torch.Size([32, 80, 512]) torch.Size([1, 80, 512])\n",
      "torch.Size([32, 80, 512]) torch.Size([1, 80, 512])\n"
     ]
    },
    {
     "name": "stderr",
     "output_type": "stream",
     "text": [
      "Processing Epoch 01:  66%|██████▋   | 3798/5717 [10:01<05:14,  6.10it/s, loss=2.504]"
     ]
    },
    {
     "name": "stdout",
     "output_type": "stream",
     "text": [
      "torch.Size([32, 80, 512]) torch.Size([1, 80, 512])\n",
      "torch.Size([32, 80, 512]) torch.Size([1, 80, 512])\n",
      "torch.Size([32, 80, 512]) torch.Size([1, 80, 512])\n",
      "torch.Size([32, 80, 512]) torch.Size([1, 80, 512])\n"
     ]
    },
    {
     "name": "stderr",
     "output_type": "stream",
     "text": [
      "Processing Epoch 01:  66%|██████▋   | 3800/5717 [10:01<05:06,  6.26it/s, loss=2.153]"
     ]
    },
    {
     "name": "stdout",
     "output_type": "stream",
     "text": [
      "torch.Size([32, 80, 512]) torch.Size([1, 80, 512])\n",
      "torch.Size([32, 80, 512]) torch.Size([1, 80, 512])\n",
      "torch.Size([32, 80, 512]) torch.Size([1, 80, 512])\n",
      "torch.Size([32, 80, 512]) torch.Size([1, 80, 512])\n"
     ]
    },
    {
     "name": "stderr",
     "output_type": "stream",
     "text": [
      "Processing Epoch 01:  67%|██████▋   | 3802/5717 [10:02<05:09,  6.18it/s, loss=1.913]"
     ]
    },
    {
     "name": "stdout",
     "output_type": "stream",
     "text": [
      "torch.Size([32, 80, 512]) torch.Size([1, 80, 512])\n",
      "torch.Size([32, 80, 512]) torch.Size([1, 80, 512])\n",
      "torch.Size([32, 80, 512]) torch.Size([1, 80, 512])\n",
      "torch.Size([32, 80, 512]) torch.Size([1, 80, 512])\n"
     ]
    },
    {
     "name": "stderr",
     "output_type": "stream",
     "text": [
      "Processing Epoch 01:  67%|██████▋   | 3804/5717 [10:02<05:04,  6.28it/s, loss=2.109]"
     ]
    },
    {
     "name": "stdout",
     "output_type": "stream",
     "text": [
      "torch.Size([32, 80, 512]) torch.Size([1, 80, 512])\n",
      "torch.Size([32, 80, 512]) torch.Size([1, 80, 512])\n",
      "torch.Size([32, 80, 512]) torch.Size([1, 80, 512])\n",
      "torch.Size([32, 80, 512]) torch.Size([1, 80, 512])\n"
     ]
    },
    {
     "name": "stderr",
     "output_type": "stream",
     "text": [
      "Processing Epoch 01:  67%|██████▋   | 3806/5717 [10:02<05:18,  6.00it/s, loss=1.990]"
     ]
    },
    {
     "name": "stdout",
     "output_type": "stream",
     "text": [
      "torch.Size([32, 80, 512]) torch.Size([1, 80, 512])\n",
      "torch.Size([32, 80, 512]) torch.Size([1, 80, 512])\n",
      "torch.Size([32, 80, 512]) torch.Size([1, 80, 512])\n",
      "torch.Size([32, 80, 512]) torch.Size([1, 80, 512])\n"
     ]
    },
    {
     "name": "stderr",
     "output_type": "stream",
     "text": [
      "Processing Epoch 01:  67%|██████▋   | 3808/5717 [10:03<04:58,  6.39it/s, loss=2.062]"
     ]
    },
    {
     "name": "stdout",
     "output_type": "stream",
     "text": [
      "torch.Size([32, 80, 512]) torch.Size([1, 80, 512])\n",
      "torch.Size([32, 80, 512]) torch.Size([1, 80, 512])\n",
      "torch.Size([32, 80, 512]) torch.Size([1, 80, 512])\n",
      "torch.Size([32, 80, 512]) torch.Size([1, 80, 512])\n"
     ]
    },
    {
     "name": "stderr",
     "output_type": "stream",
     "text": [
      "Processing Epoch 01:  67%|██████▋   | 3810/5717 [10:03<05:05,  6.24it/s, loss=2.154]"
     ]
    },
    {
     "name": "stdout",
     "output_type": "stream",
     "text": [
      "torch.Size([32, 80, 512]) torch.Size([1, 80, 512])\n",
      "torch.Size([32, 80, 512]) torch.Size([1, 80, 512])\n",
      "torch.Size([32, 80, 512]) torch.Size([1, 80, 512])\n",
      "torch.Size([32, 80, 512]) torch.Size([1, 80, 512])\n"
     ]
    },
    {
     "name": "stderr",
     "output_type": "stream",
     "text": [
      "Processing Epoch 01:  67%|██████▋   | 3812/5717 [10:03<05:19,  5.97it/s, loss=2.272]"
     ]
    },
    {
     "name": "stdout",
     "output_type": "stream",
     "text": [
      "torch.Size([32, 80, 512]) torch.Size([1, 80, 512])\n",
      "torch.Size([32, 80, 512]) torch.Size([1, 80, 512])\n"
     ]
    },
    {
     "name": "stderr",
     "output_type": "stream",
     "text": [
      "Processing Epoch 01:  67%|██████▋   | 3813/5717 [10:03<05:09,  6.15it/s, loss=2.294]"
     ]
    },
    {
     "name": "stdout",
     "output_type": "stream",
     "text": [
      "torch.Size([32, 80, 512]) torch.Size([1, 80, 512])\n",
      "torch.Size([32, 80, 512]) torch.Size([1, 80, 512])\n",
      "torch.Size([32, 80, 512]) torch.Size([1, 80, 512])\n",
      "torch.Size([32, 80, 512]) torch.Size([1, 80, 512])\n"
     ]
    },
    {
     "name": "stderr",
     "output_type": "stream",
     "text": [
      "Processing Epoch 01:  67%|██████▋   | 3815/5717 [10:04<05:17,  5.99it/s, loss=1.954]"
     ]
    },
    {
     "name": "stdout",
     "output_type": "stream",
     "text": [
      "torch.Size([32, 80, 512]) torch.Size([1, 80, 512])\n",
      "torch.Size([32, 80, 512]) torch.Size([1, 80, 512])\n",
      "torch.Size([32, 80, 512]) torch.Size([1, 80, 512])\n",
      "torch.Size([32, 80, 512]) torch.Size([1, 80, 512])\n"
     ]
    },
    {
     "name": "stderr",
     "output_type": "stream",
     "text": [
      "Processing Epoch 01:  67%|██████▋   | 3817/5717 [10:04<05:11,  6.11it/s, loss=2.075]"
     ]
    },
    {
     "name": "stdout",
     "output_type": "stream",
     "text": [
      "torch.Size([32, 80, 512]) torch.Size([1, 80, 512])\n",
      "torch.Size([32, 80, 512]) torch.Size([1, 80, 512])\n",
      "torch.Size([32, 80, 512]) torch.Size([1, 80, 512])\n",
      "torch.Size([32, 80, 512]) torch.Size([1, 80, 512])\n"
     ]
    },
    {
     "name": "stderr",
     "output_type": "stream",
     "text": [
      "Processing Epoch 01:  67%|██████▋   | 3819/5717 [10:04<05:05,  6.20it/s, loss=1.994]"
     ]
    },
    {
     "name": "stdout",
     "output_type": "stream",
     "text": [
      "torch.Size([32, 80, 512]) torch.Size([1, 80, 512])\n",
      "torch.Size([32, 80, 512]) torch.Size([1, 80, 512])\n",
      "torch.Size([32, 80, 512]) torch.Size([1, 80, 512])\n",
      "torch.Size([32, 80, 512]) torch.Size([1, 80, 512])\n"
     ]
    },
    {
     "name": "stderr",
     "output_type": "stream",
     "text": [
      "Processing Epoch 01:  67%|██████▋   | 3821/5717 [10:05<05:24,  5.85it/s, loss=2.241]"
     ]
    },
    {
     "name": "stdout",
     "output_type": "stream",
     "text": [
      "torch.Size([32, 80, 512]) torch.Size([1, 80, 512])\n",
      "torch.Size([32, 80, 512]) torch.Size([1, 80, 512])\n",
      "torch.Size([32, 80, 512]) torch.Size([1, 80, 512])\n",
      "torch.Size([32, 80, 512]) torch.Size([1, 80, 512])\n"
     ]
    },
    {
     "name": "stderr",
     "output_type": "stream",
     "text": [
      "Processing Epoch 01:  67%|██████▋   | 3823/5717 [10:05<05:17,  5.97it/s, loss=1.867]"
     ]
    },
    {
     "name": "stdout",
     "output_type": "stream",
     "text": [
      "torch.Size([32, 80, 512]) torch.Size([1, 80, 512])\n",
      "torch.Size([32, 80, 512]) torch.Size([1, 80, 512])\n",
      "torch.Size([32, 80, 512]) torch.Size([1, 80, 512])\n",
      "torch.Size([32, 80, 512]) torch.Size([1, 80, 512])\n"
     ]
    },
    {
     "name": "stderr",
     "output_type": "stream",
     "text": [
      "Processing Epoch 01:  67%|██████▋   | 3825/5717 [10:06<06:18,  5.01it/s, loss=1.916]"
     ]
    },
    {
     "name": "stdout",
     "output_type": "stream",
     "text": [
      "torch.Size([32, 80, 512]) torch.Size([1, 80, 512])\n",
      "torch.Size([32, 80, 512]) torch.Size([1, 80, 512])\n",
      "torch.Size([32, 80, 512]) torch.Size([1, 80, 512])\n",
      "torch.Size([32, 80, 512]) torch.Size([1, 80, 512])\n"
     ]
    },
    {
     "name": "stderr",
     "output_type": "stream",
     "text": [
      "Processing Epoch 01:  67%|██████▋   | 3827/5717 [10:06<05:37,  5.61it/s, loss=2.035]"
     ]
    },
    {
     "name": "stdout",
     "output_type": "stream",
     "text": [
      "torch.Size([32, 80, 512]) torch.Size([1, 80, 512])\n",
      "torch.Size([32, 80, 512]) torch.Size([1, 80, 512])\n",
      "torch.Size([32, 80, 512]) torch.Size([1, 80, 512])\n",
      "torch.Size([32, 80, 512]) torch.Size([1, 80, 512])\n"
     ]
    },
    {
     "name": "stderr",
     "output_type": "stream",
     "text": [
      "Processing Epoch 01:  67%|██████▋   | 3828/5717 [10:06<05:22,  5.85it/s, loss=2.164]"
     ]
    }
   ],
   "source": [
    "from config import get_config\n",
    "cfg = get_config()\n",
    "\n",
    "from train import train_model\n",
    "train_model(cfg)"
   ]
  },
  {
   "cell_type": "code",
   "execution_count": null,
   "id": "191d9d05",
   "metadata": {},
   "outputs": [],
   "source": []
  }
 ],
 "metadata": {
  "kernelspec": {
   "display_name": "venv",
   "language": "python",
   "name": "python3"
  },
  "language_info": {
   "codemirror_mode": {
    "name": "ipython",
    "version": 3
   },
   "file_extension": ".py",
   "mimetype": "text/x-python",
   "name": "python",
   "nbconvert_exporter": "python",
   "pygments_lexer": "ipython3",
   "version": "3.10.11"
  }
 },
 "nbformat": 4,
 "nbformat_minor": 5
}
